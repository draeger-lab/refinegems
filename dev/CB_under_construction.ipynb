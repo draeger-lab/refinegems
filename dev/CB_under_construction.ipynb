{
 "cells": [
  {
   "cell_type": "code",
   "execution_count": 1,
   "metadata": {},
   "outputs": [
    {
     "name": "stderr",
     "output_type": "stream",
     "text": [
      "/Users/brune/miniconda3/envs/sprg/lib/python3.10/site-packages/pydantic/_internal/_config.py:322: UserWarning: Valid config keys have changed in V2:\n",
      "* 'underscore_attrs_are_private' has been removed\n",
      "  warnings.warn(message, UserWarning)\n"
     ]
    }
   ],
   "source": [
    "# ideas for a source test\n",
    "import cobra\n",
    "import pandas as pd\n",
    "\n",
    "from refinegems.utility.io import load_model"
   ]
  },
  {
   "cell_type": "code",
   "execution_count": 2,
   "metadata": {},
   "outputs": [],
   "source": [
    "test_model_path = '/Users/brune/Documents/11_Test_Data/test_SPECIMEN/thesis/Kp_std/03_refinement/step4-smoothing/Kp_std_smooth.xml'\n",
    "test_model = load_model(test_model_path,'cobra')\n"
   ]
  },
  {
   "cell_type": "markdown",
   "metadata": {},
   "source": [
    "-----\n",
    "### Plot the basic analysis\n",
    "\n",
    "- one model\n",
    "- collection of models"
   ]
  },
  {
   "cell_type": "code",
   "execution_count": null,
   "metadata": {},
   "outputs": [],
   "source": [
    "# old version of how to plot basic analysis\n",
    "# will absolutely no longer work since it uses a model and the report is no longer based on it.\n",
    "def plot_initial_analysis(models: list[libModel]):\n",
    "    \"\"\"Creates bar plot of number of entities per Model\n",
    "\n",
    "    Args:\n",
    "        - models (list[libModel]): Models loaded with libSBML\n",
    "\n",
    "    Returns:\n",
    "        plot: Pandas Barchart\n",
    "    \"\"\"\n",
    "    numbers = pd.DataFrame([initial_analysis(model) for model in models], columns=['model', 'metabolites', 'reactions', 'genes'])\n",
    "    ax = numbers.set_index('model').plot.bar(y=['metabolites', 'reactions', 'genes'], figsize=(8, 5), cmap='Paired', rot=0)\n",
    "    # commented is possibility to integrate memote scores\n",
    "    #numbers.set_index('model').plot(y='Memote score', ax=ax, use_index=False, linestyle=':', secondary_y='Memote score', color='k', marker='D', legend=True)\n",
    "    #ax.right_ax.set_ylabel('Memote score [%]')\n",
    "    #ax.right_ax.legend(loc='upper right', bbox_to_anchor=[0.98, 0.9])\n",
    "    #ax.right_ax.set_ylim([75, 95])\n",
    "    ax.legend(title=False, loc='upper left', ncol=3, frameon=False)\n",
    "    ylim = numbers.drop('model', axis=1).max().max() + 200\n",
    "    ax.set_ylim([0,ylim])\n",
    "    ax.set_xlabel('')\n",
    "    ax.tick_params(axis='x',which='both', bottom=False,top=False)\n",
    "    return ax"
   ]
  },
  {
   "cell_type": "markdown",
   "metadata": {},
   "source": [
    "#### Plot for a single report"
   ]
  },
  {
   "cell_type": "code",
   "execution_count": 4,
   "metadata": {},
   "outputs": [
    {
     "name": "stderr",
     "output_type": "stream",
     "text": [
      "/Users/brune/miniconda3/envs/sprg/lib/python3.10/site-packages/cobra/core/metabolite.py:129: UserWarning: invalid character '*' found in formula 'HO*'\n",
      "  warn(f\"invalid character '*' found in formula '{self.formula}'\")\n",
      "/Users/brune/miniconda3/envs/sprg/lib/python3.10/site-packages/cobra/core/metabolite.py:129: UserWarning: invalid character '*' found in formula 'C8H14NOS2*'\n",
      "  warn(f\"invalid character '*' found in formula '{self.formula}'\")\n",
      "/Users/brune/miniconda3/envs/sprg/lib/python3.10/site-packages/cobra/core/metabolite.py:129: UserWarning: invalid character '*' found in formula 'HO2*'\n",
      "  warn(f\"invalid character '*' found in formula '{self.formula}'\")\n",
      "/Users/brune/miniconda3/envs/sprg/lib/python3.10/site-packages/cobra/core/metabolite.py:129: UserWarning: invalid character '*' found in formula 'C8H16NOS2*'\n",
      "  warn(f\"invalid character '*' found in formula '{self.formula}'\")\n",
      "/Users/brune/miniconda3/envs/sprg/lib/python3.10/site-packages/cobra/core/metabolite.py:129: UserWarning: invalid character '*' found in formula 'C5H6N2O4*'\n",
      "  warn(f\"invalid character '*' found in formula '{self.formula}'\")\n",
      "/Users/brune/miniconda3/envs/sprg/lib/python3.10/site-packages/cobra/core/metabolite.py:129: UserWarning: invalid character '*' found in formula 'C6H8N2O4*'\n",
      "  warn(f\"invalid character '*' found in formula '{self.formula}'\")\n",
      "/Users/brune/miniconda3/envs/sprg/lib/python3.10/site-packages/cobra/core/metabolite.py:129: UserWarning: invalid character '*' found in formula 'C7H9N4O5P*'\n",
      "  warn(f\"invalid character '*' found in formula '{self.formula}'\")\n",
      "/Users/brune/miniconda3/envs/sprg/lib/python3.10/site-packages/cobra/core/metabolite.py:129: UserWarning: invalid character '*' found in formula 'C7H8N4O2*'\n",
      "  warn(f\"invalid character '*' found in formula '{self.formula}'\")\n",
      "/Users/brune/miniconda3/envs/sprg/lib/python3.10/site-packages/cobra/core/metabolite.py:129: UserWarning: invalid character '*' found in formula 'CO2*'\n",
      "  warn(f\"invalid character '*' found in formula '{self.formula}'\")\n",
      "/Users/brune/miniconda3/envs/sprg/lib/python3.10/site-packages/cobra/core/metabolite.py:129: UserWarning: invalid character '*' found in formula 'C22H35N7O17P3S*'\n",
      "  warn(f\"invalid character '*' found in formula '{self.formula}'\")\n",
      "/Users/brune/miniconda3/envs/sprg/lib/python3.10/site-packages/cobra/core/metabolite.py:129: UserWarning: invalid character '*' found in formula 'C17H27N5O4S*'\n",
      "  warn(f\"invalid character '*' found in formula '{self.formula}'\")\n",
      "/Users/brune/miniconda3/envs/sprg/lib/python3.10/site-packages/cobra/core/metabolite.py:129: UserWarning: invalid character '*' found in formula 'C18H26N5O6S*'\n",
      "  warn(f\"invalid character '*' found in formula '{self.formula}'\")\n",
      "/Users/brune/miniconda3/envs/sprg/lib/python3.10/site-packages/cobra/core/metabolite.py:129: UserWarning: invalid character '*' found in formula 'C15H26O19P3*'\n",
      "  warn(f\"invalid character '*' found in formula '{self.formula}'\")\n",
      "/Users/brune/miniconda3/envs/sprg/lib/python3.10/site-packages/cobra/core/metabolite.py:129: UserWarning: invalid character '*' found in formula 'C5H11O10P2*'\n",
      "  warn(f\"invalid character '*' found in formula '{self.formula}'\")\n",
      "/Users/brune/miniconda3/envs/sprg/lib/python3.10/site-packages/cobra/core/metabolite.py:129: UserWarning: invalid character '*' found in formula 'C6H8N2O2*'\n",
      "  warn(f\"invalid character '*' found in formula '{self.formula}'\")\n",
      "/Users/brune/miniconda3/envs/sprg/lib/python3.10/site-packages/cobra/core/metabolite.py:129: UserWarning: invalid character '*' found in formula 'C10H12N4O4S2*'\n",
      "  warn(f\"invalid character '*' found in formula '{self.formula}'\")\n",
      "/Users/brune/miniconda3/envs/sprg/lib/python3.10/site-packages/cobra/core/metabolite.py:129: UserWarning: invalid character '*' found in formula 'C10H14N4O4S2*'\n",
      "  warn(f\"invalid character '*' found in formula '{self.formula}'\")\n",
      "/Users/brune/miniconda3/envs/sprg/lib/python3.10/site-packages/cobra/core/metabolite.py:129: UserWarning: invalid character '*' found in formula '*'\n",
      "  warn(f\"invalid character '*' found in formula '{self.formula}'\")\n",
      "/Users/brune/miniconda3/envs/sprg/lib/python3.10/site-packages/cobra/core/metabolite.py:129: UserWarning: invalid character '*' found in formula 'CN*'\n",
      "  warn(f\"invalid character '*' found in formula '{self.formula}'\")\n",
      "/Users/brune/miniconda3/envs/sprg/lib/python3.10/site-packages/cobra/core/metabolite.py:129: UserWarning: invalid character '*' found in formula 'C10H15N3O6S*'\n",
      "  warn(f\"invalid character '*' found in formula '{self.formula}'\")\n",
      "/Users/brune/miniconda3/envs/sprg/lib/python3.10/site-packages/cobra/core/metabolite.py:129: UserWarning: invalid character '*' found in formula 'HO4S*'\n",
      "  warn(f\"invalid character '*' found in formula '{self.formula}'\")\n",
      "/Users/brune/miniconda3/envs/sprg/lib/python3.10/site-packages/cobra/core/metabolite.py:129: UserWarning: invalid character '*' found in formula 'C14H22O8P*'\n",
      "  warn(f\"invalid character '*' found in formula '{self.formula}'\")\n",
      "/Users/brune/miniconda3/envs/sprg/lib/python3.10/site-packages/cobra/core/metabolite.py:129: UserWarning: invalid character '*' found in formula 'C15H24O8P*'\n",
      "  warn(f\"invalid character '*' found in formula '{self.formula}'\")\n",
      "/Users/brune/miniconda3/envs/sprg/lib/python3.10/site-packages/cobra/core/metabolite.py:129: UserWarning: invalid character '*' found in formula 'C11H17N4O5S*'\n",
      "  warn(f\"invalid character '*' found in formula '{self.formula}'\")\n",
      "/Users/brune/miniconda3/envs/sprg/lib/python3.10/site-packages/cobra/core/metabolite.py:129: UserWarning: invalid character '*' found in formula 'C12H17N4O6S*'\n",
      "  warn(f\"invalid character '*' found in formula '{self.formula}'\")\n"
     ]
    }
   ],
   "source": [
    "from refinegems.utility.io import load_model\n",
    "\n",
    "test_model_path = '/Users/brune/Documents/11_Test_Data/test_SPECIMEN/thesis/Kp_std/03_refinement/step4-smoothing/Kp_std_smooth.xml'\n",
    "test_model = load_model(test_model_path,'cobra')\n",
    "\n",
    "from refinegems.classes.reports import ModelInfoReport\n",
    "\n",
    "rep = ModelInfoReport(test_model)"
   ]
  },
  {
   "cell_type": "code",
   "execution_count": 38,
   "metadata": {},
   "outputs": [
    {
     "data": {
      "image/png": "[encoded data removed]",
      "text/plain": [
       "<Figure size 640x480 with 1 Axes>"
      ]
     },
     "metadata": {},
     "output_type": "display_data"
    },
    {
     "data": {
      "image/png": "[encoded data removed]",
      "text/plain": [
       "<Figure size 640x480 with 1 Axes>"
      ]
     },
     "metadata": {},
     "output_type": "display_data"
    }
   ],
   "source": [
    "import matplotlib\n",
    "import matplotlib.pyplot as plt\n",
    "import warnings\n",
    "import numpy as np\n",
    "\n",
    "# params\n",
    "# ------\n",
    "color_palette = 'YlGn'\n",
    "\n",
    "# basic settings\n",
    "# --------------\n",
    "\n",
    "# create colour gradient\n",
    "try:\n",
    "    cmap = matplotlib.colormaps[color_palette]\n",
    "except ValueError:\n",
    "    warnings.warn('Unknown color palette, setting it to \"YlGn\"')\n",
    "    cmap = matplotlib.colormaps['YlGn']\n",
    "\n",
    "\n",
    "# 1: plot reacs, metabs and gene counts\n",
    "# -------------------------------------\n",
    "fig, ax = plt.subplots()\n",
    "\n",
    "p = ax.bar(['reactions','metabolites','genes'],\n",
    "       [rep.reac,rep.meta,rep.gene],\n",
    "       color=[cmap(0.25),cmap(0.5),cmap(0.8)],\n",
    "       # edgecolor='black',\n",
    "       )\n",
    "ax.bar_label(p, [rep.reac,rep.meta,rep.gene])\n",
    "ax.set_ylabel('count')\n",
    "# ax.set_xlabel('model entity')\n",
    "\n",
    "\n",
    "# 2: plot reacs with gpr\n",
    "# ----------------------\n",
    "\n",
    "fig, ax = plt.subplots()\n",
    "\n",
    "stacked_bars = {'with gpr': np.array([rep.with_gpr]),\n",
    "                'no gpr': ([rep.reac - rep.with_gpr])}\n",
    "bottom = np.zeros(1)\n",
    "\n",
    "c = 0.3\n",
    "\n",
    "for label,count in stacked_bars.items():\n",
    "    p = ax.barh(['reactions'],count,\n",
    "                label=label, left=0.0,\n",
    "                color=[cmap(c)])\n",
    "    ax.bar_label(p, count, rotation=270)\n",
    "    bottom += count\n",
    "    c += 0.5\n",
    "\n",
    "ax.set_xlabel('count')\n",
    "ax.set_ylabel('reactions')\n",
    "ax.tick_params(left = False,labelleft = False ,\n",
    "                           labelbottom = False, bottom = False)\n",
    "ax.legend()\n",
    "\n",
    "# 3: plot deadends, orhphand etc. for metabs\n",
    "# ------------------------------------------\n",
    "\n",
    "# make a nice chart for all\n",
    "# -------------------------\n",
    "\n",
    "\n",
    "\n",
    "plt.show()"
   ]
  },
  {
   "cell_type": "code",
   "execution_count": null,
   "metadata": {},
   "outputs": [],
   "source": []
  },
  {
   "cell_type": "code",
   "execution_count": 1,
   "metadata": {},
   "outputs": [
    {
     "name": "stderr",
     "output_type": "stream",
     "text": [
      "/Users/brune/miniconda3/envs/sprg/lib/python3.10/site-packages/pydantic/_internal/_config.py:322: UserWarning: Valid config keys have changed in V2:\n",
      "* 'underscore_attrs_are_private' has been removed\n",
      "  warnings.warn(message, UserWarning)\n"
     ]
    },
    {
     "data": {
      "image/png": "[encoded data removed]",
      "text/plain": [
       "<Figure size 640x480 with 1 Axes>"
      ]
     },
     "metadata": {},
     "output_type": "display_data"
    }
   ],
   "source": [
    "# TESTING for Tobias - this stays for a bit \n",
    "from refinegems.utility.io import load_model\n",
    "from refinegems.analysis.growth import growth_analysis\n",
    "from refinegems.classes.medium import load_medium_from_db\n",
    "\n",
    "\n",
    "test_model_path = '/Users/brune/Documents/11_Test_Data/test_SPECIMEN/thesis/Kp_std/03_refinement/step4-smoothing/Kp_std_smooth.xml'\n",
    "test_model = load_model(test_model_path,'cobra')\n",
    "\n",
    "m = load_medium_from_db('LB')\n",
    "l = load_medium_from_db('SNM3')\n",
    "test = growth_analysis(test_model,[m,l], retrieve='plot')"
   ]
  },
  {
   "cell_type": "code",
   "execution_count": 5,
   "metadata": {},
   "outputs": [
    {
     "ename": "IndexError",
     "evalue": "Can only plot growth if at least one model and one medium are present.",
     "output_type": "error",
     "traceback": [
      "\u001b[0;31m---------------------------------------------------------------------------\u001b[0m",
      "\u001b[0;31mIndexError\u001b[0m                                Traceback (most recent call last)",
      "\u001b[1;32m/Users/brune/Documents/10_Code/refinegems/dev/CB_under_construction.ipynb Cell 9\u001b[0m line \u001b[0;36m1\n\u001b[0;32m----> <a href='vscode-notebook-cell:/Users/brune/Documents/10_Code/refinegems/dev/CB_under_construction.ipynb#X12sZmlsZQ%3D%3D?line=0'>1</a>\u001b[0m test\u001b[39m.\u001b[39;49mplot_growth()\n",
      "File \u001b[0;32m~/Documents/10_Code/refinegems/build/__editable__.refineGEMs-1.4.2-py3-none-any/refinegems/classes/reports.py:318\u001b[0m, in \u001b[0;36mGrowthSimulationReport.plot_growth\u001b[0;34m(self, unit, color_palette)\u001b[0m\n\u001b[1;32m    314\u001b[0m     \u001b[39mreturn\u001b[39;00m plot_growth_heatmap(data, color_palette)\n\u001b[1;32m    316\u001b[0m \u001b[39m# problematic case\u001b[39;00m\n\u001b[1;32m    317\u001b[0m \u001b[39melse\u001b[39;00m:\n\u001b[0;32m--> 318\u001b[0m     \u001b[39mraise\u001b[39;00m \u001b[39mIndexError\u001b[39;00m(\u001b[39m'\u001b[39m\u001b[39mCan only plot growth if at least one model and one medium are present.\u001b[39m\u001b[39m'\u001b[39m)\n",
      "\u001b[0;31mIndexError\u001b[0m: Can only plot growth if at least one model and one medium are present."
     ]
    }
   ],
   "source": [
    "test.plot_growth()"
   ]
  },
  {
   "cell_type": "code",
   "execution_count": null,
   "metadata": {},
   "outputs": [],
   "source": []
  }
 ],
 "metadata": {
  "kernelspec": {
   "display_name": "sprg",
   "language": "python",
   "name": "python3"
  },
  "language_info": {
   "codemirror_mode": {
    "name": "ipython",
    "version": 3
   },
   "file_extension": ".py",
   "mimetype": "text/x-python",
   "name": "python",
   "nbconvert_exporter": "python",
   "pygments_lexer": "ipython3",
   "version": "3.10.13"
  }
 },
 "nbformat": 4,
 "nbformat_minor": 2
}
