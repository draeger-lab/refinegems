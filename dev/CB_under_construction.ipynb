{
 "cells": [
  {
   "cell_type": "code",
   "execution_count": null,
   "metadata": {},
   "outputs": [],
   "source": [
    "# ideas for a source test\n",
    "import cobra\n",
    "import pandas as pd\n",
    "\n",
    "from refinegems.utility.io import load_model"
   ]
  },
  {
   "cell_type": "code",
   "execution_count": null,
   "metadata": {},
   "outputs": [],
   "source": [
    "test_model_path = '/Users/brune/Documents/11_Test_Data/test_SPECIMEN/thesis/Kp_std/03_refinement/step4-smoothing/Kp_std_smooth.xml'\n",
    "test_model = load_model(test_model_path,'cobra')\n"
   ]
  },
  {
   "cell_type": "markdown",
   "metadata": {},
   "source": [
    "-----\n",
    "### Plot the basic analysis\n",
    "\n",
    "- one model  -  done more or less\n",
    "- collection of models"
   ]
  },
  {
   "cell_type": "markdown",
   "metadata": {},
   "source": [
    "#### Plot for a single report"
   ]
  },
  {
   "cell_type": "code",
   "execution_count": null,
   "metadata": {},
   "outputs": [],
   "source": [
    "from refinegems.utility.io import load_model\n",
    "from refinegems.classes.reports import ModelInfoReport\n",
    "import matplotlib.pyplot as plt\n",
    "\n",
    "test_model_path = '/Users/brune/Documents/11_Test_Data/test_SPECIMEN/thesis/Kp_std/03_refinement/step4-smoothing/Kp_std_smooth.xml'\n",
    "test_model = load_model(test_model_path,'cobra')\n",
    "\n",
    "rep = ModelInfoReport(test_model)\n",
    "fig = rep.visualise()\n",
    "\n",
    "plt.show()"
   ]
  },
  {
   "cell_type": "code",
   "execution_count": null,
   "metadata": {},
   "outputs": [],
   "source": []
  },
  {
   "cell_type": "markdown",
   "metadata": {},
   "source": [
    "### Testing Growth (for Tobias)"
   ]
  },
  {
   "cell_type": "code",
   "execution_count": 1,
   "metadata": {},
   "outputs": [
    {
     "name": "stderr",
     "output_type": "stream",
     "text": [
      "/Users/brune/miniconda3/envs/sprg/lib/python3.10/site-packages/pydantic/_internal/_config.py:322: UserWarning: Valid config keys have changed in V2:\n",
      "* 'underscore_attrs_are_private' has been removed\n",
      "  warnings.warn(message, UserWarning)\n"
     ]
    }
   ],
   "source": [
    "# TESTING for Tobias - this stays for a bit \n",
    "from refinegems.utility.io import load_model\n",
    "from refinegems.analysis.growth import growth_analysis\n",
    "from refinegems.classes.medium import load_medium_from_db\n",
    "\n",
    "\n",
    "test_model_path = '/Users/brune/Documents/11_Test_Data/test_SPECIMEN/thesis/Kp_std/03_refinement/step4-smoothing/Kp_std_smooth.xml'\n",
    "test_model = load_model(test_model_path,'cobra')\n",
    "\n",
    "m = load_medium_from_db('LB')\n",
    "l = load_medium_from_db('M9')\n",
    "s = load_medium_from_db('SNM3')\n",
    "test = growth_analysis(test_model,[m,l,s], retrieve='report', supplements='std')"
   ]
  },
  {
   "cell_type": "code",
   "execution_count": 2,
   "metadata": {},
   "outputs": [
    {
     "data": {
      "text/html": [
       "<div>\n",
       "<style scoped>\n",
       "    .dataframe tbody tr th:only-of-type {\n",
       "        vertical-align: middle;\n",
       "    }\n",
       "\n",
       "    .dataframe tbody tr th {\n",
       "        vertical-align: top;\n",
       "    }\n",
       "\n",
       "    .dataframe thead th {\n",
       "        text-align: right;\n",
       "    }\n",
       "</style>\n",
       "<table border=\"1\" class=\"dataframe\">\n",
       "  <thead>\n",
       "    <tr style=\"text-align: right;\">\n",
       "      <th></th>\n",
       "      <th>model_name</th>\n",
       "      <th>medium_name</th>\n",
       "      <th>growth_value</th>\n",
       "      <th>doubling_time</th>\n",
       "      <th>additives</th>\n",
       "      <th>no_exchange</th>\n",
       "    </tr>\n",
       "  </thead>\n",
       "  <tbody>\n",
       "    <tr>\n",
       "      <th>0</th>\n",
       "      <td>Kp_std</td>\n",
       "      <td>LB</td>\n",
       "      <td>5.56527</td>\n",
       "      <td>7.472922</td>\n",
       "      <td>None</td>\n",
       "      <td>[EX_pydxn_e, EX_pydx_e, EX_lipt_e, EX_nh3_e, E...</td>\n",
       "    </tr>\n",
       "    <tr>\n",
       "      <th>1</th>\n",
       "      <td>Kp_std</td>\n",
       "      <td>M9</td>\n",
       "      <td>0.00000</td>\n",
       "      <td>0.000000</td>\n",
       "      <td>None</td>\n",
       "      <td>[EX_nh3_e, EX_glc__bD_e]</td>\n",
       "    </tr>\n",
       "  </tbody>\n",
       "</table>\n",
       "</div>"
      ],
      "text/plain": [
       "  model_name medium_name  growth_value  doubling_time additives  \\\n",
       "0     Kp_std          LB       5.56527       7.472922      None   \n",
       "1     Kp_std          M9       0.00000       0.000000      None   \n",
       "\n",
       "                                         no_exchange  \n",
       "0  [EX_pydxn_e, EX_pydx_e, EX_lipt_e, EX_nh3_e, E...  \n",
       "1                           [EX_nh3_e, EX_glc__bD_e]  "
      ]
     },
     "execution_count": 2,
     "metadata": {},
     "output_type": "execute_result"
    }
   ],
   "source": [
    "# test.plot_growth(unit='h')\n",
    "test.to_table()"
   ]
  },
  {
   "cell_type": "code",
   "execution_count": null,
   "metadata": {},
   "outputs": [],
   "source": []
  }
 ],
 "metadata": {
  "kernelspec": {
   "display_name": "sprg",
   "language": "python",
   "name": "python3"
  },
  "language_info": {
   "codemirror_mode": {
    "name": "ipython",
    "version": 3
   },
   "file_extension": ".py",
   "mimetype": "text/x-python",
   "name": "python",
   "nbconvert_exporter": "python",
   "pygments_lexer": "ipython3",
   "version": "3.10.13"
  }
 },
 "nbformat": 4,
 "nbformat_minor": 2
}
