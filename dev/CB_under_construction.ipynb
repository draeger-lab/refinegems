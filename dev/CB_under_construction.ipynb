{
 "cells": [
  {
   "cell_type": "code",
   "execution_count": 1,
   "metadata": {},
   "outputs": [
    {
     "name": "stderr",
     "output_type": "stream",
     "text": [
      "/Users/brune/miniconda3/envs/sprg/lib/python3.10/site-packages/pydantic/_internal/_config.py:322: UserWarning: Valid config keys have changed in V2:\n",
      "* 'underscore_attrs_are_private' has been removed\n",
      "  warnings.warn(message, UserWarning)\n"
     ]
    }
   ],
   "source": [
    "# ideas for a source test\n",
    "import cobra\n",
    "import pandas as pd\n",
    "\n",
    "from refinegems.utility.io import load_model"
   ]
  },
  {
   "cell_type": "code",
   "execution_count": 13,
   "metadata": {},
   "outputs": [
    {
     "ename": "AttributeError",
     "evalue": "module 'refinegems.utility.io' has no attribute 'load_model'",
     "output_type": "error",
     "traceback": [
      "\u001b[0;31m---------------------------------------------------------------------------\u001b[0m",
      "\u001b[0;31mAttributeError\u001b[0m                            Traceback (most recent call last)",
      "\u001b[1;32m/Users/brune/Documents/10_Code/refinegems/src/refinegems/dev/CB_under_construction.ipynb Cell 2\u001b[0m line \u001b[0;36m2\n\u001b[1;32m      <a href='vscode-notebook-cell:/Users/brune/Documents/10_Code/refinegems/src/refinegems/dev/CB_under_construction.ipynb#W1sZmlsZQ%3D%3D?line=0'>1</a>\u001b[0m test_model_path \u001b[39m=\u001b[39m \u001b[39m'\u001b[39m\u001b[39m/Users/brune/Documents/11_Test_Data/test_SPECIMEN/thesis/Kp_std/03_refinement/step4-smoothing/Kp_std_smooth.xml\u001b[39m\u001b[39m'\u001b[39m\n\u001b[0;32m----> <a href='vscode-notebook-cell:/Users/brune/Documents/10_Code/refinegems/src/refinegems/dev/CB_under_construction.ipynb#W1sZmlsZQ%3D%3D?line=1'>2</a>\u001b[0m test_model \u001b[39m=\u001b[39m refinegems\u001b[39m.\u001b[39;49mutility\u001b[39m.\u001b[39;49mio\u001b[39m.\u001b[39;49mload_model(test_model_path,\u001b[39m'\u001b[39m\u001b[39mcobra\u001b[39m\u001b[39m'\u001b[39m)\n",
      "\u001b[0;31mAttributeError\u001b[0m: module 'refinegems.utility.io' has no attribute 'load_model'"
     ]
    }
   ],
   "source": [
    "test_model_path = '/Users/brune/Documents/11_Test_Data/test_SPECIMEN/thesis/Kp_std/03_refinement/step4-smoothing/Kp_std_smooth.xml'\n",
    "test_model = refinegems.utility.io.load_model(test_model_path,'cobra')\n"
   ]
  },
  {
   "cell_type": "markdown",
   "metadata": {},
   "source": [
    "-----\n",
    "### Plot the basic analysis\n",
    "\n",
    "- one model\n",
    "- collection of models"
   ]
  },
  {
   "cell_type": "code",
   "execution_count": null,
   "metadata": {},
   "outputs": [],
   "source": [
    "# old version of how to plot basic analysis\n",
    "# will absolutely no longer work since it uses a model and the report is no longer based on it.\n",
    "def plot_initial_analysis(models: list[libModel]):\n",
    "    \"\"\"Creates bar plot of number of entities per Model\n",
    "\n",
    "    Args:\n",
    "        - models (list[libModel]): Models loaded with libSBML\n",
    "\n",
    "    Returns:\n",
    "        plot: Pandas Barchart\n",
    "    \"\"\"\n",
    "    numbers = pd.DataFrame([initial_analysis(model) for model in models], columns=['model', 'metabolites', 'reactions', 'genes'])\n",
    "    ax = numbers.set_index('model').plot.bar(y=['metabolites', 'reactions', 'genes'], figsize=(8, 5), cmap='Paired', rot=0)\n",
    "    # commented is possibility to integrate memote scores\n",
    "    #numbers.set_index('model').plot(y='Memote score', ax=ax, use_index=False, linestyle=':', secondary_y='Memote score', color='k', marker='D', legend=True)\n",
    "    #ax.right_ax.set_ylabel('Memote score [%]')\n",
    "    #ax.right_ax.legend(loc='upper right', bbox_to_anchor=[0.98, 0.9])\n",
    "    #ax.right_ax.set_ylim([75, 95])\n",
    "    ax.legend(title=False, loc='upper left', ncol=3, frameon=False)\n",
    "    ylim = numbers.drop('model', axis=1).max().max() + 200\n",
    "    ax.set_ylim([0,ylim])\n",
    "    ax.set_xlabel('')\n",
    "    ax.tick_params(axis='x',which='both', bottom=False,top=False)\n",
    "    return ax"
   ]
  },
  {
   "cell_type": "code",
   "execution_count": null,
   "metadata": {},
   "outputs": [],
   "source": [
    "from refinegems.classes.reports import ModelInfoReport\n",
    "\n",
    "rep = ModelInfoReport(test_model)"
   ]
  }
 ],
 "metadata": {
  "kernelspec": {
   "display_name": "sprg",
   "language": "python",
   "name": "python3"
  },
  "language_info": {
   "codemirror_mode": {
    "name": "ipython",
    "version": 3
   },
   "file_extension": ".py",
   "mimetype": "text/x-python",
   "name": "python",
   "nbconvert_exporter": "python",
   "pygments_lexer": "ipython3",
   "version": "3.10.13"
  }
 },
 "nbformat": 4,
 "nbformat_minor": 2
}
