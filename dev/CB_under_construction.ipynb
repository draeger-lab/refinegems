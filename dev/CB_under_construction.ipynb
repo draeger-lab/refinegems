{
 "cells": [
  {
   "cell_type": "code",
   "execution_count": 132,
   "metadata": {},
   "outputs": [],
   "source": [
    "import cobra\n",
    "import pandas as pd\n",
    "import numpy as np\n",
    "\n",
    "from scipy.optimize import curve_fit\n",
    "\n",
    "import refinegems"
   ]
  },
  {
   "cell_type": "markdown",
   "metadata": {},
   "source": [
    "## Fix problem with Infeasible Error in get_secretion"
   ]
  },
  {
   "cell_type": "code",
   "execution_count": 66,
   "metadata": {},
   "outputs": [],
   "source": [
    "#model = cobra.io.load_model('iJO1366')\n",
    "\n",
    "testpath = \"/Users/brune/Downloads/iAF692.xml\"\n",
    "model = refinegems.utility.io.load_model(testpath,'cobra')"
   ]
  },
  {
   "cell_type": "code",
   "execution_count": 67,
   "metadata": {},
   "outputs": [
    {
     "name": "stdout",
     "output_type": "stream",
     "text": [
      "['EX_ch4_e', 'EX_ch4s_e', 'EX_co2_e', 'EX_gcald_e', 'EX_gly_e', 'EX_h2o_e', 'EX_h_e', 'EX_unknown_rbfdeg_e']\n"
     ]
    }
   ],
   "source": [
    "with model:\n",
    "\n",
    "    sf = model.summary().secretion_flux\n",
    "    s = sf[sf['flux'] < 0.0].index.tolist()\n",
    "\n",
    "    print(s)"
   ]
  },
  {
   "cell_type": "code",
   "execution_count": 68,
   "metadata": {},
   "outputs": [
    {
     "data": {
      "text/html": [
       "<strong><em>Optimal</em> solution with objective value 0.027</strong><br><div>\n",
       "<style scoped>\n",
       "    .dataframe tbody tr th:only-of-type {\n",
       "        vertical-align: middle;\n",
       "    }\n",
       "\n",
       "    .dataframe tbody tr th {\n",
       "        vertical-align: top;\n",
       "    }\n",
       "\n",
       "    .dataframe thead th {\n",
       "        text-align: right;\n",
       "    }\n",
       "</style>\n",
       "<table border=\"1\" class=\"dataframe\">\n",
       "  <thead>\n",
       "    <tr style=\"text-align: right;\">\n",
       "      <th></th>\n",
       "      <th>fluxes</th>\n",
       "      <th>reduced_costs</th>\n",
       "    </tr>\n",
       "  </thead>\n",
       "  <tbody>\n",
       "    <tr>\n",
       "      <th>ASPCT</th>\n",
       "      <td>0.009144</td>\n",
       "      <td>1.387779e-17</td>\n",
       "    </tr>\n",
       "    <tr>\n",
       "      <th>ASPK</th>\n",
       "      <td>0.034231</td>\n",
       "      <td>-1.387779e-17</td>\n",
       "    </tr>\n",
       "    <tr>\n",
       "      <th>ASPTA</th>\n",
       "      <td>-0.079818</td>\n",
       "      <td>4.751337e-18</td>\n",
       "    </tr>\n",
       "    <tr>\n",
       "      <th>ASPTRS</th>\n",
       "      <td>0.000000</td>\n",
       "      <td>4.163336e-17</td>\n",
       "    </tr>\n",
       "    <tr>\n",
       "      <th>ATGH</th>\n",
       "      <td>0.000018</td>\n",
       "      <td>-1.942890e-16</td>\n",
       "    </tr>\n",
       "    <tr>\n",
       "      <th>...</th>\n",
       "      <td>...</td>\n",
       "      <td>...</td>\n",
       "    </tr>\n",
       "    <tr>\n",
       "      <th>VALt2r</th>\n",
       "      <td>0.000000</td>\n",
       "      <td>-1.252600e-18</td>\n",
       "    </tr>\n",
       "    <tr>\n",
       "      <th>VOR</th>\n",
       "      <td>0.000000</td>\n",
       "      <td>3.320615e-18</td>\n",
       "    </tr>\n",
       "    <tr>\n",
       "      <th>XPPT</th>\n",
       "      <td>0.000000</td>\n",
       "      <td>-3.874205e-02</td>\n",
       "    </tr>\n",
       "    <tr>\n",
       "      <th>YUMPS</th>\n",
       "      <td>0.000000</td>\n",
       "      <td>-0.000000e+00</td>\n",
       "    </tr>\n",
       "    <tr>\n",
       "      <th>ZNabc</th>\n",
       "      <td>0.000000</td>\n",
       "      <td>-3.122502e-17</td>\n",
       "    </tr>\n",
       "  </tbody>\n",
       "</table>\n",
       "<p>690 rows × 2 columns</p>\n",
       "</div>"
      ],
      "text/plain": [
       "<Solution 0.027 at 0x315273f70>"
      ]
     },
     "execution_count": 68,
     "metadata": {},
     "output_type": "execute_result"
    }
   ],
   "source": [
    "model.optimize()"
   ]
  },
  {
   "cell_type": "markdown",
   "metadata": {},
   "source": [
    "## Deal with external media"
   ]
  },
  {
   "cell_type": "code",
   "execution_count": 2,
   "metadata": {},
   "outputs": [
    {
     "name": "stderr",
     "output_type": "stream",
     "text": [
      "/Users/brune/miniconda3/envs/sprg/lib/python3.10/site-packages/pydantic/_internal/_config.py:322: UserWarning: Valid config keys have changed in V2:\n",
      "* 'underscore_attrs_are_private' has been removed\n",
      "  warnings.warn(message, UserWarning)\n"
     ]
    }
   ],
   "source": [
    "from refinegems.classes.medium import read_substances_from_file, read_external_medium"
   ]
  },
  {
   "cell_type": "code",
   "execution_count": 3,
   "metadata": {},
   "outputs": [
    {
     "data": {
      "text/html": [
       "<div>\n",
       "<style scoped>\n",
       "    .dataframe tbody tr th:only-of-type {\n",
       "        vertical-align: middle;\n",
       "    }\n",
       "\n",
       "    .dataframe tbody tr th {\n",
       "        vertical-align: top;\n",
       "    }\n",
       "\n",
       "    .dataframe thead th {\n",
       "        text-align: right;\n",
       "    }\n",
       "</style>\n",
       "<table border=\"1\" class=\"dataframe\">\n",
       "  <thead>\n",
       "    <tr style=\"text-align: right;\">\n",
       "      <th></th>\n",
       "      <th>name</th>\n",
       "      <th>formula</th>\n",
       "      <th>flux</th>\n",
       "      <th>source</th>\n",
       "      <th>BiGG</th>\n",
       "      <th>VMH</th>\n",
       "    </tr>\n",
       "  </thead>\n",
       "  <tbody>\n",
       "    <tr>\n",
       "      <th>0</th>\n",
       "      <td>Water</td>\n",
       "      <td>H2O</td>\n",
       "      <td>10.0</td>\n",
       "      <td>water</td>\n",
       "      <td>h20</td>\n",
       "      <td>h20</td>\n",
       "    </tr>\n",
       "  </tbody>\n",
       "</table>\n",
       "</div>"
      ],
      "text/plain": [
       "    name formula  flux source BiGG  VMH\n",
       "0  Water     H2O  10.0  water  h20  h20"
      ]
     },
     "execution_count": 3,
     "metadata": {},
     "output_type": "execute_result"
    }
   ],
   "source": [
    "filepath = '/Users/brune/Documents/20_Projects/01_sprg/media-test/test.tsv'\n",
    "subs = read_substances_from_file(filepath)\n",
    "subs"
   ]
  },
  {
   "cell_type": "code",
   "execution_count": 5,
   "metadata": {},
   "outputs": [
    {
     "data": {
      "text/plain": [
       "<refinegems.classes.medium.Medium at 0x10d8289a0>"
      ]
     },
     "execution_count": 5,
     "metadata": {},
     "output_type": "execute_result"
    }
   ],
   "source": [
    "filepath = '/Users/brune/Documents/20_Projects/01_sprg/media-test/test.tsv'\n",
    "medium = read_external_medium('file', path=filepath)\n",
    "medium"
   ]
  },
  {
   "cell_type": "code",
   "execution_count": 10,
   "metadata": {},
   "outputs": [
    {
     "data": {
      "text/html": [
       "<div>\n",
       "<style scoped>\n",
       "    .dataframe tbody tr th:only-of-type {\n",
       "        vertical-align: middle;\n",
       "    }\n",
       "\n",
       "    .dataframe tbody tr th {\n",
       "        vertical-align: top;\n",
       "    }\n",
       "\n",
       "    .dataframe thead th {\n",
       "        text-align: right;\n",
       "    }\n",
       "</style>\n",
       "<table border=\"1\" class=\"dataframe\">\n",
       "  <thead>\n",
       "    <tr style=\"text-align: right;\">\n",
       "      <th></th>\n",
       "      <th>name</th>\n",
       "      <th>formula</th>\n",
       "      <th>flux</th>\n",
       "      <th>source</th>\n",
       "      <th>BiGG</th>\n",
       "      <th>VMH</th>\n",
       "    </tr>\n",
       "  </thead>\n",
       "  <tbody>\n",
       "    <tr>\n",
       "      <th>0</th>\n",
       "      <td>Water</td>\n",
       "      <td>H2O</td>\n",
       "      <td>10.0</td>\n",
       "      <td>water</td>\n",
       "      <td>h20</td>\n",
       "      <td>h20</td>\n",
       "    </tr>\n",
       "  </tbody>\n",
       "</table>\n",
       "</div>"
      ],
      "text/plain": [
       "    name formula  flux source BiGG  VMH\n",
       "0  Water     H2O  10.0  water  h20  h20"
      ]
     },
     "execution_count": 10,
     "metadata": {},
     "output_type": "execute_result"
    }
   ],
   "source": [
    "medium.substance_table"
   ]
  },
  {
   "cell_type": "code",
   "execution_count": null,
   "metadata": {},
   "outputs": [],
   "source": []
  },
  {
   "cell_type": "markdown",
   "metadata": {},
   "source": [
    "## Build growth curves from data"
   ]
  },
  {
   "cell_type": "code",
   "execution_count": 1,
   "metadata": {},
   "outputs": [],
   "source": [
    "import pandas as pd\n",
    "import math\n",
    "import matplotlib.pyplot as plt\n",
    "import numpy as np\n",
    "\n",
    "from scipy.optimize import curve_fit"
   ]
  },
  {
   "cell_type": "code",
   "execution_count": 2,
   "metadata": {},
   "outputs": [],
   "source": [
    "filepath = '/Users/brune/Documents/20_Projects/01_sprg/growth-curves/invitro_growth/Growth_ODs_plate1.tsv'\n",
    "filepath1 = '/Users/brune/Documents/20_Projects/01_sprg/growth-curves/invitro_growth/Growth_ODs_plate2.tsv'\n",
    "filepath2 = '/Users/brune/Documents/20_Projects/01_sprg/growth-curves/invitro_growth/Growth_ODs_plate3.tsv'\n",
    "filepaths = [filepath,filepath1,filepath2]"
   ]
  },
  {
   "cell_type": "code",
   "execution_count": 3,
   "metadata": {},
   "outputs": [],
   "source": [
    "def extract_test_info(df):\n",
    "    test_info = dict()\n",
    "    blanks = dict()\n",
    "    test_cell = df.columns[1:]\n",
    "    used_medium = df.iloc[0,1:]\n",
    "    tested_strain = df.iloc[1,1:]\n",
    "    for t,m,s in zip(test_cell,used_medium,tested_strain):\n",
    "        if 'blank' == s:\n",
    "            if m in blanks.keys():\n",
    "                blanks[m].append(t)\n",
    "            else:\n",
    "                blanks[m] = [t]\n",
    "        else:\n",
    "            temp = str(m)+'_'+str(s)\n",
    "            if temp in test_info.keys():\n",
    "                test_info[temp].append(t) \n",
    "            else:\n",
    "                test_info[temp] = [t]\n",
    "    return test_info,blanks\n",
    "\n",
    "\n",
    "def convert_table(df, timeinterval=15):\n",
    "\n",
    "    # drop unneeded columns\n",
    "    df.drop(df.columns[2],axis=1,inplace=True) # drop temperature\n",
    "    df.drop(df.columns[0],axis=1,inplace=True) # drop first column\n",
    "\n",
    "    # extract cell information\n",
    "    info,blanks = extract_test_info(df)\n",
    "\n",
    "    # drop extracted information\n",
    "    df.drop(df.index[0],axis=0,inplace=True) \n",
    "    df.drop(df.index[0],axis=0,inplace=True)\n",
    "\n",
    "    # adjust time \n",
    "    timecol = [timeinterval*_ for _ in range(0,len(df.index),1)]\n",
    "    df.index = timecol\n",
    "    df.drop(df.columns[0],axis=1,inplace=True)\n",
    "\n",
    "    # calculate mean of blanks\n",
    "    df = df.apply(pd.to_numeric)\n",
    "    for btype,blist in blanks.items():\n",
    "        df[btype] = df[blist].mean(axis=1)\n",
    "        df.drop(blist,axis=1,inplace=True)\n",
    "\n",
    "    # baseline correction\n",
    "    for condition,positions in info.items():\n",
    "        m = condition.split('_')[0]\n",
    "        for p in positions:\n",
    "            df[p] = df[p]-df[m]\n",
    "\n",
    "    # remove blanks\n",
    "    df.drop(blanks.keys(),axis=1,inplace=True)\n",
    "\n",
    "    return df,info\n",
    "\n",
    "def read_in_experiments(filepaths, timeinterval=15, skiprows=51):  # maybe quarks for read_csv\n",
    "\n",
    "    info = dict()\n",
    "    data = 0\n",
    "\n",
    "    # read in all test data\n",
    "    for idx in range(0,len(filepaths)):\n",
    "        # read in the new table\n",
    "        current = pd.read_csv(filepath, sep='\\t', skiprows=skiprows)\n",
    "        suffix = str(idx)\n",
    "        current.rename(columns={c:c+'_'+suffix for c in list(current.columns)}, inplace=True)\n",
    "        # covert table into correct format + baseline correction\n",
    "        current_data,current_info = convert_table(current,timeinterval)\n",
    "        # concat data\n",
    "        if isinstance(data,pd.DataFrame):\n",
    "            for k,v in current_info.items():\n",
    "                if k in info.keys():\n",
    "                    info[k] = info[k]+current_info[k]\n",
    "                else:\n",
    "                    # Should not happen - maybe print a warning?\n",
    "                    info[k] = current_info\n",
    "            data = pd.concat([data,current_data],axis=1)\n",
    "        else:\n",
    "            info = current_info\n",
    "            data = current_data\n",
    "\n",
    "    return data,info\n",
    "\n",
    "def calculate_bio_mean(data_table, data_info):\n",
    "\n",
    "    means = dict()\n",
    "    stdevs = dict()\n",
    "\n",
    "    # calculate the mean over the replicates\n",
    "    for condition,positions in data_info.items():\n",
    "        means[condition] = data_table[positions].mean(axis=1)\n",
    "        stdevs[condition] = data_table[positions].std(axis=1)\n",
    "\n",
    "    means = pd.DataFrame(means)\n",
    "    stdevs = pd.DataFrame(stdevs)\n",
    "\n",
    "    return means,stdevs\n"
   ]
  },
  {
   "cell_type": "code",
   "execution_count": 4,
   "metadata": {},
   "outputs": [],
   "source": [
    "data,info = read_in_experiments(filepaths)\n",
    "dmean, dstd = calculate_bio_mean(data,info)"
   ]
  },
  {
   "cell_type": "code",
   "execution_count": 5,
   "metadata": {},
   "outputs": [],
   "source": [
    "def gompertz_model(t,a,b,c): #based on Franses94\n",
    "    return a*np.exp(-b*np.exp(-c*t))\n",
    "\n",
    "def fourparam_gompertz_model(t,a,b,ku,ti): \n",
    "    return b+((a-b)*np.exp(-np.exp(-ku*(t-ti))))\n",
    "\n",
    "def logistic_mod(t, K, N0, r): #asadi2020\n",
    "    return K/(1+((K-N0)/N0)*np.exp(-r*t))"
   ]
  },
  {
   "cell_type": "code",
   "execution_count": 162,
   "metadata": {},
   "outputs": [],
   "source": [
    "def fit_growth_curve(dmean,dstd,fit,col,perc=None):\n",
    "\n",
    "    # idea:\n",
    "    # get indx at max \n",
    "    # get index at first position with condition idx > idx_max & value < x% max\n",
    "    # only take values with values smaller than the idx calculated above \n",
    "    # (if result else take all)\n",
    "\n",
    "    xdata = dmean.index\n",
    "    ydata = dmean.iloc[:,col]\n",
    "    errdata = dstd.iloc[:,col]\n",
    "    cutoff = None\n",
    "    if perc:\n",
    "        max_point = (dmean.iloc[:,col].idxmax(), dmean.iloc[:,col].max())\n",
    "        temp = dmean.iloc[:,col][(dmean.index > max_point[0]) & (dmean.iloc[:,col] < perc*max_point[1])]\n",
    "        if len(temp) > 0:\n",
    "            cutoff = temp.index[0]\n",
    "            xdata = dmean.index[dmean.index < cutoff]\n",
    "            ydata = dmean.iloc[dmean.index < cutoff,col]\n",
    "            errdata = dstd.iloc[dmean.index < cutoff,col]        \n",
    "\n",
    "    match fit:\n",
    "\n",
    "        case 'gompertz4':\n",
    "            solution = curve_fit(fourparam_gompertz_model, xdata, \n",
    "                                 ydata, sigma=errdata, method='lm', \n",
    "                                 p0=np.asarray([0.2,0.005,0.05,0.05])) #p0=np.asarray([0.2,0.005,0.05,30]) \n",
    "\n",
    "        case 'logistic':\n",
    "            solution = curve_fit(logistic_mod, xdata, ydata, \n",
    "                                 sigma=errdata, method='lm', \n",
    "                                 p0=np.asarray([0.2,0.005,0.05])) #p0=np.asarray([0.2,0.005,0.05,30]) \n",
    "\n",
    "    return cutoff,solution"
   ]
  },
  {
   "cell_type": "code",
   "execution_count": 163,
   "metadata": {},
   "outputs": [],
   "source": [
    "def plot_growth_curves(dmean,dstd,solu, cutoff, col, fit):\n",
    "\n",
    "    # plot the mean data points\n",
    "    plt.scatter(x=list(dmean.index),\n",
    "                y=list(dmean.iloc[:,col]),\n",
    "                marker='.'\n",
    "                )\n",
    "    # plots the error bars\n",
    "    plt.errorbar(x=list(dmean.index),\n",
    "                y=list(dmean.iloc[:,col]),\n",
    "                xerr=dstd.iloc[:,col],\n",
    "                yerr=dstd.iloc[:,col],\n",
    "                fmt='none',\n",
    "                alpha=0.5\n",
    "                )\n",
    "    \n",
    "    # filter data for fit, if cutoff was set\n",
    "    if cutoff:\n",
    "        xdata = list(dmean.index[dmean.index < cutoff])\n",
    "    else:\n",
    "        xdata = list(dmean.index)\n",
    "\n",
    "    # visualise the fit\n",
    "    match fit:\n",
    "        \n",
    "        case 'gompertz4':\n",
    "            plt.plot(xdata,\n",
    "                     [fourparam_gompertz_model(point,solu[0][0],solu[0][1],solu[0][2],solu[0][3]) for point in xdata],\n",
    "                    color='red')\n",
    "            \n",
    "        case 'logistic':\n",
    "            plt.plot(xdata,\n",
    "                     [logistic_mod(point,solu[0][0],solu[0][1],solu[0][2]) for point in xdata],\n",
    "                    color='red')\n",
    "    "
   ]
  },
  {
   "cell_type": "code",
   "execution_count": 164,
   "metadata": {},
   "outputs": [
    {
     "name": "stdout",
     "output_type": "stream",
     "text": [
      "RPMI_147\n",
      "192.0428474846806\n"
     ]
    },
    {
     "data": {
      "image/png": "[encoded data removed]",
      "text/plain": [
       "<Figure size 640x480 with 1 Axes>"
      ]
     },
     "metadata": {},
     "output_type": "display_data"
    }
   ],
   "source": [
    "x = 5\n",
    "#fit = 'logistic'\n",
    "fit = 'gompertz4'\n",
    "cut, solu = fit_growth_curve(dmean,dstd,fit,x,None)\n",
    "print(dmean.columns[x])\n",
    "print(np.log(2)/(solu[0][2]))\n",
    "plot_growth_curves(dmean,dstd,solu,cut,x,fit)"
   ]
  },
  {
   "cell_type": "code",
   "execution_count": null,
   "metadata": {},
   "outputs": [],
   "source": []
  },
  {
   "cell_type": "code",
   "execution_count": null,
   "metadata": {},
   "outputs": [],
   "source": []
  }
 ],
 "metadata": {
  "kernelspec": {
   "display_name": "sprg",
   "language": "python",
   "name": "python3"
  },
  "language_info": {
   "codemirror_mode": {
    "name": "ipython",
    "version": 3
   },
   "file_extension": ".py",
   "mimetype": "text/x-python",
   "name": "python",
   "nbconvert_exporter": "python",
   "pygments_lexer": "ipython3",
   "version": "3.10.14"
  }
 },
 "nbformat": 4,
 "nbformat_minor": 2
}
