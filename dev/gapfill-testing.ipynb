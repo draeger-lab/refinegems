{
 "cells": [
  {
   "cell_type": "code",
   "execution_count": 1,
   "metadata": {},
   "outputs": [],
   "source": [
    "%load_ext autoreload\n",
    "%autoreload 2"
   ]
  },
  {
   "cell_type": "code",
   "execution_count": 2,
   "metadata": {},
   "outputs": [
    {
     "name": "stdout",
     "output_type": "stream",
     "text": [
      "Running in debugging mode.\n"
     ]
    }
   ],
   "source": [
    "from refinegems.classes.gapfill import GeneGapFiller\n",
    "from refinegems.utility.io import load_model\n",
    "\n",
    "modelpath = '/Users/brune/Documents/11_Test_Data/test_refinegems/test_gapfill/JSC1435/JCSC1435.xml'\n",
    "model = load_model(modelpath,'libsbml')\n",
    "cmodel = load_model(modelpath,'cobra')\n",
    "\n",
    "gffpath = '/Users/brune/Documents/11_Test_Data/test_refinegems/test_gapfill/JSC1435/JCSC1435_RefSeq.gff'\n",
    "\n",
    "gf2 = GeneGapFiller()\n",
    "gf2_missing_genes = gf2.get_missing_genes(gffpath,model)\n",
    "# ncbiprotein | locus_tag | ec-code\n",
    "\n",
    "tfasta = '/Users/brune/Documents/11_Test_Data/test_refinegems/test_gapfill/JSC1435/JCSC1435_proteins_genome.fasta'\n",
    "spdb = '/Users/brune/Documents/11_Test_Data/test_refinegems/test_gapfill/swissprot.dmnd'\n",
    "# gf2_missing_genes\n",
    "spmap = '/Users/brune/Documents/11_Test_Data/test_refinegems/test_gapfill/uniprot_table.tsv'\n",
    "kwargs = {'outdir':'/Users/brune/Documents/11_Test_Data/test_refinegems/test_gapfill/JSC1435',\n",
    "          'sens':'more-sensitive',\n",
    "          'cov':90.0,\n",
    "          't':4,\n",
    "          'pid':90.0}\n",
    "\n",
    "mapped_res = gf2.get_missing_reacs(model=cmodel,\n",
    "                                   missing_genes=gf2_missing_genes,\n",
    "                                   fasta=tfasta, \n",
    "                                   dmnd_db=spdb,\n",
    "                                   swissprot_map=spmap,\n",
    "                                   **kwargs)"
   ]
  },
  {
   "cell_type": "code",
   "execution_count": 4,
   "metadata": {},
   "outputs": [
    {
     "data": {
      "text/html": [
       "<div>\n",
       "<style scoped>\n",
       "    .dataframe tbody tr th:only-of-type {\n",
       "        vertical-align: middle;\n",
       "    }\n",
       "\n",
       "    .dataframe tbody tr th {\n",
       "        vertical-align: top;\n",
       "    }\n",
       "\n",
       "    .dataframe thead th {\n",
       "        text-align: right;\n",
       "    }\n",
       "</style>\n",
       "<table border=\"1\" class=\"dataframe\">\n",
       "  <thead>\n",
       "    <tr style=\"text-align: right;\">\n",
       "      <th></th>\n",
       "      <th>ncbiprotein</th>\n",
       "      <th>locus_tag</th>\n",
       "      <th>ec-code</th>\n",
       "      <th>UniProt</th>\n",
       "    </tr>\n",
       "  </thead>\n",
       "  <tbody>\n",
       "    <tr>\n",
       "      <th>4</th>\n",
       "      <td>WP_011274363.1</td>\n",
       "      <td>SH0005</td>\n",
       "      <td>5.6.2.2</td>\n",
       "      <td>[Q5HK03, Q8CQK4, Q6GKU0, Q2FKQ1, Q6GD85, P0A0K...</td>\n",
       "    </tr>\n",
       "  </tbody>\n",
       "</table>\n",
       "</div>"
      ],
      "text/plain": [
       "      ncbiprotein locus_tag  ec-code  \\\n",
       "4  WP_011274363.1    SH0005  5.6.2.2   \n",
       "\n",
       "                                             UniProt  \n",
       "4  [Q5HK03, Q8CQK4, Q6GKU0, Q2FKQ1, Q6GD85, P0A0K...  "
      ]
     },
     "execution_count": 4,
     "metadata": {},
     "output_type": "execute_result"
    }
   ],
   "source": [
    "mapped_res[0]"
   ]
  },
  {
   "cell_type": "markdown",
   "metadata": {},
   "source": [
    "### SwissProt Setup"
   ]
  },
  {
   "cell_type": "code",
   "execution_count": 6,
   "metadata": {},
   "outputs": [],
   "source": [
    "# @TODO\n",
    "# SwissProt Download\n",
    "# (mappings + sequences can be downloaded from DB)\n",
    "# two tables: \n",
    "#   1.: TSV with UniprotID, BRENDA and EC -7.7MB (26.07.2024)\n",
    "#   2.: FASTA with sequences ~280MB (26.07.2024)\n",
    "# more infos:\n",
    "#   - API generation possible for automatic download\n",
    "#   - maybe write a small script to download stuff and shorten to actual EC/BRENDA mappings\n",
    "\n",
    "# current_release or complete? differences?\n",
    "swissprot_api = 'https://ftp.uniprot.org/pub/databases/uniprot/current_release/knowledgebase/complete/uniprot_sprot.fasta.gz'\n",
    "swissprot_mapping_api = 'https://rest.uniprot.org/uniprotkb/stream?compressed=true&fields=accession%2Cxref_brenda%2Cec%2Csequence&format=tsv&query=%28*%29+AND+%28reviewed%3Atrue%29'\n",
    "\n",
    "# use Python code e.g. requests or\n",
    "# use a bash script for this? (OS-independancy might become a problem...)\n",
    "\n",
    "def download_swissprot_for_gapfill():\n",
    "    pass\n",
    "    # download FASTA\n",
    "    # download mapping\n",
    "    # (optionally) contruct DIAMOND DB"
   ]
  },
  {
   "cell_type": "code",
   "execution_count": null,
   "metadata": {},
   "outputs": [],
   "source": []
  },
  {
   "cell_type": "code",
   "execution_count": null,
   "metadata": {},
   "outputs": [],
   "source": []
  }
 ],
 "metadata": {
  "kernelspec": {
   "display_name": "sprg",
   "language": "python",
   "name": "python3"
  },
  "language_info": {
   "codemirror_mode": {
    "name": "ipython",
    "version": 3
   },
   "file_extension": ".py",
   "mimetype": "text/x-python",
   "name": "python",
   "nbconvert_exporter": "python",
   "pygments_lexer": "ipython3",
   "version": "3.10.14"
  }
 },
 "nbformat": 4,
 "nbformat_minor": 2
}
