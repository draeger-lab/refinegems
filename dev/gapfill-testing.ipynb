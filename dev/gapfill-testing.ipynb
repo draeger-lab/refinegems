{
 "cells": [
  {
   "cell_type": "code",
   "execution_count": 1,
   "metadata": {},
   "outputs": [],
   "source": [
    "%load_ext autoreload\n",
    "%autoreload 2"
   ]
  },
  {
   "cell_type": "markdown",
   "metadata": {},
   "source": [
    "## KEGGapFiller Example"
   ]
  },
  {
   "cell_type": "code",
   "execution_count": 1,
   "metadata": {},
   "outputs": [
    {
     "name": "stderr",
     "output_type": "stream",
     "text": [
      "/Users/brune/miniconda3/envs/sprg/lib/python3.10/site-packages/pydantic/_internal/_config.py:322: UserWarning: Valid config keys have changed in V2:\n",
      "* 'underscore_attrs_are_private' has been removed\n",
      "  warnings.warn(message, UserWarning)\n"
     ]
    },
    {
     "name": "stdout",
     "output_type": "stream",
     "text": [
      "787\n",
      "Running in debugging mode.\n"
     ]
    },
    {
     "name": "stderr",
     "output_type": "stream",
     "text": [
      "100%|██████████| 20/20 [00:24<00:00,  1.23s/it]\n"
     ]
    },
    {
     "name": "stdout",
     "output_type": "stream",
     "text": [
      "fill_model: Running in debugging mode\n"
     ]
    },
    {
     "name": "stderr",
     "output_type": "stream",
     "text": [
      "Trying to add missing reacs: 100%|██████████| 10/10 [00:07<00:00,  1.42it/s]\n",
      "Adding genes to model: 100%|██████████| 2/2 [00:00<00:00, 3636.15it/s]"
     ]
    },
    {
     "name": "stdout",
     "output_type": "stream",
     "text": [
      "789\n"
     ]
    },
    {
     "name": "stderr",
     "output_type": "stream",
     "text": [
      "\n"
     ]
    }
   ],
   "source": [
    "from refinegems.classes.gapfill import KEGGapFiller\n",
    "from refinegems.utility.io import load_model\n",
    "\n",
    "modelpath = '/Users/brune/Documents/11_Test_Data/test_refinegems/test_gapfill/JSC1435/JCSC1435.xml'\n",
    "model = load_model(modelpath,'libsbml')\n",
    "cmodel = load_model(modelpath,'cobra')\n",
    "\n",
    "print(len(model.getPlugin(0).getListOfGeneProducts()))\n",
    "\n",
    "gfk = KEGGapFiller('sha')\n",
    "\n",
    "gfk_missing_genes = gfk.find_missing_genes(model)\n",
    "\n",
    "gfk_missing_reac = gfk.find_missing_reacs(cmodel,gfk_missing_genes)\n",
    "\n",
    "model = gfk.fill_model(model,gfk_missing_genes,gfk_missing_reac)\n",
    "\n",
    "print(len(model.getPlugin(0).getListOfGeneProducts()))"
   ]
  },
  {
   "cell_type": "code",
   "execution_count": 2,
   "metadata": {},
   "outputs": [
    {
     "data": {
      "text/plain": [
       "{'genes': {'missing (before)': 20, 'added': 2, 'missing (after)': 18},\n",
       " 'reactions': {'added (total)': 7, 'failed to build': 3},\n",
       " 'metabolites': {}}"
      ]
     },
     "execution_count": 2,
     "metadata": {},
     "output_type": "execute_result"
    }
   ],
   "source": [
    "gfk._statistics "
   ]
  },
  {
   "cell_type": "markdown",
   "metadata": {},
   "source": [
    "## GeneGapFiller Example"
   ]
  },
  {
   "cell_type": "code",
   "execution_count": 1,
   "metadata": {},
   "outputs": [
    {
     "name": "stderr",
     "output_type": "stream",
     "text": [
      "/Users/brune/miniconda3/envs/sprg/lib/python3.10/site-packages/pydantic/_internal/_config.py:322: UserWarning: Valid config keys have changed in V2:\n",
      "* 'underscore_attrs_are_private' has been removed\n",
      "  warnings.warn(message, UserWarning)\n"
     ]
    },
    {
     "name": "stdout",
     "output_type": "stream",
     "text": [
      "Running in debugging mode.\n",
      "fill_model: Running in debugging mode\n"
     ]
    },
    {
     "name": "stderr",
     "output_type": "stream",
     "text": [
      "Trying to add missing reacs: 100%|██████████| 10/10 [00:08<00:00,  1.13it/s]\n",
      "Adding genes to model: 100%|██████████| 3/3 [00:00<00:00, 5345.33it/s]\n"
     ]
    }
   ],
   "source": [
    "from refinegems.classes.gapfill import GeneGapFiller\n",
    "from refinegems.utility.io import load_model\n",
    "\n",
    "modelpath = '/Users/brune/Documents/11_Test_Data/test_refinegems/test_gapfill/JSC1435/JCSC1435.xml'\n",
    "model = load_model(modelpath,'libsbml')\n",
    "cmodel = load_model(modelpath,'cobra')\n",
    "\n",
    "gffpath = '/Users/brune/Documents/11_Test_Data/test_refinegems/test_gapfill/JSC1435/JCSC1435_RefSeq.gff'\n",
    "\n",
    "tfasta = '/Users/brune/Documents/11_Test_Data/test_refinegems/test_gapfill/JSC1435/JCSC1435_proteins_genome.fasta'\n",
    "spdb = '/Users/brune/Documents/11_Test_Data/test_refinegems/test_gapfill/swissprot.dmnd'\n",
    "spmap = '/Users/brune/Documents/11_Test_Data/test_refinegems/test_gapfill/uniprot_table.tsv'\n",
    "kwargs = {'outdir':'/Users/brune/Documents/11_Test_Data/test_refinegems/test_gapfill/JSC1435',\n",
    "          'sens':'more-sensitive',\n",
    "          'cov':90.0,\n",
    "          't':4,\n",
    "          'pid':90.0}\n",
    "\n",
    "gf2 = GeneGapFiller()\n",
    "gf2_missing_genes = gf2.find_missing_genes(gffpath,model)\n",
    "# ncbiprotein | locus_tag | ec-code\n",
    "mapped_res = gf2.find_missing_reacs(model=cmodel,\n",
    "                                   missing_genes=gf2_missing_genes,\n",
    "                                   fasta=tfasta, \n",
    "                                   dmnd_db=spdb,\n",
    "                                   swissprot_map=spmap,\n",
    "                                   **kwargs)\n",
    "\n",
    "model = gf2.fill_model(model,mapped_res[0],mapped_res[1],formula_check='existence')\n",
    "# formula_check,exclude_dna,exclude_rna,idprefix,namespace"
   ]
  },
  {
   "cell_type": "code",
   "execution_count": 2,
   "metadata": {},
   "outputs": [
    {
     "data": {
      "text/plain": [
       "{'genes': {'missing (before)': 1800,\n",
       "  'added': 3,\n",
       "  'missing (after)': 4,\n",
       "  'no locus tag': 108},\n",
       " 'reactions': {'added (total)': 7,\n",
       "  'failed to build': 3,\n",
       "  'no NCBI, no EC': 0,\n",
       "  'NCBI, no EC': 43},\n",
       " 'metabolites': {}}"
      ]
     },
     "execution_count": 2,
     "metadata": {},
     "output_type": "execute_result"
    }
   ],
   "source": [
    "gf2._statistics\n",
    "# possible problem with the current stats: some stuff might be counted twice or more, since the\n",
    "# current implementation depends on the tables (esp. reactions, since ID depends on NCBI \n",
    "# protein accession number and not the uniqueness of the ID)\n"
   ]
  },
  {
   "cell_type": "code",
   "execution_count": null,
   "metadata": {},
   "outputs": [],
   "source": []
  },
  {
   "cell_type": "markdown",
   "metadata": {},
   "source": [
    "## BioCycGapFiller example"
   ]
  },
  {
   "cell_type": "code",
   "execution_count": 1,
   "metadata": {},
   "outputs": [
    {
     "name": "stderr",
     "output_type": "stream",
     "text": [
      "/Users/doebel/miniconda3/envs/refineGEMs/lib/python3.10/site-packages/pydantic/_internal/_config.py:322: UserWarning: Valid config keys have changed in V2:\n",
      "* 'underscore_attrs_are_private' has been removed\n",
      "  warnings.warn(message, UserWarning)\n"
     ]
    }
   ],
   "source": [
    "from refinegems.classes.gapfill import BioCycGapFiller\n",
    "from refinegems.utility.io import load_model\n",
    "\n",
    "modelpath = './test_files/ATCC29970.xml'\n",
    "model = load_model(modelpath,'libsbml')\n",
    "cmodel = load_model(modelpath,'cobra')\n",
    "\n",
    "gffpath = '/Users/doebel/Desktop/Master_thesis/Repository/Shaemolyticus/data/ATCC29970/ATCC29970_RefSeq.gff'\n",
    "biocyc_gene_tbl_path = '/Users/doebel/Desktop/Master_thesis/Repository/Shaemolyticus/archive/master_thesis_ishgog23/data/ATCC29970/ATCC29970_Accession-22Reactions.txt'\n",
    "biocyc_reacs_tbl_path = './test_files/ATCC29970_biocyc_rxns.txt'\n",
    "fasta = '/Users/doebel/Desktop/Master_thesis/Repository/Shaemolyticus/data/ATCC29970/ATCC29970_proteins_genome.fasta'\n",
    "\n",
    "gfbc = BioCycGapFiller(biocyc_gene_tbl_path, biocyc_reacs_tbl_path, gffpath)\n",
    "gfbc_missing_genes = gfbc.find_missing_genes(model)\n",
    "# ncbiprotein | locus_tag | ec-code\n",
    "mapped_res = gfbc.find_missing_reacs(cmodel)\n",
    "\n",
    "#model = gfbc.fill_model(model,mapped_res[0],mapped_res[1],formula_check='existence')\n",
    "# formula_check,exclude_dna,exclude_rna,idprefix,namespace"
   ]
  },
  {
   "cell_type": "code",
   "execution_count": 1,
   "metadata": {},
   "outputs": [
    {
     "name": "stderr",
     "output_type": "stream",
     "text": [
      "/Users/doebel/miniconda3/envs/refineGEMs/lib/python3.10/site-packages/pydantic/_internal/_config.py:322: UserWarning: Valid config keys have changed in V2:\n",
      "* 'underscore_attrs_are_private' has been removed\n",
      "  warnings.warn(message, UserWarning)\n"
     ]
    },
    {
     "data": {
      "text/html": [
       "<div>\n",
       "<style scoped>\n",
       "    .dataframe tbody tr th:only-of-type {\n",
       "        vertical-align: middle;\n",
       "    }\n",
       "\n",
       "    .dataframe tbody tr th {\n",
       "        vertical-align: top;\n",
       "    }\n",
       "\n",
       "    .dataframe thead th {\n",
       "        text-align: right;\n",
       "    }\n",
       "</style>\n",
       "<table border=\"1\" class=\"dataframe\">\n",
       "  <thead>\n",
       "    <tr style=\"text-align: right;\">\n",
       "      <th></th>\n",
       "      <th>id</th>\n",
       "      <th>BioCyc</th>\n",
       "    </tr>\n",
       "  </thead>\n",
       "  <tbody>\n",
       "    <tr>\n",
       "      <th>0</th>\n",
       "      <td>DM_4crsol_c</td>\n",
       "      <td>TRANS-RXN0-500</td>\n",
       "    </tr>\n",
       "    <tr>\n",
       "      <th>1</th>\n",
       "      <td>DM_aacald_c</td>\n",
       "      <td>None</td>\n",
       "    </tr>\n",
       "    <tr>\n",
       "      <th>2</th>\n",
       "      <td>DM_amob_c</td>\n",
       "      <td>None</td>\n",
       "    </tr>\n",
       "    <tr>\n",
       "      <th>3</th>\n",
       "      <td>BIOMASS_Ec_iJO1366_core_53p95M</td>\n",
       "      <td>None</td>\n",
       "    </tr>\n",
       "    <tr>\n",
       "      <th>4</th>\n",
       "      <td>EX_12ppd__S_e</td>\n",
       "      <td>None</td>\n",
       "    </tr>\n",
       "    <tr>\n",
       "      <th>...</th>\n",
       "      <td>...</td>\n",
       "      <td>...</td>\n",
       "    </tr>\n",
       "    <tr>\n",
       "      <th>28296</th>\n",
       "      <td>EX_LPS30__L_e</td>\n",
       "      <td>None</td>\n",
       "    </tr>\n",
       "    <tr>\n",
       "      <th>28297</th>\n",
       "      <td>GTLOA38</td>\n",
       "      <td>None</td>\n",
       "    </tr>\n",
       "    <tr>\n",
       "      <th>28298</th>\n",
       "      <td>GTGAL13RMN</td>\n",
       "      <td>None</td>\n",
       "    </tr>\n",
       "    <tr>\n",
       "      <th>28299</th>\n",
       "      <td>DM_LPS9_46_27_ST_p</td>\n",
       "      <td>None</td>\n",
       "    </tr>\n",
       "    <tr>\n",
       "      <th>28300</th>\n",
       "      <td>OA18F</td>\n",
       "      <td>None</td>\n",
       "    </tr>\n",
       "  </tbody>\n",
       "</table>\n",
       "<p>28301 rows × 2 columns</p>\n",
       "</div>"
      ],
      "text/plain": [
       "                                   id          BioCyc\n",
       "0                         DM_4crsol_c  TRANS-RXN0-500\n",
       "1                         DM_aacald_c            None\n",
       "2                           DM_amob_c            None\n",
       "3      BIOMASS_Ec_iJO1366_core_53p95M            None\n",
       "4                       EX_12ppd__S_e            None\n",
       "...                               ...             ...\n",
       "28296                   EX_LPS30__L_e            None\n",
       "28297                         GTLOA38            None\n",
       "28298                      GTGAL13RMN            None\n",
       "28299              DM_LPS9_46_27_ST_p            None\n",
       "28300                           OA18F            None\n",
       "\n",
       "[28301 rows x 2 columns]"
      ]
     },
     "execution_count": 1,
     "metadata": {},
     "output_type": "execute_result"
    }
   ],
   "source": [
    "from refinegems.utility.io import load_a_table_from_database\n",
    "load_a_table_from_database('SELECT id, BioCyc from bigg_reactions')"
   ]
  },
  {
   "cell_type": "code",
   "execution_count": 2,
   "metadata": {},
   "outputs": [
    {
     "data": {
      "text/html": [
       "<div>\n",
       "<style scoped>\n",
       "    .dataframe tbody tr th:only-of-type {\n",
       "        vertical-align: middle;\n",
       "    }\n",
       "\n",
       "    .dataframe tbody tr th {\n",
       "        vertical-align: top;\n",
       "    }\n",
       "\n",
       "    .dataframe thead th {\n",
       "        text-align: right;\n",
       "    }\n",
       "</style>\n",
       "<table border=\"1\" class=\"dataframe\">\n",
       "  <thead>\n",
       "    <tr style=\"text-align: right;\">\n",
       "      <th></th>\n",
       "      <th>id</th>\n",
       "      <th>ncbiprotein</th>\n",
       "      <th>equation</th>\n",
       "      <th>ec-code</th>\n",
       "      <th>via</th>\n",
       "      <th>add_to_GPR</th>\n",
       "      <th>references</th>\n",
       "    </tr>\n",
       "  </thead>\n",
       "  <tbody>\n",
       "    <tr>\n",
       "      <th>26</th>\n",
       "      <td>4.2.1.59-RXN</td>\n",
       "      <td>[WP_011275247.1]</td>\n",
       "      <td>(3R)-3-hydroxyoctanoyl-[acp]  -&gt;  (2E)-oct-2-e...</td>\n",
       "      <td>[EC-4.2.1.59]</td>\n",
       "      <td>BioCyc</td>\n",
       "      <td>[3HAD80]</td>\n",
       "      <td>{'Reaction-Direction': 'LEFT-TO-RIGHT'}</td>\n",
       "    </tr>\n",
       "    <tr>\n",
       "      <th>32</th>\n",
       "      <td>ADOMET-DMK-METHYLTRANSFER-RXN</td>\n",
       "      <td>[WP_011275738.1]</td>\n",
       "      <td>S-adenosyl-L-methionine + demethylmenaquinol-8...</td>\n",
       "      <td>[EC-2.1.1.163]</td>\n",
       "      <td>BioCyc</td>\n",
       "      <td>[AMMQLT8]</td>\n",
       "      <td>{'Reaction-Direction': 'PHYSIOL-LEFT-TO-RIGHT'}</td>\n",
       "    </tr>\n",
       "    <tr>\n",
       "      <th>39</th>\n",
       "      <td>ATPASE-RXN</td>\n",
       "      <td>[WP_016931380.1]</td>\n",
       "      <td>ATP + H2O  -&gt;  ADP + phosphate + H+</td>\n",
       "      <td>[EC-3.6.1.15, EC-3.6.1.3]</td>\n",
       "      <td>BioCyc</td>\n",
       "      <td>[NTP1, ATPM]</td>\n",
       "      <td>{'Reaction-Direction': 'PHYSIOL-LEFT-TO-RIGHT'}</td>\n",
       "    </tr>\n",
       "    <tr>\n",
       "      <th>47</th>\n",
       "      <td>DLACTDEHYDROGNAD-RXN</td>\n",
       "      <td>[WP_011274818.1]</td>\n",
       "      <td>(R)-lactate + NAD+  &lt;-  pyruvate + NADH + H+</td>\n",
       "      <td>[EC-1.1.1.28]</td>\n",
       "      <td>BioCyc</td>\n",
       "      <td>[LDH_D]</td>\n",
       "      <td>{'Reaction-Direction': 'PHYSIOL-RIGHT-TO-LEFT'}</td>\n",
       "    </tr>\n",
       "    <tr>\n",
       "      <th>48</th>\n",
       "      <td>DMK-RXN</td>\n",
       "      <td>[WP_016931372.1]</td>\n",
       "      <td>all-trans-octaprenyl diphosphate + 1,4-dihydro...</td>\n",
       "      <td>[EC-2.5.1.74]</td>\n",
       "      <td>BioCyc</td>\n",
       "      <td>[DHNAOT4]</td>\n",
       "      <td>{'Reaction-Direction': 'PHYSIOL-LEFT-TO-RIGHT'}</td>\n",
       "    </tr>\n",
       "    <tr>\n",
       "      <th>57</th>\n",
       "      <td>GLUTAMIN-RXN</td>\n",
       "      <td>[WP_016931027.1, WP_011275356.1, WP_053021660.1]</td>\n",
       "      <td>L-glutamine + H2O  -&gt;  L-glutamate + ammonium</td>\n",
       "      <td>[EC-3.5.1.38, EC-3.5.1.2]</td>\n",
       "      <td>BioCyc</td>\n",
       "      <td>[GLUN]</td>\n",
       "      <td>{'Reaction-Direction': 'PHYSIOL-LEFT-TO-RIGHT'}</td>\n",
       "    </tr>\n",
       "    <tr>\n",
       "      <th>58</th>\n",
       "      <td>GLUTAMIN-RXN</td>\n",
       "      <td>[WP_016931027.1, WP_011275356.1, WP_053021660.1]</td>\n",
       "      <td>L-glutamine + H2O  -&gt;  L-glutamate + ammonium</td>\n",
       "      <td>[EC-3.5.1.38, EC-3.5.1.2]</td>\n",
       "      <td>BioCyc</td>\n",
       "      <td>[GLUN]</td>\n",
       "      <td>{'Reaction-Direction': 'PHYSIOL-LEFT-TO-RIGHT'}</td>\n",
       "    </tr>\n",
       "    <tr>\n",
       "      <th>59</th>\n",
       "      <td>GLUTAMIN-RXN</td>\n",
       "      <td>[WP_016931027.1, WP_011275356.1, WP_053021660.1]</td>\n",
       "      <td>L-glutamine + H2O  -&gt;  L-glutamate + ammonium</td>\n",
       "      <td>[EC-3.5.1.38, EC-3.5.1.2]</td>\n",
       "      <td>BioCyc</td>\n",
       "      <td>[GLUN]</td>\n",
       "      <td>{'Reaction-Direction': 'PHYSIOL-LEFT-TO-RIGHT'}</td>\n",
       "    </tr>\n",
       "    <tr>\n",
       "      <th>60</th>\n",
       "      <td>GLYCERATE-DEHYDROGENASE-RXN</td>\n",
       "      <td>[WP_053030970.1]</td>\n",
       "      <td>(R)-glycerate + NAD+  &lt;--&gt;  hydroxypyruvate + ...</td>\n",
       "      <td>[EC-1.1.1.29]</td>\n",
       "      <td>BioCyc</td>\n",
       "      <td>[HPYRRx]</td>\n",
       "      <td>{'Reaction-Direction': 'REVERSIBLE'}</td>\n",
       "    </tr>\n",
       "    <tr>\n",
       "      <th>66</th>\n",
       "      <td>GTP-CYCLOHYDRO-I-RXN</td>\n",
       "      <td>[WP_011276678.1]</td>\n",
       "      <td>GTP + H2O  -&gt;  formate + 7,8-dihydroneopterin ...</td>\n",
       "      <td>[EC-3.5.4.16]</td>\n",
       "      <td>BioCyc</td>\n",
       "      <td>[GTPCI]</td>\n",
       "      <td>{'Reaction-Direction': 'LEFT-TO-RIGHT'}</td>\n",
       "    </tr>\n",
       "    <tr>\n",
       "      <th>81</th>\n",
       "      <td>PGLUCISOM-RXN</td>\n",
       "      <td>[WP_057504928.1]</td>\n",
       "      <td>D-glucopyranose 6-phosphate  &lt;--&gt;  beta-D-fruc...</td>\n",
       "      <td>[EC-5.3.1.9]</td>\n",
       "      <td>BioCyc</td>\n",
       "      <td>[PGI]</td>\n",
       "      <td>{'Reaction-Direction': 'REVERSIBLE'}</td>\n",
       "    </tr>\n",
       "    <tr>\n",
       "      <th>138</th>\n",
       "      <td>RXN-14728</td>\n",
       "      <td>[WP_057504871.1]</td>\n",
       "      <td>acetamide + H2O  -&gt;  acetate + ammonium</td>\n",
       "      <td>[EC-3.5.1.4]</td>\n",
       "      <td>BioCyc</td>\n",
       "      <td>[AMID4]</td>\n",
       "      <td>{'Reaction-Direction': 'PHYSIOL-LEFT-TO-RIGHT'}</td>\n",
       "    </tr>\n",
       "    <tr>\n",
       "      <th>264</th>\n",
       "      <td>SERINE-O-ACETTRAN-RXN</td>\n",
       "      <td>[WP_057504860.1]</td>\n",
       "      <td>L-serine + acetyl-CoA  -&gt;  O-acetyl-L-serine +...</td>\n",
       "      <td>[EC-2.3.1.30]</td>\n",
       "      <td>BioCyc</td>\n",
       "      <td>[SERAT]</td>\n",
       "      <td>{'Reaction-Direction': 'PHYSIOL-LEFT-TO-RIGHT'}</td>\n",
       "    </tr>\n",
       "  </tbody>\n",
       "</table>\n",
       "</div>"
      ],
      "text/plain": [
       "                                id  \\\n",
       "26                    4.2.1.59-RXN   \n",
       "32   ADOMET-DMK-METHYLTRANSFER-RXN   \n",
       "39                      ATPASE-RXN   \n",
       "47            DLACTDEHYDROGNAD-RXN   \n",
       "48                         DMK-RXN   \n",
       "57                    GLUTAMIN-RXN   \n",
       "58                    GLUTAMIN-RXN   \n",
       "59                    GLUTAMIN-RXN   \n",
       "60     GLYCERATE-DEHYDROGENASE-RXN   \n",
       "66            GTP-CYCLOHYDRO-I-RXN   \n",
       "81                   PGLUCISOM-RXN   \n",
       "138                      RXN-14728   \n",
       "264          SERINE-O-ACETTRAN-RXN   \n",
       "\n",
       "                                          ncbiprotein  \\\n",
       "26                                   [WP_011275247.1]   \n",
       "32                                   [WP_011275738.1]   \n",
       "39                                   [WP_016931380.1]   \n",
       "47                                   [WP_011274818.1]   \n",
       "48                                   [WP_016931372.1]   \n",
       "57   [WP_016931027.1, WP_011275356.1, WP_053021660.1]   \n",
       "58   [WP_016931027.1, WP_011275356.1, WP_053021660.1]   \n",
       "59   [WP_016931027.1, WP_011275356.1, WP_053021660.1]   \n",
       "60                                   [WP_053030970.1]   \n",
       "66                                   [WP_011276678.1]   \n",
       "81                                   [WP_057504928.1]   \n",
       "138                                  [WP_057504871.1]   \n",
       "264                                  [WP_057504860.1]   \n",
       "\n",
       "                                              equation  \\\n",
       "26   (3R)-3-hydroxyoctanoyl-[acp]  ->  (2E)-oct-2-e...   \n",
       "32   S-adenosyl-L-methionine + demethylmenaquinol-8...   \n",
       "39                 ATP + H2O  ->  ADP + phosphate + H+   \n",
       "47        (R)-lactate + NAD+  <-  pyruvate + NADH + H+   \n",
       "48   all-trans-octaprenyl diphosphate + 1,4-dihydro...   \n",
       "57       L-glutamine + H2O  ->  L-glutamate + ammonium   \n",
       "58       L-glutamine + H2O  ->  L-glutamate + ammonium   \n",
       "59       L-glutamine + H2O  ->  L-glutamate + ammonium   \n",
       "60   (R)-glycerate + NAD+  <-->  hydroxypyruvate + ...   \n",
       "66   GTP + H2O  ->  formate + 7,8-dihydroneopterin ...   \n",
       "81   D-glucopyranose 6-phosphate  <-->  beta-D-fruc...   \n",
       "138            acetamide + H2O  ->  acetate + ammonium   \n",
       "264  L-serine + acetyl-CoA  ->  O-acetyl-L-serine +...   \n",
       "\n",
       "                       ec-code     via    add_to_GPR  \\\n",
       "26               [EC-4.2.1.59]  BioCyc      [3HAD80]   \n",
       "32              [EC-2.1.1.163]  BioCyc     [AMMQLT8]   \n",
       "39   [EC-3.6.1.15, EC-3.6.1.3]  BioCyc  [NTP1, ATPM]   \n",
       "47               [EC-1.1.1.28]  BioCyc       [LDH_D]   \n",
       "48               [EC-2.5.1.74]  BioCyc     [DHNAOT4]   \n",
       "57   [EC-3.5.1.38, EC-3.5.1.2]  BioCyc        [GLUN]   \n",
       "58   [EC-3.5.1.38, EC-3.5.1.2]  BioCyc        [GLUN]   \n",
       "59   [EC-3.5.1.38, EC-3.5.1.2]  BioCyc        [GLUN]   \n",
       "60               [EC-1.1.1.29]  BioCyc      [HPYRRx]   \n",
       "66               [EC-3.5.4.16]  BioCyc       [GTPCI]   \n",
       "81                [EC-5.3.1.9]  BioCyc         [PGI]   \n",
       "138               [EC-3.5.1.4]  BioCyc       [AMID4]   \n",
       "264              [EC-2.3.1.30]  BioCyc       [SERAT]   \n",
       "\n",
       "                                          references  \n",
       "26           {'Reaction-Direction': 'LEFT-TO-RIGHT'}  \n",
       "32   {'Reaction-Direction': 'PHYSIOL-LEFT-TO-RIGHT'}  \n",
       "39   {'Reaction-Direction': 'PHYSIOL-LEFT-TO-RIGHT'}  \n",
       "47   {'Reaction-Direction': 'PHYSIOL-RIGHT-TO-LEFT'}  \n",
       "48   {'Reaction-Direction': 'PHYSIOL-LEFT-TO-RIGHT'}  \n",
       "57   {'Reaction-Direction': 'PHYSIOL-LEFT-TO-RIGHT'}  \n",
       "58   {'Reaction-Direction': 'PHYSIOL-LEFT-TO-RIGHT'}  \n",
       "59   {'Reaction-Direction': 'PHYSIOL-LEFT-TO-RIGHT'}  \n",
       "60              {'Reaction-Direction': 'REVERSIBLE'}  \n",
       "66           {'Reaction-Direction': 'LEFT-TO-RIGHT'}  \n",
       "81              {'Reaction-Direction': 'REVERSIBLE'}  \n",
       "138  {'Reaction-Direction': 'PHYSIOL-LEFT-TO-RIGHT'}  \n",
       "264  {'Reaction-Direction': 'PHYSIOL-LEFT-TO-RIGHT'}  "
      ]
     },
     "execution_count": 2,
     "metadata": {},
     "output_type": "execute_result"
    }
   ],
   "source": [
    "gfbc.missing_reacs"
   ]
  },
  {
   "cell_type": "code",
   "execution_count": 4,
   "metadata": {},
   "outputs": [
    {
     "data": {
      "text/html": [
       "<div>\n",
       "<style scoped>\n",
       "    .dataframe tbody tr th:only-of-type {\n",
       "        vertical-align: middle;\n",
       "    }\n",
       "\n",
       "    .dataframe tbody tr th {\n",
       "        vertical-align: top;\n",
       "    }\n",
       "\n",
       "    .dataframe thead th {\n",
       "        text-align: right;\n",
       "    }\n",
       "</style>\n",
       "<table border=\"1\" class=\"dataframe\">\n",
       "  <thead>\n",
       "    <tr style=\"text-align: right;\">\n",
       "      <th></th>\n",
       "      <th>locus_tag</th>\n",
       "      <th>id</th>\n",
       "    </tr>\n",
       "  </thead>\n",
       "  <tbody>\n",
       "    <tr>\n",
       "      <th>0</th>\n",
       "      <td>NaN</td>\n",
       "      <td>NaN</td>\n",
       "    </tr>\n",
       "    <tr>\n",
       "      <th>1</th>\n",
       "      <td>NaN</td>\n",
       "      <td>NaN</td>\n",
       "    </tr>\n",
       "    <tr>\n",
       "      <th>2</th>\n",
       "      <td>NaN</td>\n",
       "      <td>NaN</td>\n",
       "    </tr>\n",
       "    <tr>\n",
       "      <th>3</th>\n",
       "      <td>NaN</td>\n",
       "      <td>NaN</td>\n",
       "    </tr>\n",
       "    <tr>\n",
       "      <th>4</th>\n",
       "      <td>NaN</td>\n",
       "      <td>NaN</td>\n",
       "    </tr>\n",
       "    <tr>\n",
       "      <th>...</th>\n",
       "      <td>...</td>\n",
       "      <td>...</td>\n",
       "    </tr>\n",
       "    <tr>\n",
       "      <th>681</th>\n",
       "      <td>NaN</td>\n",
       "      <td>NaN</td>\n",
       "    </tr>\n",
       "    <tr>\n",
       "      <th>682</th>\n",
       "      <td>NaN</td>\n",
       "      <td>NaN</td>\n",
       "    </tr>\n",
       "    <tr>\n",
       "      <th>683</th>\n",
       "      <td>NaN</td>\n",
       "      <td>NaN</td>\n",
       "    </tr>\n",
       "    <tr>\n",
       "      <th>684</th>\n",
       "      <td>NaN</td>\n",
       "      <td>NaN</td>\n",
       "    </tr>\n",
       "    <tr>\n",
       "      <th>685</th>\n",
       "      <td>NaN</td>\n",
       "      <td>NaN</td>\n",
       "    </tr>\n",
       "  </tbody>\n",
       "</table>\n",
       "<p>686 rows × 2 columns</p>\n",
       "</div>"
      ],
      "text/plain": [
       "    locus_tag   id\n",
       "0         NaN  NaN\n",
       "1         NaN  NaN\n",
       "2         NaN  NaN\n",
       "3         NaN  NaN\n",
       "4         NaN  NaN\n",
       "..        ...  ...\n",
       "681       NaN  NaN\n",
       "682       NaN  NaN\n",
       "683       NaN  NaN\n",
       "684       NaN  NaN\n",
       "685       NaN  NaN\n",
       "\n",
       "[686 rows x 2 columns]"
      ]
     },
     "execution_count": 4,
     "metadata": {},
     "output_type": "execute_result"
    }
   ],
   "source": [
    "gfbc.manual_curation['BioCyc genes unmappable']"
   ]
  },
  {
   "cell_type": "code",
   "execution_count": 3,
   "metadata": {},
   "outputs": [],
   "source": [
    "gfbc.missing_reacs.to_csv('./test_files/missing_reacs_test.tsv', sep='\\t')"
   ]
  },
  {
   "cell_type": "code",
   "execution_count": 2,
   "metadata": {},
   "outputs": [
    {
     "data": {
      "text/plain": [
       "'acyl-[acyl-carrier protein] + a 2-lysophosphatidate  ->  a phosphatidate + acyl-carrier protein'"
      ]
     },
     "execution_count": 2,
     "metadata": {},
     "output_type": "execute_result"
    }
   ],
   "source": [
    "test_equation = gfbc.missing_reacs['equation'][0]\n",
    "test_equation"
   ]
  },
  {
   "cell_type": "code",
   "execution_count": 3,
   "metadata": {},
   "outputs": [
    {
     "name": "stdout",
     "output_type": "stream",
     "text": [
      "TEST 1\n",
      "({'acyl-[acyl-carrier protein]': 1.0, 'a 2-lysophosphatidate': 1.0}, {'a phosphatidate': 1.0, 'acyl-carrier protein': 1.0}, ['c'], True)\n",
      "TEST2\n",
      "({'2 D-alanine': 1.0, 'ATP': 1.0}, {'D-alanyl-D-alanine': 1.0, 'ADP': 1.0, 'phosphate': 1.0, 'H+': 1.0}, ['c'], True)\n"
     ]
    }
   ],
   "source": [
    "from refinegems.utility.entities import parse_reac_str\n",
    "\n",
    "test1 = parse_reac_str(test_equation, 'BioCyc')\n",
    "test2 = parse_reac_str('2 D-alanine + ATP  ->  D-alanyl-D-alanine + ADP + phosphate + H+', 'BioCyc')\n",
    "print('TEST 1')\n",
    "print(test1)\n",
    "print('TEST2')\n",
    "print(test2)"
   ]
  },
  {
   "cell_type": "code",
   "execution_count": 9,
   "metadata": {},
   "outputs": [],
   "source": [
    "from biocyc import biocyc as bc\n",
    "bc.set_organism('meta')"
   ]
  },
  {
   "cell_type": "code",
   "execution_count": 20,
   "metadata": {},
   "outputs": [
    {
     "data": {
      "text/html": [
       "<table><tr><th>Name</th><td>an acyl-[acyl-carrier protein]</td></tr><tr><th>BioCyc ID</th><td><a href=\"http://www.biocyc.org/META/NEW-IMAGE?object=ACYL-ACP\">ACYL-ACP</a></td></tr><tr><th>Org ID</th><td>META</td></tr><tr><th>Synonyms</th><td>an acyl-ACP, an acyl-[acp], CH3(CH2)xCO-S-ACP</td></tr><tr><th>Parents</th><td>All-ACPs, Modified-Proteins</td></tr><tr><th>Database links</th><td>SEED: cpd11628, METANETX: MNXM917, LIGAND-CPD: <a href=\"http://www.genome.ad.jp/dbget-bin/www_bget?C00173\">C00173</a></td></tr></table>"
      ],
      "text/plain": [
       "an acyl-[acyl-carrier protein]"
      ]
     },
     "execution_count": 20,
     "metadata": {},
     "output_type": "execute_result"
    }
   ],
   "source": [
    "test_comp = bc.get('ACYL-ACP')\n",
    "test_comp"
   ]
  },
  {
   "cell_type": "code",
   "execution_count": 18,
   "metadata": {},
   "outputs": [],
   "source": [
    "bc.find_compound_by_name('an acyl-[acyl-carrier protein]')"
   ]
  },
  {
   "cell_type": "code",
   "execution_count": 17,
   "metadata": {},
   "outputs": [],
   "source": [
    "gfbc.missing_genes.to_csv('./test_files/missing_genes_gff.tsv', sep='\\t')"
   ]
  },
  {
   "cell_type": "markdown",
   "metadata": {},
   "source": [
    "#### Get new BioCyc reactions table without BioCyc access"
   ]
  },
  {
   "cell_type": "code",
   "execution_count": 16,
   "metadata": {},
   "outputs": [
    {
     "data": {
      "text/html": [
       "<div>\n",
       "<style scoped>\n",
       "    .dataframe tbody tr th:only-of-type {\n",
       "        vertical-align: middle;\n",
       "    }\n",
       "\n",
       "    .dataframe tbody tr th {\n",
       "        vertical-align: top;\n",
       "    }\n",
       "\n",
       "    .dataframe thead th {\n",
       "        text-align: right;\n",
       "    }\n",
       "</style>\n",
       "<table border=\"1\" class=\"dataframe\">\n",
       "  <thead>\n",
       "    <tr style=\"text-align: right;\">\n",
       "      <th></th>\n",
       "      <th>Reaction</th>\n",
       "      <th>Object ID</th>\n",
       "      <th>Substrates (reactants and products) of a reaction</th>\n",
       "      <th>Reactants of reaction</th>\n",
       "      <th>Products of reaction</th>\n",
       "      <th>EC-Number</th>\n",
       "      <th>Reaction-Direction</th>\n",
       "      <th>Spontaneous?</th>\n",
       "    </tr>\n",
       "  </thead>\n",
       "  <tbody>\n",
       "    <tr>\n",
       "      <th>0</th>\n",
       "      <td>S-adenosyl-L-methionine + demethylmenaquinol-7...</td>\n",
       "      <td>RXN-9191</td>\n",
       "      <td>demethylmenaquinol-7 // &lt;i&gt;S&lt;/i&gt;-adenosyl-L-me...</td>\n",
       "      <td>S-ADENOSYLMETHIONINE // CPD-12117</td>\n",
       "      <td>CPD-12125 // ADENOSYL-HOMO-CYS // PROTON</td>\n",
       "      <td>EC-2.1.1.163</td>\n",
       "      <td>PHYSIOL-LEFT-TO-RIGHT</td>\n",
       "      <td>NaN</td>\n",
       "    </tr>\n",
       "    <tr>\n",
       "      <th>1</th>\n",
       "      <td>a 2,3,4-saturated (3R)-3-hydroxyacyl-CoA  &lt;--&gt;...</td>\n",
       "      <td>OHBUTYRYL-COA-EPIM-RXN</td>\n",
       "      <td>a 2,3,4-saturated (3&lt;i&gt;R&lt;/i&gt;)-3-hydroxyacyl-Co...</td>\n",
       "      <td>D-3-HYDROXYACYL-COA</td>\n",
       "      <td>L-3-HYDROXYACYL-COA</td>\n",
       "      <td>EC-5.1.2.3</td>\n",
       "      <td>REVERSIBLE</td>\n",
       "      <td>NaN</td>\n",
       "    </tr>\n",
       "    <tr>\n",
       "      <th>2</th>\n",
       "      <td>glycine + a tetrahydrofolate + NAD+  -&gt;  a 5,1...</td>\n",
       "      <td>GCVMULTI-RXN</td>\n",
       "      <td>NAD&lt;sup&gt;+&lt;/sup&gt; // a tetrahydrofolate // glyci...</td>\n",
       "      <td>GLY // THF-GLU-N // NAD</td>\n",
       "      <td>METHYLENE-THF-GLU-N // AMMONIUM // CARBON-DIOX...</td>\n",
       "      <td>EC-1.4.1</td>\n",
       "      <td>LEFT-TO-RIGHT</td>\n",
       "      <td>NaN</td>\n",
       "    </tr>\n",
       "    <tr>\n",
       "      <th>3</th>\n",
       "      <td>N-acetyl-beta-neuraminate  -&gt;  N-acetyl-beta-D...</td>\n",
       "      <td>RXN-15313</td>\n",
       "      <td>&lt;i&gt;N&lt;/i&gt;-acetyl-&amp;beta;-neuraminate // &lt;i&gt;N&lt;/i&gt;...</td>\n",
       "      <td>CPD0-1123</td>\n",
       "      <td>N-ACETYL-D-MANNOSAMINE // PYRUVATE</td>\n",
       "      <td>EC-4.1.3.3</td>\n",
       "      <td>PHYSIOL-LEFT-TO-RIGHT</td>\n",
       "      <td>NaN</td>\n",
       "    </tr>\n",
       "    <tr>\n",
       "      <th>4</th>\n",
       "      <td>D-xylulose + ATP  -&gt;  D-xylulose 5-phosphate +...</td>\n",
       "      <td>XYLULOKIN-RXN</td>\n",
       "      <td>ATP // D-xylulose // H&lt;SUP&gt;+&lt;/SUP&gt; // D-xylulo...</td>\n",
       "      <td>D-XYLULOSE // ATP</td>\n",
       "      <td>PROTON // XYLULOSE-5-PHOSPHATE // ADP</td>\n",
       "      <td>EC-2.7.1.17</td>\n",
       "      <td>LEFT-TO-RIGHT</td>\n",
       "      <td>NaN</td>\n",
       "    </tr>\n",
       "    <tr>\n",
       "      <th>...</th>\n",
       "      <td>...</td>\n",
       "      <td>...</td>\n",
       "      <td>...</td>\n",
       "      <td>...</td>\n",
       "      <td>...</td>\n",
       "      <td>...</td>\n",
       "      <td>...</td>\n",
       "      <td>...</td>\n",
       "    </tr>\n",
       "    <tr>\n",
       "      <th>1064</th>\n",
       "      <td>(3R)-3-hydroxydecanoyl-[acp]  -&gt;  (2E)-dec-2-e...</td>\n",
       "      <td>RXN-9655</td>\n",
       "      <td>a (3&lt;i&gt;R&lt;/i&gt;)-3-hydroxydecanoyl-[acp] // a (2&lt;...</td>\n",
       "      <td>Beta-hydroxydecanoyl-ACPs</td>\n",
       "      <td>Trans-D2-decenoyl-ACPs // WATER</td>\n",
       "      <td>EC-4.2.1.59</td>\n",
       "      <td>LEFT-TO-RIGHT</td>\n",
       "      <td>NaN</td>\n",
       "    </tr>\n",
       "    <tr>\n",
       "      <th>1065</th>\n",
       "      <td>2 L-arginine + 3 NADPH + H+ + 4 oxygen  -&gt;  2 ...</td>\n",
       "      <td>NITRIC-OXIDE-SYNTHASE-RXN</td>\n",
       "      <td>oxygen // H&lt;SUP&gt;+&lt;/SUP&gt; // NADPH // L-arginine...</td>\n",
       "      <td>ARG // NADPH // PROTON // OXYGEN-MOLECULE</td>\n",
       "      <td>L-CITRULLINE // NITRIC-OXIDE // NADP // WATER</td>\n",
       "      <td>EC-1.14.13.39</td>\n",
       "      <td>PHYSIOL-LEFT-TO-RIGHT</td>\n",
       "      <td>NaN</td>\n",
       "    </tr>\n",
       "    <tr>\n",
       "      <th>1066</th>\n",
       "      <td>a [protein]-Npi-phospho-L-histidine + 2-phosph...</td>\n",
       "      <td>RXN-15510</td>\n",
       "      <td>2-phospho-D-glycerate // a [protein]-&lt;i&gt;N&lt;sup&gt;...</td>\n",
       "      <td>Protein-pi-phospho-L-histidines // 2-PG</td>\n",
       "      <td>Protein-Histidines // 23-DIPHOSPHOGLYCERATE</td>\n",
       "      <td>NaN</td>\n",
       "      <td>REVERSIBLE</td>\n",
       "      <td>NaN</td>\n",
       "    </tr>\n",
       "    <tr>\n",
       "      <th>1067</th>\n",
       "      <td>(5Z)-tetradecenoyl-CoA + acetyl-CoA  &lt;-  3-oxo...</td>\n",
       "      <td>RXN-17782</td>\n",
       "      <td>acetyl-CoA // (5Z)-tetradecenoyl-CoA // 3-oxo-...</td>\n",
       "      <td>CPD-19167 // CO-A</td>\n",
       "      <td>CPD-15436 // ACETYL-COA</td>\n",
       "      <td>EC-2.3.1.16</td>\n",
       "      <td>PHYSIOL-RIGHT-TO-LEFT</td>\n",
       "      <td>NaN</td>\n",
       "    </tr>\n",
       "    <tr>\n",
       "      <th>1068</th>\n",
       "      <td>cytidine + H+ + H2O  -&gt;  uridine + ammonium</td>\n",
       "      <td>CYTIDEAM2-RXN</td>\n",
       "      <td>cytidine // H&lt;sub&gt;2&lt;/sub&gt;O // H&lt;SUP&gt;+&lt;/SUP&gt; //...</td>\n",
       "      <td>PROTON // WATER // CYTIDINE</td>\n",
       "      <td>URIDINE // AMMONIUM</td>\n",
       "      <td>EC-3.5.4.5</td>\n",
       "      <td>LEFT-TO-RIGHT</td>\n",
       "      <td>NaN</td>\n",
       "    </tr>\n",
       "  </tbody>\n",
       "</table>\n",
       "<p>1069 rows × 8 columns</p>\n",
       "</div>"
      ],
      "text/plain": [
       "                                               Reaction  \\\n",
       "0     S-adenosyl-L-methionine + demethylmenaquinol-7...   \n",
       "1     a 2,3,4-saturated (3R)-3-hydroxyacyl-CoA  <-->...   \n",
       "2     glycine + a tetrahydrofolate + NAD+  ->  a 5,1...   \n",
       "3     N-acetyl-beta-neuraminate  ->  N-acetyl-beta-D...   \n",
       "4     D-xylulose + ATP  ->  D-xylulose 5-phosphate +...   \n",
       "...                                                 ...   \n",
       "1064  (3R)-3-hydroxydecanoyl-[acp]  ->  (2E)-dec-2-e...   \n",
       "1065  2 L-arginine + 3 NADPH + H+ + 4 oxygen  ->  2 ...   \n",
       "1066  a [protein]-Npi-phospho-L-histidine + 2-phosph...   \n",
       "1067  (5Z)-tetradecenoyl-CoA + acetyl-CoA  <-  3-oxo...   \n",
       "1068        cytidine + H+ + H2O  ->  uridine + ammonium   \n",
       "\n",
       "                      Object ID  \\\n",
       "0                      RXN-9191   \n",
       "1        OHBUTYRYL-COA-EPIM-RXN   \n",
       "2                  GCVMULTI-RXN   \n",
       "3                     RXN-15313   \n",
       "4                 XYLULOKIN-RXN   \n",
       "...                         ...   \n",
       "1064                   RXN-9655   \n",
       "1065  NITRIC-OXIDE-SYNTHASE-RXN   \n",
       "1066                  RXN-15510   \n",
       "1067                  RXN-17782   \n",
       "1068              CYTIDEAM2-RXN   \n",
       "\n",
       "      Substrates (reactants and products) of a reaction  \\\n",
       "0     demethylmenaquinol-7 // <i>S</i>-adenosyl-L-me...   \n",
       "1     a 2,3,4-saturated (3<i>R</i>)-3-hydroxyacyl-Co...   \n",
       "2     NAD<sup>+</sup> // a tetrahydrofolate // glyci...   \n",
       "3     <i>N</i>-acetyl-&beta;-neuraminate // <i>N</i>...   \n",
       "4     ATP // D-xylulose // H<SUP>+</SUP> // D-xylulo...   \n",
       "...                                                 ...   \n",
       "1064  a (3<i>R</i>)-3-hydroxydecanoyl-[acp] // a (2<...   \n",
       "1065  oxygen // H<SUP>+</SUP> // NADPH // L-arginine...   \n",
       "1066  2-phospho-D-glycerate // a [protein]-<i>N<sup>...   \n",
       "1067  acetyl-CoA // (5Z)-tetradecenoyl-CoA // 3-oxo-...   \n",
       "1068  cytidine // H<sub>2</sub>O // H<SUP>+</SUP> //...   \n",
       "\n",
       "                          Reactants of reaction  \\\n",
       "0             S-ADENOSYLMETHIONINE // CPD-12117   \n",
       "1                           D-3-HYDROXYACYL-COA   \n",
       "2                       GLY // THF-GLU-N // NAD   \n",
       "3                                     CPD0-1123   \n",
       "4                             D-XYLULOSE // ATP   \n",
       "...                                         ...   \n",
       "1064                  Beta-hydroxydecanoyl-ACPs   \n",
       "1065  ARG // NADPH // PROTON // OXYGEN-MOLECULE   \n",
       "1066    Protein-pi-phospho-L-histidines // 2-PG   \n",
       "1067                          CPD-19167 // CO-A   \n",
       "1068                PROTON // WATER // CYTIDINE   \n",
       "\n",
       "                                   Products of reaction      EC-Number  \\\n",
       "0              CPD-12125 // ADENOSYL-HOMO-CYS // PROTON   EC-2.1.1.163   \n",
       "1                                   L-3-HYDROXYACYL-COA     EC-5.1.2.3   \n",
       "2     METHYLENE-THF-GLU-N // AMMONIUM // CARBON-DIOX...       EC-1.4.1   \n",
       "3                    N-ACETYL-D-MANNOSAMINE // PYRUVATE     EC-4.1.3.3   \n",
       "4                 PROTON // XYLULOSE-5-PHOSPHATE // ADP    EC-2.7.1.17   \n",
       "...                                                 ...            ...   \n",
       "1064                    Trans-D2-decenoyl-ACPs // WATER    EC-4.2.1.59   \n",
       "1065      L-CITRULLINE // NITRIC-OXIDE // NADP // WATER  EC-1.14.13.39   \n",
       "1066        Protein-Histidines // 23-DIPHOSPHOGLYCERATE            NaN   \n",
       "1067                            CPD-15436 // ACETYL-COA    EC-2.3.1.16   \n",
       "1068                                URIDINE // AMMONIUM     EC-3.5.4.5   \n",
       "\n",
       "         Reaction-Direction Spontaneous?  \n",
       "0     PHYSIOL-LEFT-TO-RIGHT          NaN  \n",
       "1                REVERSIBLE          NaN  \n",
       "2             LEFT-TO-RIGHT          NaN  \n",
       "3     PHYSIOL-LEFT-TO-RIGHT          NaN  \n",
       "4             LEFT-TO-RIGHT          NaN  \n",
       "...                     ...          ...  \n",
       "1064          LEFT-TO-RIGHT          NaN  \n",
       "1065  PHYSIOL-LEFT-TO-RIGHT          NaN  \n",
       "1066             REVERSIBLE          NaN  \n",
       "1067  PHYSIOL-RIGHT-TO-LEFT          NaN  \n",
       "1068          LEFT-TO-RIGHT          NaN  \n",
       "\n",
       "[1069 rows x 8 columns]"
      ]
     },
     "execution_count": 16,
     "metadata": {},
     "output_type": "execute_result"
    }
   ],
   "source": [
    "import pandas as pd\n",
    "\n",
    "df_with_new_info = pd.read_csv('./test_files/All-reactions-of-S.-haemolyticus-ATCC-29970.txt', sep='\\t')\n",
    "df_with_new_info.drop(['Object ID.1', 'EC-Number', 'Products of reaction', 'Pathways of a reaction'], axis=1, inplace=True)\n",
    "df_old = pd.read_csv('/Users/doebel/Desktop/Master_thesis/Repository/Shaemolyticus/archive/master_thesis_ishgog23/data/ATCC29970/ATCC29970_reactions.txt', sep='\\t')\n",
    "df_old.rename({'Reaction': 'Object ID'}, axis=1, inplace=True)\n",
    "df_old.drop('Accession-2', axis=1, inplace=True)\n",
    "\n",
    "df_new = df_with_new_info.merge(df_old, how='left', on='Object ID')\n",
    "df_new.to_csv('./test_files/ATCC29970_biocyc_rxns.txt', index=False, sep='\\t')\n",
    "df_new"
   ]
  },
  {
   "cell_type": "markdown",
   "metadata": {},
   "source": [
    "## the \"Filling\" part of Gapfilling\n",
    "\n",
    "**input**\n",
    "\n",
    "- the model\n",
    "- missing genes table\n",
    "- missing reacs table\n",
    "\n",
    "**out**\n",
    "\n",
    "- the extended model\n",
    "\n",
    "**else**\n",
    "\n",
    "- logging\n",
    "- save stats information"
   ]
  },
  {
   "cell_type": "code",
   "execution_count": null,
   "metadata": {},
   "outputs": [],
   "source": []
  },
  {
   "cell_type": "markdown",
   "metadata": {},
   "source": [
    "### Further ideas and Code snippets for the filling part\n",
    "\n",
    "missing stuff:\n",
    "- parse BioCyc reaction string\n",
    "- build biocyc_metabolite\n",
    "- build biocyc_reaction"
   ]
  },
  {
   "cell_type": "code",
   "execution_count": 2,
   "metadata": {},
   "outputs": [],
   "source": []
  },
  {
   "cell_type": "code",
   "execution_count": 2,
   "metadata": {},
   "outputs": [],
   "source": []
  },
  {
   "cell_type": "markdown",
   "metadata": {},
   "source": [
    "### Ideas for collect the stats information"
   ]
  },
  {
   "cell_type": "code",
   "execution_count": 7,
   "metadata": {},
   "outputs": [
    {
     "data": {
      "text/plain": [
       "1538"
      ]
     },
     "execution_count": 7,
     "metadata": {},
     "output_type": "execute_result"
    }
   ],
   "source": [
    "len(cmodel.reactions)"
   ]
  },
  {
   "cell_type": "code",
   "execution_count": null,
   "metadata": {},
   "outputs": [],
   "source": []
  }
 ],
 "metadata": {
  "kernelspec": {
   "display_name": "sprg",
   "language": "python",
   "name": "python3"
  },
  "language_info": {
   "codemirror_mode": {
    "name": "ipython",
    "version": 3
   },
   "file_extension": ".py",
   "mimetype": "text/x-python",
   "name": "python",
   "nbconvert_exporter": "python",
   "pygments_lexer": "ipython3",
   "version": "3.10.14"
  }
 },
 "nbformat": 4,
 "nbformat_minor": 2
}
