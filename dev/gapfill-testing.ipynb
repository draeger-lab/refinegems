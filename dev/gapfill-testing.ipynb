{
 "cells": [
  {
   "cell_type": "code",
   "execution_count": 4,
   "metadata": {},
   "outputs": [],
   "source": [
    "%load_ext autoreload\n",
    "%autoreload 2"
   ]
  },
  {
   "cell_type": "markdown",
   "metadata": {},
   "source": [
    "## KEGGapFiller Example\n",
    "\n",
    "### Initialisation"
   ]
  },
  {
   "cell_type": "code",
   "execution_count": 5,
   "metadata": {},
   "outputs": [],
   "source": [
    "from refinegems.classes.gapfill import KEGGapFiller\n",
    "from refinegems.utility.io import load_model\n",
    "\n",
    "# Get model file loaded with COBRA (for missing reactions) & libSBML\n",
    "modelpath = './test_files/JCSC1435.xml' # A link to this model will be added as soon as it is published\n",
    "model = load_model(modelpath,'libsbml')\n",
    "cmodel = load_model(modelpath,'cobra')\n",
    "\n",
    "# Initialise GapFiller subclass to be used with required parameters\n",
    "gfk = KEGGapFiller('sha')"
   ]
  },
  {
   "cell_type": "markdown",
   "metadata": {},
   "source": [
    "### Missing genes"
   ]
  },
  {
   "cell_type": "code",
   "execution_count": 6,
   "metadata": {},
   "outputs": [
    {
     "name": "stdout",
     "output_type": "stream",
     "text": [
      "Creating directory /Users/doebel/Library/Caches/bioservices \n"
     ]
    },
    {
     "name": "stderr",
     "output_type": "stream",
     "text": [
      "100%|██████████| 1987/1987 [43:06<00:00,  1.30s/it]\n"
     ]
    },
    {
     "data": {
      "text/html": [
       "<div>\n",
       "<style scoped>\n",
       "    .dataframe tbody tr th:only-of-type {\n",
       "        vertical-align: middle;\n",
       "    }\n",
       "\n",
       "    .dataframe tbody tr th {\n",
       "        vertical-align: top;\n",
       "    }\n",
       "\n",
       "    .dataframe thead th {\n",
       "        text-align: right;\n",
       "    }\n",
       "</style>\n",
       "<table border=\"1\" class=\"dataframe\">\n",
       "  <thead>\n",
       "    <tr style=\"text-align: right;\">\n",
       "      <th></th>\n",
       "      <th>orgid:locus</th>\n",
       "      <th>locus_tag</th>\n",
       "      <th>kegg.orthology</th>\n",
       "      <th>ec-code</th>\n",
       "      <th>ncbiprotein</th>\n",
       "      <th>uniprot</th>\n",
       "    </tr>\n",
       "  </thead>\n",
       "  <tbody>\n",
       "    <tr>\n",
       "      <th>0</th>\n",
       "      <td>sha:pSHaeA01</td>\n",
       "      <td>pSHaeA01</td>\n",
       "      <td>[K11210]</td>\n",
       "      <td>[2.5.1.-]</td>\n",
       "      <td>BAE05988</td>\n",
       "      <td>[Q4L2Y9]</td>\n",
       "    </tr>\n",
       "    <tr>\n",
       "      <th>1</th>\n",
       "      <td>sha:pSHaeA02</td>\n",
       "      <td>pSHaeA02</td>\n",
       "      <td>NaN</td>\n",
       "      <td>None</td>\n",
       "      <td>BAE05989</td>\n",
       "      <td>[Q4L2Y8]</td>\n",
       "    </tr>\n",
       "    <tr>\n",
       "      <th>2</th>\n",
       "      <td>sha:pSHaeA03</td>\n",
       "      <td>pSHaeA03</td>\n",
       "      <td>NaN</td>\n",
       "      <td>None</td>\n",
       "      <td>BAE05990</td>\n",
       "      <td>[Q4L2Y7]</td>\n",
       "    </tr>\n",
       "    <tr>\n",
       "      <th>3</th>\n",
       "      <td>sha:pSHaeB01</td>\n",
       "      <td>pSHaeB01</td>\n",
       "      <td>[K00561]</td>\n",
       "      <td>[2.1.1.184]</td>\n",
       "      <td>BAE05991</td>\n",
       "      <td>[Q4L2Y6]</td>\n",
       "    </tr>\n",
       "    <tr>\n",
       "      <th>4</th>\n",
       "      <td>sha:pSHaeB02</td>\n",
       "      <td>pSHaeB02</td>\n",
       "      <td>NaN</td>\n",
       "      <td>None</td>\n",
       "      <td>BAE05992</td>\n",
       "      <td>[Q4L2Y5]</td>\n",
       "    </tr>\n",
       "    <tr>\n",
       "      <th>...</th>\n",
       "      <td>...</td>\n",
       "      <td>...</td>\n",
       "      <td>...</td>\n",
       "      <td>...</td>\n",
       "      <td>...</td>\n",
       "      <td>...</td>\n",
       "    </tr>\n",
       "    <tr>\n",
       "      <th>1982</th>\n",
       "      <td>sha:SH2674</td>\n",
       "      <td>SH2674</td>\n",
       "      <td>[K03501]</td>\n",
       "      <td>[2.1.1.170]</td>\n",
       "      <td>BAE05983</td>\n",
       "      <td>[Q4L2Z4]</td>\n",
       "    </tr>\n",
       "    <tr>\n",
       "      <th>1983</th>\n",
       "      <td>sha:SH2675</td>\n",
       "      <td>SH2675</td>\n",
       "      <td>[K03495]</td>\n",
       "      <td>None</td>\n",
       "      <td>BAE05984</td>\n",
       "      <td>[Q4L2Z3]</td>\n",
       "    </tr>\n",
       "    <tr>\n",
       "      <th>1984</th>\n",
       "      <td>sha:SH2676</td>\n",
       "      <td>SH2676</td>\n",
       "      <td>[K03650]</td>\n",
       "      <td>[3.6.-.-]</td>\n",
       "      <td>BAE05985</td>\n",
       "      <td>[Q4L2Z2]</td>\n",
       "    </tr>\n",
       "    <tr>\n",
       "      <th>1985</th>\n",
       "      <td>sha:SH2677</td>\n",
       "      <td>SH2677</td>\n",
       "      <td>[K03536]</td>\n",
       "      <td>[3.1.26.5]</td>\n",
       "      <td>BAE05986</td>\n",
       "      <td>[Q4L2Z1]</td>\n",
       "    </tr>\n",
       "    <tr>\n",
       "      <th>1986</th>\n",
       "      <td>sha:SH2678</td>\n",
       "      <td>SH2678</td>\n",
       "      <td>[K02914]</td>\n",
       "      <td>None</td>\n",
       "      <td>BAE05987</td>\n",
       "      <td>[Q4L2Z0]</td>\n",
       "    </tr>\n",
       "  </tbody>\n",
       "</table>\n",
       "<p>1987 rows × 6 columns</p>\n",
       "</div>"
      ],
      "text/plain": [
       "       orgid:locus locus_tag kegg.orthology      ec-code ncbiprotein   uniprot\n",
       "0     sha:pSHaeA01  pSHaeA01       [K11210]    [2.5.1.-]    BAE05988  [Q4L2Y9]\n",
       "1     sha:pSHaeA02  pSHaeA02            NaN         None    BAE05989  [Q4L2Y8]\n",
       "2     sha:pSHaeA03  pSHaeA03            NaN         None    BAE05990  [Q4L2Y7]\n",
       "3     sha:pSHaeB01  pSHaeB01       [K00561]  [2.1.1.184]    BAE05991  [Q4L2Y6]\n",
       "4     sha:pSHaeB02  pSHaeB02            NaN         None    BAE05992  [Q4L2Y5]\n",
       "...            ...       ...            ...          ...         ...       ...\n",
       "1982    sha:SH2674    SH2674       [K03501]  [2.1.1.170]    BAE05983  [Q4L2Z4]\n",
       "1983    sha:SH2675    SH2675       [K03495]         None    BAE05984  [Q4L2Z3]\n",
       "1984    sha:SH2676    SH2676       [K03650]    [3.6.-.-]    BAE05985  [Q4L2Z2]\n",
       "1985    sha:SH2677    SH2677       [K03536]   [3.1.26.5]    BAE05986  [Q4L2Z1]\n",
       "1986    sha:SH2678    SH2678       [K02914]         None    BAE05987  [Q4L2Z0]\n",
       "\n",
       "[1987 rows x 6 columns]"
      ]
     },
     "execution_count": 6,
     "metadata": {},
     "output_type": "execute_result"
    }
   ],
   "source": [
    "# Find missing genes\n",
    "gfk.find_missing_genes(model)\n",
    "\n",
    "# Get/show missing genes\n",
    "gfk.missing_genes"
   ]
  },
  {
   "cell_type": "markdown",
   "metadata": {},
   "source": [
    "### Missing reactions"
   ]
  },
  {
   "cell_type": "code",
   "execution_count": 16,
   "metadata": {},
   "outputs": [
    {
     "name": "stderr",
     "output_type": "stream",
     "text": [
      "100%|██████████| 11/11 [00:38<00:00,  3.51s/it]\n"
     ]
    },
    {
     "data": {
      "text/html": [
       "<div>\n",
       "<style scoped>\n",
       "    .dataframe tbody tr th:only-of-type {\n",
       "        vertical-align: middle;\n",
       "    }\n",
       "\n",
       "    .dataframe tbody tr th {\n",
       "        vertical-align: top;\n",
       "    }\n",
       "\n",
       "    .dataframe thead th {\n",
       "        text-align: right;\n",
       "    }\n",
       "</style>\n",
       "<table border=\"1\" class=\"dataframe\">\n",
       "  <thead>\n",
       "    <tr style=\"text-align: right;\">\n",
       "      <th></th>\n",
       "      <th>ec-code</th>\n",
       "      <th>ncbiprotein</th>\n",
       "      <th>id</th>\n",
       "      <th>equation</th>\n",
       "      <th>reference</th>\n",
       "      <th>is_transport</th>\n",
       "      <th>via</th>\n",
       "      <th>add_to_GPR</th>\n",
       "    </tr>\n",
       "  </thead>\n",
       "  <tbody>\n",
       "    <tr>\n",
       "      <th>0</th>\n",
       "      <td>2.3.1.313</td>\n",
       "      <td>[BAE04147]</td>\n",
       "      <td>R13186</td>\n",
       "      <td>None</td>\n",
       "      <td>{'brenda': ['2.3.1.313']}</td>\n",
       "      <td>None</td>\n",
       "      <td>KEGG</td>\n",
       "      <td>None</td>\n",
       "    </tr>\n",
       "    <tr>\n",
       "      <th>1</th>\n",
       "      <td>2.4.99.28</td>\n",
       "      <td>[BAE04395, BAE04771]</td>\n",
       "      <td>R06178</td>\n",
       "      <td>None</td>\n",
       "      <td>{'kegg.pathway': ['ec00550'], 'brenda': ['2.4....</td>\n",
       "      <td>None</td>\n",
       "      <td>KEGG</td>\n",
       "      <td>None</td>\n",
       "    </tr>\n",
       "    <tr>\n",
       "      <th>2</th>\n",
       "      <td>2.4.99.28</td>\n",
       "      <td>[BAE04395, BAE04771]</td>\n",
       "      <td>R06179</td>\n",
       "      <td>None</td>\n",
       "      <td>{'kegg.pathway': ['ec00550'], 'brenda': ['2.4....</td>\n",
       "      <td>None</td>\n",
       "      <td>KEGG</td>\n",
       "      <td>None</td>\n",
       "    </tr>\n",
       "    <tr>\n",
       "      <th>3</th>\n",
       "      <td>2.7.10.3</td>\n",
       "      <td>[BAE03698]</td>\n",
       "      <td>R02584</td>\n",
       "      <td>None</td>\n",
       "      <td>{'brenda': ['2.7.10.3']}</td>\n",
       "      <td>None</td>\n",
       "      <td>KEGG</td>\n",
       "      <td>None</td>\n",
       "    </tr>\n",
       "    <tr>\n",
       "      <th>4</th>\n",
       "      <td>2.7.2.18</td>\n",
       "      <td>[BAE04998]</td>\n",
       "      <td>R12793</td>\n",
       "      <td>None</td>\n",
       "      <td>{'brenda': ['2.7.2.18']}</td>\n",
       "      <td>None</td>\n",
       "      <td>KEGG</td>\n",
       "      <td>None</td>\n",
       "    </tr>\n",
       "    <tr>\n",
       "      <th>...</th>\n",
       "      <td>...</td>\n",
       "      <td>...</td>\n",
       "      <td>...</td>\n",
       "      <td>...</td>\n",
       "      <td>...</td>\n",
       "      <td>...</td>\n",
       "      <td>...</td>\n",
       "      <td>...</td>\n",
       "    </tr>\n",
       "    <tr>\n",
       "      <th>3289</th>\n",
       "      <td>7.5.2.4</td>\n",
       "      <td>[BAE04398, BAE05568]</td>\n",
       "      <td>MNXR115570</td>\n",
       "      <td>1 MNXM1@MNXD1 + 1 MNXM21999@MNXD2 + 1 MNXM4033...</td>\n",
       "      <td>seedR:rxn18688</td>\n",
       "      <td>T</td>\n",
       "      <td>MetaNetX</td>\n",
       "      <td>None</td>\n",
       "    </tr>\n",
       "    <tr>\n",
       "      <th>3290</th>\n",
       "      <td>7.5.2.4</td>\n",
       "      <td>[BAE04398, BAE05568]</td>\n",
       "      <td>MNXR121346</td>\n",
       "      <td>1 MNXM12982@MNXD1 + 1 MNXM1@MNXD2 + 1 MNXM4033...</td>\n",
       "      <td>seedR:rxn41181</td>\n",
       "      <td>T</td>\n",
       "      <td>MetaNetX</td>\n",
       "      <td>None</td>\n",
       "    </tr>\n",
       "    <tr>\n",
       "      <th>3291</th>\n",
       "      <td>7.5.2.4</td>\n",
       "      <td>[BAE04398, BAE05568]</td>\n",
       "      <td>MNXR121347</td>\n",
       "      <td>1 MNXM163615@MNXD1 + 1 MNXM1@MNXD2 + 1 MNXM403...</td>\n",
       "      <td>seedR:rxn43450</td>\n",
       "      <td>T</td>\n",
       "      <td>MetaNetX</td>\n",
       "      <td>None</td>\n",
       "    </tr>\n",
       "    <tr>\n",
       "      <th>3292</th>\n",
       "      <td>7.5.2.4</td>\n",
       "      <td>[BAE04398, BAE05568]</td>\n",
       "      <td>MNXR123981</td>\n",
       "      <td>1 MNXM163613@MNXD1 + 1 MNXM1@MNXD2 + 1 MNXM403...</td>\n",
       "      <td>seedR:rxn42597</td>\n",
       "      <td>T</td>\n",
       "      <td>MetaNetX</td>\n",
       "      <td>None</td>\n",
       "    </tr>\n",
       "    <tr>\n",
       "      <th>3293</th>\n",
       "      <td>7.5.2.4</td>\n",
       "      <td>[BAE04398, BAE05568]</td>\n",
       "      <td>MNXR191804</td>\n",
       "      <td>1 MNXM164493@MNXD1 + 1 MNXM1@MNXD2 + 1 MNXM403...</td>\n",
       "      <td>metacycR:TRANS-RXN-321</td>\n",
       "      <td>T</td>\n",
       "      <td>MetaNetX</td>\n",
       "      <td>None</td>\n",
       "    </tr>\n",
       "  </tbody>\n",
       "</table>\n",
       "<p>3287 rows × 8 columns</p>\n",
       "</div>"
      ],
      "text/plain": [
       "        ec-code           ncbiprotein  ...       via add_to_GPR\n",
       "0     2.3.1.313            [BAE04147]  ...      KEGG       None\n",
       "1     2.4.99.28  [BAE04395, BAE04771]  ...      KEGG       None\n",
       "2     2.4.99.28  [BAE04395, BAE04771]  ...      KEGG       None\n",
       "3      2.7.10.3            [BAE03698]  ...      KEGG       None\n",
       "4      2.7.2.18            [BAE04998]  ...      KEGG       None\n",
       "...         ...                   ...  ...       ...        ...\n",
       "3289    7.5.2.4  [BAE04398, BAE05568]  ...  MetaNetX       None\n",
       "3290    7.5.2.4  [BAE04398, BAE05568]  ...  MetaNetX       None\n",
       "3291    7.5.2.4  [BAE04398, BAE05568]  ...  MetaNetX       None\n",
       "3292    7.5.2.4  [BAE04398, BAE05568]  ...  MetaNetX       None\n",
       "3293    7.5.2.4  [BAE04398, BAE05568]  ...  MetaNetX       None\n",
       "\n",
       "[3287 rows x 8 columns]"
      ]
     },
     "execution_count": 16,
     "metadata": {},
     "output_type": "execute_result"
    }
   ],
   "source": [
    "# Find missing reactions\n",
    "gfk.find_missing_reactions(cmodel)\n",
    "\n",
    "# Get/show missing reactions\n",
    "gfk.missing_reactions"
   ]
  },
  {
   "cell_type": "code",
   "execution_count": 18,
   "metadata": {},
   "outputs": [],
   "source": [
    "gfk.missing_reactions.to_csv('./test_files/kegg_missing_reactions.tsv', sep='\\t', index=False)"
   ]
  },
  {
   "cell_type": "markdown",
   "metadata": {},
   "source": [
    "### Fill model"
   ]
  },
  {
   "cell_type": "code",
   "execution_count": 19,
   "metadata": {},
   "outputs": [
    {
     "name": "stderr",
     "output_type": "stream",
     "text": [
      "Trying to add missing reacs:   0%|          | 2/3287 [00:15<7:11:33,  7.88s/it]\n"
     ]
    },
    {
     "ename": "TypeError",
     "evalue": "'NoneType' object is not iterable",
     "output_type": "error",
     "traceback": [
      "\u001b[0;31m---------------------------------------------------------------------------\u001b[0m",
      "\u001b[0;31mTypeError\u001b[0m                                 Traceback (most recent call last)",
      "Cell \u001b[0;32mIn[19], line 2\u001b[0m\n\u001b[1;32m      1\u001b[0m \u001b[38;5;66;03m# Fill model\u001b[39;00m\n\u001b[0;32m----> 2\u001b[0m model \u001b[38;5;241m=\u001b[39m \u001b[43mgfk\u001b[49m\u001b[38;5;241;43m.\u001b[39;49m\u001b[43mfill_model\u001b[49m\u001b[43m(\u001b[49m\u001b[43mmodel\u001b[49m\u001b[43m)\u001b[49m\n",
      "File \u001b[0;32m~/Desktop/Master_thesis/Repository/refinegems/build/__editable__.refineGEMs-1.4.2-py3-none-any/refinegems/classes/gapfill.py:1046\u001b[0m, in \u001b[0;36mfill_model\u001b[0;34m(self, model, **kwargs)\u001b[0m\n\u001b[1;32m   1036\u001b[0m         write_model_to_file(model,tmp.name)\n\u001b[1;32m   1037\u001b[0m         cobramodel = load_model(tmp.name,'cobra')\n\u001b[1;32m   1039\u001b[0m     # .......................\n\u001b[1;32m   1040\u001b[0m     # @DEBUG\n\u001b[1;32m   1041\u001b[0m     # if len(self.missing_reactions) > 10:\n\u001b[1;32m   1042\u001b[0m     #     self.missing_reactions = self.missing_reactions.sample(10)\n\u001b[1;32m   1043\u001b[0m     #     print('fill_model: Running in debugging mode')\n\u001b[1;32m   1044\u001b[0m     # .......................\n\u001b[1;32m   1045\u001b[0m         \n\u001b[0;32m-> 1046\u001b[0m     # add reactions to model  \n\u001b[1;32m   1047\u001b[0m     missing_gprs = self.add_reactions_from_table(cobramodel,self.missing_reactions,**kwargs)\n\u001b[1;32m   1049\u001b[0m # Step 3: Add GPRs + genes for the newly curated reactions \n\u001b[1;32m   1050\u001b[0m # --------------------------------------------------------\n\u001b[1;32m   1051\u001b[0m \n\u001b[1;32m   1052\u001b[0m # re-load model with libsbml\n\u001b[1;32m   1053\u001b[0m # @TODO does not seem to work as expected under Windows\n",
      "File \u001b[0;32m~/Desktop/Master_thesis/Repository/refinegems/build/__editable__.refineGEMs-1.4.2-py3-none-any/refinegems/classes/gapfill.py:880\u001b[0m, in \u001b[0;36madd_reactions_from_table\u001b[0;34m(self, model, missing_reac_table, formula_check, exclude_dna, exclude_rna, idprefix, namespace)\u001b[0m\n\u001b[1;32m    878\u001b[0m         elif isinstance(row['ec-code'],str):\n\u001b[1;32m    879\u001b[0m             refs['ec-code'] = list(set(refs['ec-code'].append(row['ec-code'])))\n\u001b[0;32m--> 880\u001b[0m     else:\n\u001b[1;32m    881\u001b[0m         refs['ec-code'] = row['ec-code'] if isinstance(row['ec-code'],list) else [row['ec-code']]\n\u001b[1;32m    883\u001b[0m # @TODO: Logging for failed to build reactions\n\u001b[1;32m    884\u001b[0m # build reaction\n",
      "\u001b[0;31mTypeError\u001b[0m: 'NoneType' object is not iterable"
     ]
    }
   ],
   "source": [
    "# Fill model\n",
    "model = gfk.fill_model(model)"
   ]
  },
  {
   "cell_type": "markdown",
   "metadata": {},
   "source": [
    "### Statistics"
   ]
  },
  {
   "cell_type": "code",
   "execution_count": null,
   "metadata": {},
   "outputs": [
    {
     "data": {
      "text/plain": [
       "Index(['orgid:locus', 'locus_tag', 'kegg.orthology', 'ec-code', 'ncbiprotein',\n",
       "       'uniprot'],\n",
       "      dtype='object')"
      ]
     },
     "execution_count": 3,
     "metadata": {},
     "output_type": "execute_result"
    }
   ],
   "source": [
    "# Get raw statistics\n",
    "gfk._statistics"
   ]
  },
  {
   "cell_type": "markdown",
   "metadata": {},
   "source": [
    "## GeneGapFiller Example\n",
    "\n",
    "### Initialisation\n",
    "#### Get SwissProt DIAMOND database"
   ]
  },
  {
   "cell_type": "code",
   "execution_count": null,
   "metadata": {},
   "outputs": [
    {
     "name": "stderr",
     "output_type": "stream",
     "text": [
      "Downloading SwissProt.fasta: 100%|██████████| 88.2M/88.2M [00:05<00:00, 16.8MB/s]\n"
     ]
    }
   ],
   "source": [
    "from refinegems.utility.set_up import download_url\n",
    "\n",
    "# Get SwissProt\n",
    "# download_url('SwissProt gapfill', directory='./test_files/test_gapfill')\n",
    "\n",
    "# On the command line:\n",
    "# diamond makedb --in ./dev/test_files/test_gapfill/SwissProt.fasta -d ./dev/test_files/test_gapfill/swissprot"
   ]
  },
  {
   "cell_type": "markdown",
   "metadata": {},
   "source": [
    "#### Initialise GeneGapFiller"
   ]
  },
  {
   "cell_type": "code",
   "execution_count": null,
   "metadata": {},
   "outputs": [
    {
     "name": "stderr",
     "output_type": "stream",
     "text": [
      "/Users/brune/miniconda3/envs/sprg/lib/python3.10/site-packages/pydantic/_internal/_config.py:322: UserWarning: Valid config keys have changed in V2:\n",
      "* 'underscore_attrs_are_private' has been removed\n",
      "  warnings.warn(message, UserWarning)\n"
     ]
    }
   ],
   "source": [
    "from refinegems.classes.gapfill import GeneGapFiller\n",
    "from refinegems.utility.io import load_model\n",
    "\n",
    "# Get model file loaded with COBRA (for missing reactions) & libSBML\n",
    "modelpath = './test_files/IMITSC147.xml' # A link to this model will be added as soon as it is published\n",
    "model = load_model(modelpath,'libsbml')\n",
    "cmodel = load_model(modelpath,'cobra')\n",
    "\n",
    "# Get files required for the GeneGapFiller\n",
    "gffpath = './test_files/IMITSC147_genome.gff'\n",
    "\n",
    "tfasta = './test_files/IMITSC147_proteins_genome.fasta'\n",
    "spdb = './test_files/test_gapfill/swissprot.dmnd'\n",
    "spmap = './test_files/test_gapfill/SwissProt_mapping.tsv'\n",
    "kwargs = {'outdir':'./dev/test_files/test_gapfill/IMITSC147',\n",
    "          'sens':'more-sensitive',\n",
    "          'cov':95.0,\n",
    "          't':4,\n",
    "          'pid':90.0}\n",
    "\n",
    "# Initialise GapFiller subclass to be used with required parameters\n",
    "gfg = GeneGapFiller()"
   ]
  },
  {
   "cell_type": "markdown",
   "metadata": {},
   "source": [
    "### Missing genes"
   ]
  },
  {
   "cell_type": "code",
   "execution_count": null,
   "metadata": {},
   "outputs": [],
   "source": [
    "# Find missing genes\n",
    "gfg.find_missing_genes(gffpath,model)\n",
    "\n",
    "# Get/show missing genes\n",
    "gfg.missing_genes\n"
   ]
  },
  {
   "cell_type": "markdown",
   "metadata": {},
   "source": [
    "### Missing reactions"
   ]
  },
  {
   "cell_type": "code",
   "execution_count": null,
   "metadata": {},
   "outputs": [
    {
     "data": {
      "text/html": [
       "<div>\n",
       "<style scoped>\n",
       "    .dataframe tbody tr th:only-of-type {\n",
       "        vertical-align: middle;\n",
       "    }\n",
       "\n",
       "    .dataframe tbody tr th {\n",
       "        vertical-align: top;\n",
       "    }\n",
       "\n",
       "    .dataframe thead th {\n",
       "        text-align: right;\n",
       "    }\n",
       "</style>\n",
       "<table border=\"1\" class=\"dataframe\">\n",
       "  <thead>\n",
       "    <tr style=\"text-align: right;\">\n",
       "      <th></th>\n",
       "      <th>ncbiprotein</th>\n",
       "      <th>locus_tag</th>\n",
       "      <th>ec-code</th>\n",
       "    </tr>\n",
       "  </thead>\n",
       "  <tbody>\n",
       "    <tr>\n",
       "      <th>0</th>\n",
       "      <td>WP_011274359.1</td>\n",
       "      <td>SH0001</td>\n",
       "      <td>None</td>\n",
       "    </tr>\n",
       "    <tr>\n",
       "      <th>1</th>\n",
       "      <td>WP_011274360.1</td>\n",
       "      <td>SH0002</td>\n",
       "      <td>None</td>\n",
       "    </tr>\n",
       "    <tr>\n",
       "      <th>2</th>\n",
       "      <td>WP_172458781.1</td>\n",
       "      <td>SH0003</td>\n",
       "      <td>None</td>\n",
       "    </tr>\n",
       "    <tr>\n",
       "      <th>3</th>\n",
       "      <td>WP_011274362.1</td>\n",
       "      <td>SH0004</td>\n",
       "      <td>None</td>\n",
       "    </tr>\n",
       "    <tr>\n",
       "      <th>4</th>\n",
       "      <td>WP_011274363.1</td>\n",
       "      <td>SH0005</td>\n",
       "      <td>None</td>\n",
       "    </tr>\n",
       "    <tr>\n",
       "      <th>...</th>\n",
       "      <td>...</td>\n",
       "      <td>...</td>\n",
       "      <td>...</td>\n",
       "    </tr>\n",
       "    <tr>\n",
       "      <th>2573</th>\n",
       "      <td>WP_145424740.1</td>\n",
       "      <td>pSHaeC05</td>\n",
       "      <td>None</td>\n",
       "    </tr>\n",
       "    <tr>\n",
       "      <th>2574</th>\n",
       "      <td>WP_011276926.1</td>\n",
       "      <td>pSHaeC06</td>\n",
       "      <td>None</td>\n",
       "    </tr>\n",
       "    <tr>\n",
       "      <th>2575</th>\n",
       "      <td>WP_011276927.1</td>\n",
       "      <td>pSHaeC07</td>\n",
       "      <td>None</td>\n",
       "    </tr>\n",
       "    <tr>\n",
       "      <th>2576</th>\n",
       "      <td>WP_011276928.1</td>\n",
       "      <td>pSHaeC08</td>\n",
       "      <td>None</td>\n",
       "    </tr>\n",
       "    <tr>\n",
       "      <th>2577</th>\n",
       "      <td>WP_011276930.1</td>\n",
       "      <td>pSHaeC10</td>\n",
       "      <td>None</td>\n",
       "    </tr>\n",
       "  </tbody>\n",
       "</table>\n",
       "<p>1692 rows × 3 columns</p>\n",
       "</div>"
      ],
      "text/plain": [
       "         ncbiprotein locus_tag ec-code\n",
       "0     WP_011274359.1    SH0001    None\n",
       "1     WP_011274360.1    SH0002    None\n",
       "2     WP_172458781.1    SH0003    None\n",
       "3     WP_011274362.1    SH0004    None\n",
       "4     WP_011274363.1    SH0005    None\n",
       "...              ...       ...     ...\n",
       "2573  WP_145424740.1  pSHaeC05    None\n",
       "2574  WP_011276926.1  pSHaeC06    None\n",
       "2575  WP_011276927.1  pSHaeC07    None\n",
       "2576  WP_011276928.1  pSHaeC08    None\n",
       "2577  WP_011276930.1  pSHaeC10    None\n",
       "\n",
       "[1692 rows x 3 columns]"
      ]
     },
     "execution_count": 2,
     "metadata": {},
     "output_type": "execute_result"
    }
   ],
   "source": [
    "# Find missing reactions\n",
    "gfg.find_missing_reactions(model=cmodel,\n",
    "                                   fasta=tfasta, \n",
    "                                   dmnd_db=spdb,\n",
    "                                   swissprot_map=spmap,\n",
    "                                   **kwargs)\n",
    "\n",
    "# Get/show missing reactions\n",
    "gfg.missing_reactions"
   ]
  },
  {
   "cell_type": "markdown",
   "metadata": {},
   "source": [
    "### Fill model"
   ]
  },
  {
   "cell_type": "code",
   "execution_count": null,
   "metadata": {},
   "outputs": [],
   "source": [
    "# Fill model\n",
    "model = gfg.fill_model(model,formula_check='existence')"
   ]
  },
  {
   "cell_type": "markdown",
   "metadata": {},
   "source": [
    "### Statistics"
   ]
  },
  {
   "cell_type": "code",
   "execution_count": null,
   "metadata": {},
   "outputs": [
    {
     "data": {
      "text/plain": [
       "{'genes': {'missing (before)': 1800,\n",
       "  'added': 3,\n",
       "  'missing (after)': 4,\n",
       "  'no locus tag': 108},\n",
       " 'reactions': {'added (total)': 7,\n",
       "  'failed to build': 3,\n",
       "  'no NCBI, no EC': 0,\n",
       "  'NCBI, no EC': 43},\n",
       " 'metabolites': {}}"
      ]
     },
     "execution_count": 2,
     "metadata": {},
     "output_type": "execute_result"
    }
   ],
   "source": [
    "# Get raw statistics\n",
    "gfg._statistics"
   ]
  },
  {
   "cell_type": "markdown",
   "metadata": {},
   "source": [
    "## BioCycGapFiller example\n",
    "\n",
    "### Initialisation"
   ]
  },
  {
   "cell_type": "code",
   "execution_count": null,
   "metadata": {},
   "outputs": [
    {
     "name": "stderr",
     "output_type": "stream",
     "text": [
      "/Users/doebel/miniconda3/envs/refineGEMs/lib/python3.10/site-packages/pydantic/_internal/_config.py:322: UserWarning: Valid config keys have changed in V2:\n",
      "* 'underscore_attrs_are_private' has been removed\n",
      "  warnings.warn(message, UserWarning)\n"
     ]
    }
   ],
   "source": [
    "from refinegems.classes.gapfill import BioCycGapFiller\n",
    "from refinegems.utility.io import load_model\n",
    "\n",
    "# Get model file loaded with COBRA (for missing reactions) & libSBML\n",
    "modelpath = './test_files/ATCC29970.xml' # A link to this model will be added as soon as it is published\n",
    "model = load_model(modelpath,'libsbml')\n",
    "cmodel = load_model(modelpath,'cobra')\n",
    "\n",
    "# Get files required for the BioCycGapFiller\n",
    "gffpath = './test_files/ATCC29970_RefSeq.gff'\n",
    "biocyc_gene_tbl_path = './test_files/ATCC29970_Accession-22Reactions.txt'\n",
    "biocyc_reacs_tbl_path = './test_files/ATCC29970_biocyc_rxns.txt'\n",
    "fasta = './test_files/ATCC29970_proteins_genome.fasta'\n",
    "\n",
    "# Initialise GapFiller subclass to be used with required parameters\n",
    "gfbc = BioCycGapFiller(biocyc_gene_tbl_path, biocyc_reacs_tbl_path, gffpath)\n",
    "\n",
    "mapped_res = gfbc.find_missing_reactions(cmodel)\n",
    "\n",
    "#model = gfbc.fill_model(model,mapped_res[0],mapped_res[1],formula_check='existence')\n",
    "# formula_check,exclude_dna,exclude_rna,idprefix,namespace"
   ]
  },
  {
   "cell_type": "markdown",
   "metadata": {},
   "source": [
    "### Missing genes"
   ]
  },
  {
   "cell_type": "code",
   "execution_count": null,
   "metadata": {},
   "outputs": [],
   "source": [
    "# Find missing genes\n",
    "gfbc.find_missing_genes(model)\n",
    "\n",
    "# Get/show missing genes\n",
    "gfg.missing_genes"
   ]
  },
  {
   "cell_type": "markdown",
   "metadata": {},
   "source": [
    "### Missing reactions"
   ]
  },
  {
   "cell_type": "code",
   "execution_count": null,
   "metadata": {},
   "outputs": [
    {
     "data": {
      "text/html": [
       "<div>\n",
       "<style scoped>\n",
       "    .dataframe tbody tr th:only-of-type {\n",
       "        vertical-align: middle;\n",
       "    }\n",
       "\n",
       "    .dataframe tbody tr th {\n",
       "        vertical-align: top;\n",
       "    }\n",
       "\n",
       "    .dataframe thead th {\n",
       "        text-align: right;\n",
       "    }\n",
       "</style>\n",
       "<table border=\"1\" class=\"dataframe\">\n",
       "  <thead>\n",
       "    <tr style=\"text-align: right;\">\n",
       "      <th></th>\n",
       "      <th>add_to_GPR</th>\n",
       "      <th>ec-code</th>\n",
       "      <th>equation</th>\n",
       "      <th>id</th>\n",
       "      <th>ncbiprotein</th>\n",
       "      <th>reference</th>\n",
       "      <th>via</th>\n",
       "    </tr>\n",
       "  </thead>\n",
       "  <tbody>\n",
       "    <tr>\n",
       "      <th>0</th>\n",
       "      <td>[3HAD80]</td>\n",
       "      <td>[4.2.1.59]</td>\n",
       "      <td>(3R)-3-hydroxyoctanoyl-[acp]  -&gt;  (2E)-oct-2-e...</td>\n",
       "      <td>4.2.1.59-RXN</td>\n",
       "      <td>[WP_011275247.1]</td>\n",
       "      <td>None</td>\n",
       "      <td>BioCyc</td>\n",
       "    </tr>\n",
       "    <tr>\n",
       "      <th>1</th>\n",
       "      <td>[AMMQLT8]</td>\n",
       "      <td>[2.1.1.163]</td>\n",
       "      <td>S-adenosyl-L-methionine + demethylmenaquinol-8...</td>\n",
       "      <td>ADOMET-DMK-METHYLTRANSFER-RXN</td>\n",
       "      <td>[WP_011275738.1]</td>\n",
       "      <td>None</td>\n",
       "      <td>BioCyc</td>\n",
       "    </tr>\n",
       "    <tr>\n",
       "      <th>2</th>\n",
       "      <td>[NTP1, ATPM]</td>\n",
       "      <td>[3.6.1.3, 3.6.1.15]</td>\n",
       "      <td>ATP + H2O  -&gt;  ADP + phosphate + H+</td>\n",
       "      <td>ATPASE-RXN</td>\n",
       "      <td>[WP_016931380.1]</td>\n",
       "      <td>None</td>\n",
       "      <td>BioCyc</td>\n",
       "    </tr>\n",
       "    <tr>\n",
       "      <th>3</th>\n",
       "      <td>[LDH_D]</td>\n",
       "      <td>[1.1.1.28]</td>\n",
       "      <td>(R)-lactate + NAD+  &lt;-  pyruvate + NADH + H+</td>\n",
       "      <td>DLACTDEHYDROGNAD-RXN</td>\n",
       "      <td>[WP_011274818.1]</td>\n",
       "      <td>None</td>\n",
       "      <td>BioCyc</td>\n",
       "    </tr>\n",
       "    <tr>\n",
       "      <th>4</th>\n",
       "      <td>[DHNAOT4]</td>\n",
       "      <td>[2.5.1.74]</td>\n",
       "      <td>all-trans-octaprenyl diphosphate + 1,4-dihydro...</td>\n",
       "      <td>DMK-RXN</td>\n",
       "      <td>[WP_016931372.1]</td>\n",
       "      <td>None</td>\n",
       "      <td>BioCyc</td>\n",
       "    </tr>\n",
       "    <tr>\n",
       "      <th>...</th>\n",
       "      <td>...</td>\n",
       "      <td>...</td>\n",
       "      <td>...</td>\n",
       "      <td>...</td>\n",
       "      <td>...</td>\n",
       "      <td>...</td>\n",
       "      <td>...</td>\n",
       "    </tr>\n",
       "    <tr>\n",
       "      <th>233</th>\n",
       "      <td>None</td>\n",
       "      <td>NaN</td>\n",
       "      <td>1 MNXM11@MNXD1 + 1 MNXM167418@MNXD1 + 1 MNXM72...</td>\n",
       "      <td>{MNXR124075}</td>\n",
       "      <td>[WP_011276231.1]</td>\n",
       "      <td>{'metacyc.reaction': 'TRYPTOPHAN--TRNA-LIGASE-...</td>\n",
       "      <td>MetaNetX</td>\n",
       "    </tr>\n",
       "    <tr>\n",
       "      <th>234</th>\n",
       "      <td>None</td>\n",
       "      <td>NaN</td>\n",
       "      <td>1 MNXM11@MNXD1 + 1 MNXM16655@MNXD1 + 1 MNXM728...</td>\n",
       "      <td>{MNXR124080}</td>\n",
       "      <td>[WP_011275493.1]</td>\n",
       "      <td>{'metacyc.reaction': 'TYROSINE--TRNA-LIGASE-RX...</td>\n",
       "      <td>MetaNetX</td>\n",
       "    </tr>\n",
       "    <tr>\n",
       "      <th>235</th>\n",
       "      <td>None</td>\n",
       "      <td>NaN</td>\n",
       "      <td>1 MNXM1104679@MNXD1 + 1 MNXM1446@MNXD1 + 1 MNX...</td>\n",
       "      <td>{MNXR146695}</td>\n",
       "      <td>[WP_011275264.1]</td>\n",
       "      <td>{'metacyc.reaction': 'UDP-NACMURALGLDAPAALIG-R...</td>\n",
       "      <td>MetaNetX</td>\n",
       "    </tr>\n",
       "    <tr>\n",
       "      <th>236</th>\n",
       "      <td>None</td>\n",
       "      <td>NaN</td>\n",
       "      <td>1 MNXM1101258@MNXD1 = 1 MNXM1104529@MNXD1</td>\n",
       "      <td>{MNXR151539}</td>\n",
       "      <td>[WP_033079611.1]</td>\n",
       "      <td>{'metacyc.reaction': 'UDPGLCNACEPIM-RXN', 'ori...</td>\n",
       "      <td>MetaNetX</td>\n",
       "    </tr>\n",
       "    <tr>\n",
       "      <th>237</th>\n",
       "      <td>None</td>\n",
       "      <td>NaN</td>\n",
       "      <td>1 MNXM11@MNXD1 + 1 MNXM167419@MNXD1 + 1 MNXM72...</td>\n",
       "      <td>{MNXR124096}</td>\n",
       "      <td>[WP_011275561.1]</td>\n",
       "      <td>{'metacyc.reaction': 'VALINE--TRNA-LIGASE-RXN'...</td>\n",
       "      <td>MetaNetX</td>\n",
       "    </tr>\n",
       "  </tbody>\n",
       "</table>\n",
       "<p>238 rows × 7 columns</p>\n",
       "</div>"
      ],
      "text/plain": [
       "       add_to_GPR              ec-code  \\\n",
       "0        [3HAD80]           [4.2.1.59]   \n",
       "1       [AMMQLT8]          [2.1.1.163]   \n",
       "2    [NTP1, ATPM]  [3.6.1.3, 3.6.1.15]   \n",
       "3         [LDH_D]           [1.1.1.28]   \n",
       "4       [DHNAOT4]           [2.5.1.74]   \n",
       "..            ...                  ...   \n",
       "233          None                  NaN   \n",
       "234          None                  NaN   \n",
       "235          None                  NaN   \n",
       "236          None                  NaN   \n",
       "237          None                  NaN   \n",
       "\n",
       "                                              equation  \\\n",
       "0    (3R)-3-hydroxyoctanoyl-[acp]  ->  (2E)-oct-2-e...   \n",
       "1    S-adenosyl-L-methionine + demethylmenaquinol-8...   \n",
       "2                  ATP + H2O  ->  ADP + phosphate + H+   \n",
       "3         (R)-lactate + NAD+  <-  pyruvate + NADH + H+   \n",
       "4    all-trans-octaprenyl diphosphate + 1,4-dihydro...   \n",
       "..                                                 ...   \n",
       "233  1 MNXM11@MNXD1 + 1 MNXM167418@MNXD1 + 1 MNXM72...   \n",
       "234  1 MNXM11@MNXD1 + 1 MNXM16655@MNXD1 + 1 MNXM728...   \n",
       "235  1 MNXM1104679@MNXD1 + 1 MNXM1446@MNXD1 + 1 MNX...   \n",
       "236          1 MNXM1101258@MNXD1 = 1 MNXM1104529@MNXD1   \n",
       "237  1 MNXM11@MNXD1 + 1 MNXM167419@MNXD1 + 1 MNXM72...   \n",
       "\n",
       "                                id       ncbiprotein  \\\n",
       "0                     4.2.1.59-RXN  [WP_011275247.1]   \n",
       "1    ADOMET-DMK-METHYLTRANSFER-RXN  [WP_011275738.1]   \n",
       "2                       ATPASE-RXN  [WP_016931380.1]   \n",
       "3             DLACTDEHYDROGNAD-RXN  [WP_011274818.1]   \n",
       "4                          DMK-RXN  [WP_016931372.1]   \n",
       "..                             ...               ...   \n",
       "233                   {MNXR124075}  [WP_011276231.1]   \n",
       "234                   {MNXR124080}  [WP_011275493.1]   \n",
       "235                   {MNXR146695}  [WP_011275264.1]   \n",
       "236                   {MNXR151539}  [WP_033079611.1]   \n",
       "237                   {MNXR124096}  [WP_011275561.1]   \n",
       "\n",
       "                                             reference       via  \n",
       "0                                                 None    BioCyc  \n",
       "1                                                 None    BioCyc  \n",
       "2                                                 None    BioCyc  \n",
       "3                                                 None    BioCyc  \n",
       "4                                                 None    BioCyc  \n",
       "..                                                 ...       ...  \n",
       "233  {'metacyc.reaction': 'TRYPTOPHAN--TRNA-LIGASE-...  MetaNetX  \n",
       "234  {'metacyc.reaction': 'TYROSINE--TRNA-LIGASE-RX...  MetaNetX  \n",
       "235  {'metacyc.reaction': 'UDP-NACMURALGLDAPAALIG-R...  MetaNetX  \n",
       "236  {'metacyc.reaction': 'UDPGLCNACEPIM-RXN', 'ori...  MetaNetX  \n",
       "237  {'metacyc.reaction': 'VALINE--TRNA-LIGASE-RXN'...  MetaNetX  \n",
       "\n",
       "[238 rows x 7 columns]"
      ]
     },
     "execution_count": 2,
     "metadata": {},
     "output_type": "execute_result"
    }
   ],
   "source": [
    "# Find missing reactions\n",
    "gfbc.find_missing_reactions(cmodel)\n",
    "\n",
    "# Get/show missing reactions\n",
    "gfbc.missing_reactions"
   ]
  },
  {
   "cell_type": "markdown",
   "metadata": {},
   "source": [
    "### Fill model"
   ]
  },
  {
   "cell_type": "code",
   "execution_count": null,
   "metadata": {},
   "outputs": [
    {
     "data": {
      "text/html": [
       "<div>\n",
       "<style scoped>\n",
       "    .dataframe tbody tr th:only-of-type {\n",
       "        vertical-align: middle;\n",
       "    }\n",
       "\n",
       "    .dataframe tbody tr th {\n",
       "        vertical-align: top;\n",
       "    }\n",
       "\n",
       "    .dataframe thead th {\n",
       "        text-align: right;\n",
       "    }\n",
       "</style>\n",
       "<table border=\"1\" class=\"dataframe\">\n",
       "  <thead>\n",
       "    <tr style=\"text-align: right;\">\n",
       "      <th></th>\n",
       "      <th>add_to_GPR</th>\n",
       "      <th>ec-code</th>\n",
       "      <th>equation</th>\n",
       "      <th>id</th>\n",
       "      <th>ncbiprotein</th>\n",
       "      <th>reference</th>\n",
       "      <th>via</th>\n",
       "    </tr>\n",
       "  </thead>\n",
       "  <tbody>\n",
       "    <tr>\n",
       "      <th>238</th>\n",
       "      <td>None</td>\n",
       "      <td>NaN</td>\n",
       "      <td>(1,4-alpha-D-galacturonosyl)(n+m)  -&gt;  (1,4-al...</td>\n",
       "      <td>4.2.2.2-RXN</td>\n",
       "      <td>[WP_011275342.1]</td>\n",
       "      <td>{'ec-code': ['4.2.2.2']}</td>\n",
       "      <td>BioCyc</td>\n",
       "    </tr>\n",
       "    <tr>\n",
       "      <th>239</th>\n",
       "      <td>None</td>\n",
       "      <td>NaN</td>\n",
       "      <td>a [protein]-L-proline (omega = 180)  &lt;--&gt;  a [...</td>\n",
       "      <td>PEPTIDYLPROLYL-ISOMERASE-RXN</td>\n",
       "      <td>[WP_016931161.1, WP_011275422.1, WP_016930839.1]</td>\n",
       "      <td>{'ec-code': ['5.2.1.8']}</td>\n",
       "      <td>BioCyc</td>\n",
       "    </tr>\n",
       "  </tbody>\n",
       "</table>\n",
       "</div>"
      ],
      "text/plain": [
       "    add_to_GPR ec-code                                           equation  \\\n",
       "238       None     NaN  (1,4-alpha-D-galacturonosyl)(n+m)  ->  (1,4-al...   \n",
       "239       None     NaN  a [protein]-L-proline (omega = 180)  <-->  a [...   \n",
       "\n",
       "                               id  \\\n",
       "238                   4.2.2.2-RXN   \n",
       "239  PEPTIDYLPROLYL-ISOMERASE-RXN   \n",
       "\n",
       "                                          ncbiprotein  \\\n",
       "238                                  [WP_011275342.1]   \n",
       "239  [WP_016931161.1, WP_011275422.1, WP_016930839.1]   \n",
       "\n",
       "                    reference     via  \n",
       "238  {'ec-code': ['4.2.2.2']}  BioCyc  \n",
       "239  {'ec-code': ['5.2.1.8']}  BioCyc  "
      ]
     },
     "execution_count": 3,
     "metadata": {},
     "output_type": "execute_result"
    }
   ],
   "source": [
    "# Fill model\n",
    "gfbc.fill_model(model)"
   ]
  },
  {
   "cell_type": "markdown",
   "metadata": {},
   "source": [
    "### Statistics"
   ]
  },
  {
   "cell_type": "code",
   "execution_count": null,
   "metadata": {},
   "outputs": [
    {
     "data": {
      "text/plain": [
       "{'genes': {'missing (before)': 235,\n",
       "  'duplicates': 0,\n",
       "  'added': 0,\n",
       "  'missing (after)': 0,\n",
       "  'missing (unmappable)': 0},\n",
       " 'reactions': {'added (total)': 0,\n",
       "  'failed to build': 0,\n",
       "  'missing (before)': 240,\n",
       "  'add to GPR (BioCyc)': 11,\n",
       "  'mapped2MNX': 227,\n",
       "  'mapped2BiGG': 0,\n",
       "  'remaining_unmapped': 2},\n",
       " 'metabolites': {}}"
      ]
     },
     "execution_count": 4,
     "metadata": {},
     "output_type": "execute_result"
    }
   ],
   "source": [
    "# Get raw statistics\n",
    "gfbc._statistics"
   ]
  }
 ],
 "metadata": {
  "kernelspec": {
   "display_name": "sprg",
   "language": "python",
   "name": "python3"
  },
  "language_info": {
   "codemirror_mode": {
    "name": "ipython",
    "version": 3
   },
   "file_extension": ".py",
   "mimetype": "text/x-python",
   "name": "python",
   "nbconvert_exporter": "python",
   "pygments_lexer": "ipython3",
   "version": "3.10.13"
  }
 },
 "nbformat": 4,
 "nbformat_minor": 2
}
