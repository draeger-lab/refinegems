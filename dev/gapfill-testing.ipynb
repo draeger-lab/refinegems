{
 "cells": [
  {
   "cell_type": "code",
   "execution_count": 1,
   "metadata": {},
   "outputs": [],
   "source": [
    "%load_ext autoreload\n",
    "%autoreload 2"
   ]
  },
  {
   "cell_type": "code",
   "execution_count": 2,
   "metadata": {},
   "outputs": [
    {
     "name": "stderr",
     "output_type": "stream",
     "text": [
      "/Users/brune/miniconda3/envs/sprg/lib/python3.10/site-packages/pydantic/_internal/_config.py:322: UserWarning: Valid config keys have changed in V2:\n",
      "* 'underscore_attrs_are_private' has been removed\n",
      "  warnings.warn(message, UserWarning)\n"
     ]
    },
    {
     "name": "stdout",
     "output_type": "stream",
     "text": [
      "Running in debugging mode.\n"
     ]
    }
   ],
   "source": [
    "from refinegems.classes.gapfill import GeneGapFiller\n",
    "from refinegems.utility.io import load_model\n",
    "\n",
    "modelpath = '/Users/brune/Documents/11_Test_Data/test_refinegems/test_gapfill/JSC1435/JCSC1435.xml'\n",
    "model = load_model(modelpath,'libsbml')\n",
    "cmodel = load_model(modelpath,'cobra')\n",
    "\n",
    "gffpath = '/Users/brune/Documents/11_Test_Data/test_refinegems/test_gapfill/JSC1435/JCSC1435_RefSeq.gff'\n",
    "\n",
    "gf2 = GeneGapFiller()\n",
    "gf2_missing_genes = gf2.get_missing_genes(gffpath,model)\n",
    "# ncbiprotein | locus_tag | ec-code\n",
    "\n",
    "tfasta = '/Users/brune/Documents/11_Test_Data/test_refinegems/test_gapfill/JSC1435/JCSC1435_proteins_genome.fasta'\n",
    "spdb = '/Users/brune/Documents/11_Test_Data/test_refinegems/test_gapfill/swissprot.dmnd'\n",
    "# gf2_missing_genes\n",
    "spmap = '/Users/brune/Documents/11_Test_Data/test_refinegems/test_gapfill/uniprot_table.tsv'\n",
    "kwargs = {'outdir':'/Users/brune/Documents/11_Test_Data/test_refinegems/test_gapfill/JSC1435',\n",
    "          'sens':'more-sensitive',\n",
    "          'cov':90.0,\n",
    "          't':4,\n",
    "          'pid':90.0}\n",
    "\n",
    "mapped_res = gf2.get_missing_reacs(model=cmodel,\n",
    "                                   missing_genes=gf2_missing_genes,\n",
    "                                   fasta=tfasta, \n",
    "                                   dmnd_db=spdb,\n",
    "                                   swissprot_map=spmap,\n",
    "                                   **kwargs)"
   ]
  },
  {
   "cell_type": "code",
   "execution_count": 3,
   "metadata": {},
   "outputs": [
    {
     "data": {
      "text/html": [
       "<div>\n",
       "<style scoped>\n",
       "    .dataframe tbody tr th:only-of-type {\n",
       "        vertical-align: middle;\n",
       "    }\n",
       "\n",
       "    .dataframe tbody tr th {\n",
       "        vertical-align: top;\n",
       "    }\n",
       "\n",
       "    .dataframe thead th {\n",
       "        text-align: right;\n",
       "    }\n",
       "</style>\n",
       "<table border=\"1\" class=\"dataframe\">\n",
       "  <thead>\n",
       "    <tr style=\"text-align: right;\">\n",
       "      <th></th>\n",
       "      <th>ec-code</th>\n",
       "      <th>ncbiprotein</th>\n",
       "      <th>id</th>\n",
       "      <th>equation</th>\n",
       "      <th>reference</th>\n",
       "      <th>is_transport</th>\n",
       "      <th>via</th>\n",
       "      <th>add_to_GPR</th>\n",
       "    </tr>\n",
       "  </thead>\n",
       "  <tbody>\n",
       "    <tr>\n",
       "      <th>0</th>\n",
       "      <td>5.6.2.2</td>\n",
       "      <td>[WP_011274363.1]</td>\n",
       "      <td>MNXR115632</td>\n",
       "      <td>1 MNXM12437@MNXD1 + 1 MNXM40333@MNXD1 + 1 MNXM...</td>\n",
       "      <td>metacycR:5.99.1.3-RXN</td>\n",
       "      <td>None</td>\n",
       "      <td>MetaNetX</td>\n",
       "      <td>None</td>\n",
       "    </tr>\n",
       "    <tr>\n",
       "      <th>1</th>\n",
       "      <td>5.6.2.2</td>\n",
       "      <td>[WP_011274363.1]</td>\n",
       "      <td>MNXR172894</td>\n",
       "      <td>1 MNXM1100221@MNXD1 + 1 MNXM40333@MNXD1 + 1 MN...</td>\n",
       "      <td>sabiorkR:15120</td>\n",
       "      <td>None</td>\n",
       "      <td>MetaNetX</td>\n",
       "      <td>None</td>\n",
       "    </tr>\n",
       "    <tr>\n",
       "      <th>2</th>\n",
       "      <td>5.6.2.2</td>\n",
       "      <td>[WP_011274363.1]</td>\n",
       "      <td>MNXR172895</td>\n",
       "      <td>1 MNXM1100221@MNXD1 + 1 MNXM735047@MNXD1 + 1 M...</td>\n",
       "      <td>sabiorkR:15121</td>\n",
       "      <td>None</td>\n",
       "      <td>MetaNetX</td>\n",
       "      <td>None</td>\n",
       "    </tr>\n",
       "    <tr>\n",
       "      <th>3</th>\n",
       "      <td>5.6.2.2</td>\n",
       "      <td>[WP_011274363.1]</td>\n",
       "      <td>MNXR172896</td>\n",
       "      <td>1 MNXM1100223@MNXD1 + 1 MNXM40333@MNXD1 + 1 MN...</td>\n",
       "      <td>sabiorkR:15122</td>\n",
       "      <td>None</td>\n",
       "      <td>MetaNetX</td>\n",
       "      <td>None</td>\n",
       "    </tr>\n",
       "  </tbody>\n",
       "</table>\n",
       "</div>"
      ],
      "text/plain": [
       "   ec-code       ncbiprotein          id  \\\n",
       "0  5.6.2.2  [WP_011274363.1]  MNXR115632   \n",
       "1  5.6.2.2  [WP_011274363.1]  MNXR172894   \n",
       "2  5.6.2.2  [WP_011274363.1]  MNXR172895   \n",
       "3  5.6.2.2  [WP_011274363.1]  MNXR172896   \n",
       "\n",
       "                                            equation              reference  \\\n",
       "0  1 MNXM12437@MNXD1 + 1 MNXM40333@MNXD1 + 1 MNXM...  metacycR:5.99.1.3-RXN   \n",
       "1  1 MNXM1100221@MNXD1 + 1 MNXM40333@MNXD1 + 1 MN...         sabiorkR:15120   \n",
       "2  1 MNXM1100221@MNXD1 + 1 MNXM735047@MNXD1 + 1 M...         sabiorkR:15121   \n",
       "3  1 MNXM1100223@MNXD1 + 1 MNXM40333@MNXD1 + 1 MN...         sabiorkR:15122   \n",
       "\n",
       "  is_transport       via add_to_GPR  \n",
       "0         None  MetaNetX       None  \n",
       "1         None  MetaNetX       None  \n",
       "2         None  MetaNetX       None  \n",
       "3         None  MetaNetX       None  "
      ]
     },
     "execution_count": 3,
     "metadata": {},
     "output_type": "execute_result"
    }
   ],
   "source": [
    "mapped_res[1]"
   ]
  },
  {
   "cell_type": "markdown",
   "metadata": {},
   "source": [
    "## the \"Filling\" part of Gapfilling\n",
    "\n",
    "**input**\n",
    "\n",
    "- the model\n",
    "- missing genes table\n",
    "- missing reacs table\n",
    "\n",
    "**out**\n",
    "\n",
    "- the extended model\n",
    "\n",
    "**else**\n",
    "\n",
    "- logging\n",
    "- save stats information"
   ]
  },
  {
   "cell_type": "code",
   "execution_count": 4,
   "metadata": {},
   "outputs": [
    {
     "data": {
      "text/html": [
       "<div>\n",
       "<style scoped>\n",
       "    .dataframe tbody tr th:only-of-type {\n",
       "        vertical-align: middle;\n",
       "    }\n",
       "\n",
       "    .dataframe tbody tr th {\n",
       "        vertical-align: top;\n",
       "    }\n",
       "\n",
       "    .dataframe thead th {\n",
       "        text-align: right;\n",
       "    }\n",
       "</style>\n",
       "<table border=\"1\" class=\"dataframe\">\n",
       "  <thead>\n",
       "    <tr style=\"text-align: right;\">\n",
       "      <th></th>\n",
       "      <th>ncbiprotein</th>\n",
       "      <th>locus_tag</th>\n",
       "      <th>ec-code</th>\n",
       "      <th>UniProt</th>\n",
       "    </tr>\n",
       "  </thead>\n",
       "  <tbody>\n",
       "    <tr>\n",
       "      <th>4</th>\n",
       "      <td>WP_011274363.1</td>\n",
       "      <td>SH0005</td>\n",
       "      <td>5.6.2.2</td>\n",
       "      <td>[Q5HK03, Q8CQK4, Q6GKU0, Q2FKQ1, Q6GD85, P0A0K...</td>\n",
       "    </tr>\n",
       "  </tbody>\n",
       "</table>\n",
       "</div>"
      ],
      "text/plain": [
       "      ncbiprotein locus_tag  ec-code  \\\n",
       "4  WP_011274363.1    SH0005  5.6.2.2   \n",
       "\n",
       "                                             UniProt  \n",
       "4  [Q5HK03, Q8CQK4, Q6GKU0, Q2FKQ1, Q6GD85, P0A0K...  "
      ]
     },
     "execution_count": 4,
     "metadata": {},
     "output_type": "execute_result"
    }
   ],
   "source": [
    "mapped_res[0]"
   ]
  },
  {
   "cell_type": "code",
   "execution_count": 5,
   "metadata": {},
   "outputs": [],
   "source": [
    "import pandas as pd\n",
    "from itertools import chain\n",
    "import re\n",
    "from refinegems.utility.cvterms import add_cv_term_genes\n",
    "\n",
    "\n",
    "# @TODO merge with the function of the same name in entities, if possible\n",
    "# or just use them separatly \n",
    "# @TODO generalise addition of references -> maybe kwargs\n",
    "# @TODO\n",
    "# what to do about the name\n",
    "def create_gp(model, protein_id, \n",
    "              name:str=None, locus_tag:str=None,\n",
    "              uniprot:tuple[str,bool]=None):\n",
    "    \n",
    "    # create gene product object\n",
    "    gp = model.getPlugin(0).createGeneProduct()\n",
    "    # set basic attributes\n",
    "    geneid = f'G_{protein_id}'.replace('.','_') # remove problematic signs\n",
    "    gp.setIdAttribute(geneid)               # ID \n",
    "    if name: gp.setName(name)               # Name  \n",
    "    if locus_tag: gp.setLabel(locus_tag)    # Label\n",
    "    gp.setSBOTerm('SBO:0000243')            # SBOterm\n",
    "    gp.setMetaId(f'meta_G_{protein_id}')    # Meta ID\n",
    "    # test for NCBI/RefSeq\n",
    "    if re.fullmatch('^(((AC|AP|NC|NG|NM|NP|NR|NT|NW|WP|XM|XP|XR|YP|ZP)_\\d+)|(NZ_[A-Z]{2,4}\\d+))(\\.\\d+)?$', protein_id, re.IGNORECASE):\n",
    "        id_db = 'REFSEQ'\n",
    "    elif re.fullmatch('^(\\w+\\d+(\\.\\d+)?)|(NP_\\d+)$', protein_id, re.IGNORECASE): id_db = 'NCBI'\n",
    "    if id_db: add_cv_term_genes(protein_id, id_db, gp)           # NCBI protein\n",
    "    # add further references\n",
    "    # @TODO extend or generalise\n",
    "    if uniprot:\n",
    "        for uniprotid in uniprot[0]:\n",
    "            add_cv_term_genes(uniprotid, 'UNIPROT', gp, uniprot[1]) # UniProt\n",
    "   \n",
    "   \n",
    "# probably sort into GapFiller\n",
    "def add_genes_from_table(model, gene_table:pd.DataFrame):\n",
    "    \n",
    "    # ncbiprotein | locus_tag | ec-code | ...\n",
    "    # work on a copy to ensure input stays the same\n",
    "    gene_table = gene_table.copy()\n",
    "    gene_table.drop(columns=['ec-code'],inplace=True)\n",
    "    \n",
    "    # create gps from the table and add them to the model\n",
    "    for idx,x in gene_table.iterrows():\n",
    "        create_gp(model, x['ncbiprotein'], \n",
    "                  locus_tag=x['locus_tag'],\n",
    "                  uniprot=(x['UniProt'],True))\n",
    "        \n",
    "\n",
    "def create_gpr(reaction,gene):\n",
    "    # Case 1:\n",
    "    pass\n",
    "\n",
    "\n",
    "def fill_model(model, missing_genes:pd.DataFrame, \n",
    "               missing_reacs:pd.DataFrame):\n",
    "    \n",
    "    # Step 1: Add genes to model whoose reactions are already in it\n",
    "    # -------------------------------------------------------------\n",
    "    # filter the respective genes and reactions\n",
    "    reacs_in_model = missing_reacs[~(missing_reacs['add_to_GPR'].isnull())]\n",
    "    ncbiprot_with_reacs_in_model = [*chain(*list(reacs_in_model['ncbiprotein']))]\n",
    "    genes_with_reacs_in_model = missing_genes[missing_genes['ncbiprotein'].isin(ncbiprot_with_reacs_in_model)]\n",
    "    \n",
    "    if len(genes_with_reacs_in_model) > 0:\n",
    "        # add genes as gene products to model\n",
    "        add_genes_from_table(model, genes_with_reacs_in_model)\n",
    "    \n",
    "        # extend gene production rules \n",
    "        # @TODO\n",
    "        # add_gene_reac_associations_from_table(model,....)\n",
    "   \n",
    "        # what remains:\n",
    "        missing_reacs = missing_reacs[missing_reacs['add_to_GPR'].isnull()]\n",
    "        missing_genes = missing_genes[~(missing_genes['ncbiprotein'].isin(ncbiprot_with_reacs_in_model))]\n",
    "    \n",
    "    \n",
    "    # Step 2: "
   ]
  },
  {
   "cell_type": "code",
   "execution_count": 6,
   "metadata": {},
   "outputs": [],
   "source": [
    "# [*chain(*list(mapped_res[1][~mapped_res[1]['add_to_GPR']]['ncbiprotein']))]\n",
    "testmodel = model.clone()\n",
    "testcase = mapped_res[1].copy()\n",
    "testcase.iloc[2,-1] = ['12DGR160tipp']\n",
    "fill_model(testmodel,mapped_res[0],testcase)\n",
    "after = testmodel.getPlugin(0).getListOfGeneProducts()"
   ]
  },
  {
   "cell_type": "code",
   "execution_count": null,
   "metadata": {},
   "outputs": [
    {
     "ename": "",
     "evalue": "",
     "output_type": "error",
     "traceback": [
      "\u001b[1;31mThe Kernel crashed while executing code in the current cell or a previous cell. \n",
      "\u001b[1;31mPlease review the code in the cell(s) to identify a possible cause of the failure. \n",
      "\u001b[1;31mClick <a href='https://aka.ms/vscodeJupyterKernelCrash'>here</a> for more info. \n",
      "\u001b[1;31mView Jupyter <a href='command:jupyter.viewOutput'>log</a> for further details."
     ]
    }
   ],
   "source": [
    "from libsbml import FbcOr, FbcAnd\n",
    "\n",
    "testmodel = model.clone()\n",
    "x = 113 # 45 : None, 46 : One, 113 Or\n",
    "id = 'WP_011274363_1'\n",
    "reac = testmodel.getListOfReactions()[x].getPlugin(0)\n",
    "# connection = 'or'\n",
    "# test, if there is already a gpr\n",
    "old_association_str = None\n",
    "old_association_fbc = None\n",
    "if reac.getGeneProductAssociation():\n",
    "    old_association = reac.clone().getGeneProductAssociation().getListOfAllElements()\n",
    "    if len(old_association) == 1:\n",
    "        old_association_str = old_association[0].getGeneProduct()\n",
    "    else:\n",
    "        for el in old_association:\n",
    "            if isinstance(el, FbcOr) or isinstance(el, FbcAnd):\n",
    "                old_association_fbc = el # there should only be one object od this type -> @TODO check\n",
    "                break\n",
    "                \n",
    "# create new gene product association \n",
    "if old_association_str and isinstance(id,str):\n",
    "    id = [old_association_str,id]\n",
    "elif old_association_str  and isinstance(id,list):\n",
    "    id.append(old_association_str)\n",
    "    \n",
    "# this does not work!!!!\n",
    "# @IDEA: create a dummy gp e.g. a copy of the current one and copy it from there\n",
    "if not old_association_fbc:\n",
    "    new_association = reac.createGeneProductAssociation()\n",
    "else:\n",
    "    new_association = reac.createGeneProductAssociation().createOr()\n",
    "    new_association.addAssociation(old_association_fbc)\n",
    "    \n",
    "if isinstance(id,str):\n",
    "    new_association.createGeneProductRef().setGeneProduct(id)\n",
    "elif isinstance(id,list) and len(id) == 1:\n",
    "    new_association.createGeneProductRef().setGeneProduct(id[0])\n",
    "elif isinstance(id,list) and len(id) > 1:\n",
    "    gpa_or =  new_association.createOr()\n",
    "    for i in id:\n",
    "        gpa_or.createGeneProductRef().setGeneProduct(i)\n",
    "        \n",
    "    \n",
    "\n",
    "print(reac.getGeneProductAssociation().getListOfAllElements())\n",
    "    "
   ]
  },
  {
   "cell_type": "code",
   "execution_count": 14,
   "metadata": {},
   "outputs": [
    {
     "name": "stdout",
     "output_type": "stream",
     "text": [
      "1538\n"
     ]
    }
   ],
   "source": [
    "testmodel = model.clone()\n",
    "print(len(testmodel.getListOfReactions()))\n",
    "testreac = testmodel.getListOfReactions()[113]\n",
    "testreaccopy = testreac.clone()"
   ]
  },
  {
   "cell_type": "code",
   "execution_count": 10,
   "metadata": {},
   "outputs": [
    {
     "data": {
      "text/plain": [
       "'R_ADPT'"
      ]
     },
     "execution_count": 10,
     "metadata": {},
     "output_type": "execute_result"
    }
   ],
   "source": [
    "testreac.getId()"
   ]
  },
  {
   "cell_type": "code",
   "execution_count": 11,
   "metadata": {},
   "outputs": [
    {
     "data": {
      "text/plain": [
       "'R_ADPT'"
      ]
     },
     "execution_count": 11,
     "metadata": {},
     "output_type": "execute_result"
    }
   ],
   "source": [
    "testreaccopy.getId()"
   ]
  },
  {
   "cell_type": "code",
   "execution_count": 12,
   "metadata": {},
   "outputs": [
    {
     "data": {
      "text/plain": [
       "1538"
      ]
     },
     "execution_count": 12,
     "metadata": {},
     "output_type": "execute_result"
    }
   ],
   "source": [
    "len(testmodel.getListOfReactions())"
   ]
  },
  {
   "cell_type": "markdown",
   "metadata": {},
   "source": [
    "### Further ideas and Code snippets for the filling part"
   ]
  },
  {
   "cell_type": "code",
   "execution_count": null,
   "metadata": {},
   "outputs": [],
   "source": []
  }
 ],
 "metadata": {
  "kernelspec": {
   "display_name": "sprg",
   "language": "python",
   "name": "python3"
  },
  "language_info": {
   "codemirror_mode": {
    "name": "ipython",
    "version": 3
   },
   "file_extension": ".py",
   "mimetype": "text/x-python",
   "name": "python",
   "nbconvert_exporter": "python",
   "pygments_lexer": "ipython3",
   "version": "3.10.14"
  }
 },
 "nbformat": 4,
 "nbformat_minor": 2
}
