{
 "cells": [
  {
   "cell_type": "code",
   "execution_count": 1,
   "metadata": {},
   "outputs": [],
   "source": [
    "%load_ext autoreload\n",
    "%autoreload 2"
   ]
  },
  {
   "cell_type": "code",
   "execution_count": 14,
   "metadata": {},
   "outputs": [
    {
     "name": "stdout",
     "output_type": "stream",
     "text": [
      "Running in debugging mode.\n"
     ]
    }
   ],
   "source": [
    "from refinegems.classes.gapfill import GeneGapFiller\n",
    "from refinegems.utility.io import load_model\n",
    "\n",
    "modelpath = '/Users/brune/Documents/11_Test_Data/test_refinegems/test_gapfill/JSC1435/JCSC1435.xml'\n",
    "model = load_model(modelpath,'libsbml')\n",
    "cmodel = load_model(modelpath,'cobra')\n",
    "\n",
    "gffpath = '/Users/brune/Documents/11_Test_Data/test_refinegems/test_gapfill/JSC1435/JCSC1435_RefSeq.gff'\n",
    "\n",
    "gf2 = GeneGapFiller()\n",
    "gf2_missing_genes = gf2.get_missing_genes(gffpath,model)\n",
    "# ncbiprotein | locus_tag | ec-code\n",
    "\n",
    "tfasta = '/Users/brune/Documents/11_Test_Data/test_refinegems/test_gapfill/JSC1435/JCSC1435_proteins_genome.fasta'\n",
    "spdb = '/Users/brune/Documents/11_Test_Data/test_refinegems/test_gapfill/swissprot.dmnd'\n",
    "# gf2_missing_genes\n",
    "spmap = '/Users/brune/Documents/11_Test_Data/test_refinegems/test_gapfill/uniprot_table.tsv'\n",
    "kwargs = {'outdir':'/Users/brune/Documents/11_Test_Data/test_refinegems/test_gapfill/JSC1435',\n",
    "          'sens':'more-sensitive',\n",
    "          'cov':90.0,\n",
    "          't':4,\n",
    "          'pid':90.0}\n",
    "\n",
    "mapped_res = gf2.get_missing_reacs(model=cmodel,\n",
    "                                   missing_genes=gf2_missing_genes,\n",
    "                                   fasta=tfasta, \n",
    "                                   dmnd_db=spdb,\n",
    "                                   swissprot_map=spmap,\n",
    "                                   **kwargs)"
   ]
  },
  {
   "cell_type": "code",
   "execution_count": 149,
   "metadata": {},
   "outputs": [
    {
     "data": {
      "text/html": [
       "<div>\n",
       "<style scoped>\n",
       "    .dataframe tbody tr th:only-of-type {\n",
       "        vertical-align: middle;\n",
       "    }\n",
       "\n",
       "    .dataframe tbody tr th {\n",
       "        vertical-align: top;\n",
       "    }\n",
       "\n",
       "    .dataframe thead th {\n",
       "        text-align: right;\n",
       "    }\n",
       "</style>\n",
       "<table border=\"1\" class=\"dataframe\">\n",
       "  <thead>\n",
       "    <tr style=\"text-align: right;\">\n",
       "      <th></th>\n",
       "      <th>ncbiprotein</th>\n",
       "      <th>locus_tag</th>\n",
       "      <th>ec-code</th>\n",
       "      <th>UniProt</th>\n",
       "    </tr>\n",
       "  </thead>\n",
       "  <tbody>\n",
       "    <tr>\n",
       "      <th>303</th>\n",
       "      <td>WP_011274811.1</td>\n",
       "      <td>SH0486</td>\n",
       "      <td>3.2.-.-</td>\n",
       "      <td>[Q4L980]</td>\n",
       "    </tr>\n",
       "    <tr>\n",
       "      <th>304</th>\n",
       "      <td>WP_011274812.1</td>\n",
       "      <td>SH0487</td>\n",
       "      <td>2.3.1.-</td>\n",
       "      <td>[Q4L979]</td>\n",
       "    </tr>\n",
       "    <tr>\n",
       "      <th>305</th>\n",
       "      <td>WP_011274813.1</td>\n",
       "      <td>SH0488</td>\n",
       "      <td>1.14.99.-</td>\n",
       "      <td>[Q4L978]</td>\n",
       "    </tr>\n",
       "    <tr>\n",
       "      <th>306</th>\n",
       "      <td>WP_011274814.1</td>\n",
       "      <td>SH0489</td>\n",
       "      <td>2.4.1.-</td>\n",
       "      <td>[Q4L977]</td>\n",
       "    </tr>\n",
       "    <tr>\n",
       "      <th>307</th>\n",
       "      <td>WP_011274815.1</td>\n",
       "      <td>SH0490</td>\n",
       "      <td>2.5.1.96</td>\n",
       "      <td>[Q4L976]</td>\n",
       "    </tr>\n",
       "    <tr>\n",
       "      <th>308</th>\n",
       "      <td>WP_080004924.1</td>\n",
       "      <td>SH0491</td>\n",
       "      <td>1.3.8.-</td>\n",
       "      <td>[Q4L975]</td>\n",
       "    </tr>\n",
       "    <tr>\n",
       "      <th>312</th>\n",
       "      <td>WP_011274824.1</td>\n",
       "      <td>SH0499</td>\n",
       "      <td>2.3.1.-</td>\n",
       "      <td>[Q4L967]</td>\n",
       "    </tr>\n",
       "  </tbody>\n",
       "</table>\n",
       "</div>"
      ],
      "text/plain": [
       "        ncbiprotein locus_tag    ec-code   UniProt\n",
       "303  WP_011274811.1    SH0486    3.2.-.-  [Q4L980]\n",
       "304  WP_011274812.1    SH0487    2.3.1.-  [Q4L979]\n",
       "305  WP_011274813.1    SH0488  1.14.99.-  [Q4L978]\n",
       "306  WP_011274814.1    SH0489    2.4.1.-  [Q4L977]\n",
       "307  WP_011274815.1    SH0490   2.5.1.96  [Q4L976]\n",
       "308  WP_080004924.1    SH0491    1.3.8.-  [Q4L975]\n",
       "312  WP_011274824.1    SH0499    2.3.1.-  [Q4L967]"
      ]
     },
     "execution_count": 149,
     "metadata": {},
     "output_type": "execute_result"
    }
   ],
   "source": [
    "mapped_res[0]"
   ]
  },
  {
   "cell_type": "markdown",
   "metadata": {},
   "source": [
    "## the \"Filling\" part of Gapfilling\n",
    "\n",
    "**input**\n",
    "\n",
    "- the model\n",
    "- missing genes table\n",
    "- missing reacs table\n",
    "\n",
    "**out**\n",
    "\n",
    "- the extended model\n",
    "\n",
    "**else**\n",
    "\n",
    "- logging\n",
    "- save stats information"
   ]
  },
  {
   "cell_type": "code",
   "execution_count": 15,
   "metadata": {},
   "outputs": [],
   "source": [
    "import pandas as pd\n",
    "from itertools import chain\n",
    "import re\n",
    "from refinegems.utility.cvterms import add_cv_term_genes\n",
    "from libsbml import FbcOr, FbcAnd, GeneProductRef\n",
    "from libsbml import Model as libModel\n",
    "import warnings\n",
    "import libsbml\n",
    "from typing import Union,List\n",
    "\n",
    "\n",
    "def fill_model(model, missing_genes:pd.DataFrame, \n",
    "               missing_reacs:pd.DataFrame):\n",
    "    \n",
    "    # Step 1: Add genes to model whoose reactions are already in it\n",
    "    # -------------------------------------------------------------\n",
    "    # filter the respective genes and reactions\n",
    "    reacs_in_model = missing_reacs[~(missing_reacs['add_to_GPR'].isnull())]\n",
    "    ncbiprot_with_reacs_in_model = [*chain(*list(reacs_in_model['ncbiprotein']))]\n",
    "    genes_with_reacs_in_model = missing_genes[missing_genes['ncbiprotein'].isin(ncbiprot_with_reacs_in_model)]\n",
    "    \n",
    "    if len(genes_with_reacs_in_model) > 0:\n",
    "        # add genes as gene products to model\n",
    "        add_genes_from_table(model, genes_with_reacs_in_model)\n",
    "    \n",
    "        # extend gene production rules \n",
    "        add_gene_reac_associations_from_table(model,reacs_in_model)\n",
    "        \n",
    "        # what remains:\n",
    "        missing_reacs = missing_reacs[missing_reacs['add_to_GPR'].isnull()]\n",
    "        missing_genes = missing_genes[~(missing_genes['ncbiprotein'].isin(ncbiprot_with_reacs_in_model))]\n",
    "    \n",
    "    \n",
    "    # Step 2: "
   ]
  },
  {
   "cell_type": "code",
   "execution_count": 16,
   "metadata": {},
   "outputs": [],
   "source": [
    "# [*chain(*list(mapped_res[1][~mapped_res[1]['add_to_GPR']]['ncbiprotein']))]\n",
    "testmodel = model.clone()\n",
    "# print(testmodel.getReaction('R_12DGR160tipp').getPlugin(0).getGeneProductAssociation().getListOfAllElements())\n",
    "testcase = mapped_res[1].copy()\n",
    "testcase.iloc[2,-1] = ['12DGR160tipp']\n",
    "fill_model(testmodel,mapped_res[0],testcase)\n",
    "after = testmodel.getPlugin(0).getListOfGeneProducts()"
   ]
  },
  {
   "cell_type": "code",
   "execution_count": 17,
   "metadata": {},
   "outputs": [
    {
     "data": {
      "text/plain": [
       "'G_WP_011274813_1'"
      ]
     },
     "execution_count": 17,
     "metadata": {},
     "output_type": "execute_result"
    }
   ],
   "source": [
    "testmodel.getReaction('R_12DGR160tipp').getPlugin(0).getGeneProductAssociation().getListOfAllElements()[0].getGeneProduct()"
   ]
  },
  {
   "cell_type": "code",
   "execution_count": 18,
   "metadata": {},
   "outputs": [
    {
     "data": {
      "text/plain": [
       "'1 MNXM10@MNXD1 + 1 MNXM1@MNXD1 + 1 MNXM731466@MNXD1 + 1 MNXM735438@MNXD1 = 1 MNXM3180@MNXD1 + 1 MNXM8@MNXD1 + 1 WATER@MNXD1'"
      ]
     },
     "execution_count": 18,
     "metadata": {},
     "output_type": "execute_result"
    }
   ],
   "source": [
    "testcase.iloc[2,3]"
   ]
  },
  {
   "cell_type": "markdown",
   "metadata": {},
   "source": [
    "### Further ideas and Code snippets for the filling part\n",
    "\n",
    "##### how to build the new entities:\n",
    "\n",
    "- option a) collection all information first, filter and then add them from table\n",
    "- option b) iteratively collection information and add entities (reaction after reaction)\n",
    "\n",
    "use libsbml or cobrapy?\n",
    "\n",
    "available functions:\n",
    "- libsbml-based create_reaction/create_species (needs all information beforehand + all other entities need to be in the model) -> required for the gene labels\n",
    "- cobra-based add_reaction/add_metabolite (builds as it goes), also match_id_to_namespace and \n",
    "finding possible matches might be easier using COBRApy <- namespace and annotation stuff far easier here\n",
    "\n",
    "definitly needed:\n",
    "- parse reaction string of different formats:\n",
    "    - MetaNetX (can get this somewhat from SPECIMEN)\n",
    "    - KEGG (also somewhat in SPECIMEN)\n",
    "    - BiGG (new?)\n",
    "    - BioCyc (new?)\n",
    "- retrieve needed information from the required databases (reaction/metabolites)\n",
    "    - cross referencing, if one db not enough?\n",
    "- filter for when to include reactions and when not (e.g. missing metabolites, formulas, DNA/RNA etc.) **This means, before adding stuff to the model, it needs to be validated**\n"
   ]
  },
  {
   "cell_type": "markdown",
   "metadata": {},
   "source": [
    "#### Reload a libsbml model into a cobra model"
   ]
  },
  {
   "cell_type": "code",
   "execution_count": 19,
   "metadata": {},
   "outputs": [
    {
     "name": "stdout",
     "output_type": "stream",
     "text": [
      "<tempfile._TemporaryFileWrapper object at 0x2c5d7c190>\n"
     ]
    }
   ],
   "source": [
    "from tempfile import NamedTemporaryFile\n",
    "from refinegems.utility.io import write_model_to_file, load_model\n",
    "\n",
    "with NamedTemporaryFile(suffix='.xml') as tmp:\n",
    "    print(tmp)\n",
    "    write_model_to_file(model,tmp.name)\n",
    "    cobramodel = load_model(tmp.name,'cobra')"
   ]
  },
  {
   "cell_type": "markdown",
   "metadata": {},
   "source": [
    "#### creating the reactions"
   ]
  },
  {
   "cell_type": "code",
   "execution_count": 147,
   "metadata": {},
   "outputs": [],
   "source": [
    "from refinegems.curation.db_access.kegg import kegg_reaction_parser\n",
    "from tqdm import tqdm\n",
    "\n",
    "# GapFiller functions\n",
    "# -------------------\n",
    "\n",
    "# @TODO BioCyc not implemeneted\n",
    "# @TODO logging, save stuff for manual curation etc.\n",
    "# @TEST - somewhat seems to work - for now\n",
    "def add_reactions_from_table(model,missing_reac_table,\n",
    "                             idprefix='refineGEMs',\n",
    "                             namespace:Literal['BiGG']='BiGG'):\n",
    "    \n",
    "    # reconstruct reactions\n",
    "    # ---------------------\n",
    "    for idx,row in tqdm(missing_reac_table.iterrows(), \n",
    "                        desc='Trying to add missing reacs',\n",
    "                        total=missing_reac_table.shape[0]):\n",
    "        # build reaction\n",
    "        reac = None\n",
    "        match row['via']:\n",
    "            # MetaNetX\n",
    "            case 'MetaNetX':\n",
    "                reac = build_reaction_mnx(model,row['id'],\n",
    "                                          reac_str=row['equation'],\n",
    "                                          references={'ec-code':[row['ec-code']]},\n",
    "                                          idprefix=idprefix,\n",
    "                                          namespace=namespace)      \n",
    "            # KEGG\n",
    "            case 'KEGG':\n",
    "                refs = row['references']\n",
    "                refs['ec-code'] = row['ec-code']\n",
    "                reac = build_reaction_kegg(model,row['id'],\n",
    "                                           reac_str=row['equation'],\n",
    "                                           references=refs,\n",
    "                                           idprefix=idprefix,\n",
    "                                           namespace=namespace)\n",
    "            # BiGG\n",
    "            case 'BiGG':\n",
    "                reac = build_reaction_bigg(model,row['id'],\n",
    "                                           references={'ec-code':[row['ec-code']]},\n",
    "                                           idprefix=idprefix,\n",
    "                                           namespace=namespace)\n",
    "            # BioCyc @TODO\n",
    "            case 'BioCyc':\n",
    "                reac = build_reaction_biocyc()\n",
    "            # Unknown database\n",
    "            case _:\n",
    "                mes = f'''Unknown database name for reaction reconstruction: {row[\"via\"]}\\n\n",
    "                Reaction will not be reconstructed.'''\n",
    "                warnings.warn(mes,UserWarning)\n",
    "        \n",
    "        # check output of reconstruction\n",
    "        # ------------------------------\n",
    "        # case 1: reconstruction was not possible\n",
    "        if not reac:\n",
    "            pass # nothing to do here\n",
    "        # case 2: reaction(s) found in model\n",
    "        elif isinstance(reac,list):\n",
    "            # add found names to the add_to_GPR column of the table\n",
    "            current_gpr = missing_reac_table.loc[idx,'add_to_GPR']\n",
    "            if not current_gpr:\n",
    "                missing_reac_table.at[idx,'add_to_GPR'] = reac\n",
    "            else:\n",
    "                missing_reac_table.at[idx,'add_to_GPR'] = list(set(reac + current_gpr))\n",
    "        # case 3: new reaction was generated\n",
    "        elif isinstance(reac,cobra.Reaction):\n",
    "            # validate reaction\n",
    "            if isreaction_complete(reac):\n",
    "                # add reaction to model (if validation succesful)\n",
    "                model.add_reactions([reac])\n",
    "                # add reaction ID to table under add_to_GPR\n",
    "                current_gpr = missing_reac_table.loc[idx,'add_to_GPR']\n",
    "                if not current_gpr:\n",
    "                    missing_reac_table.at[idx,'add_to_GPR'] = reac.id\n",
    "                else:\n",
    "                    current_gpr.append(reac.id)\n",
    "                    missing_reac_table.at[idx,'add_to_GPR'] = list(set(current_gpr))\n",
    "        # case 4: should never occur\n",
    "        else:\n",
    "            mes = f'Unknown return type for reac param. Please contact the developers.'\n",
    "            raise TypeError(mes)\n",
    "        \n",
    "    #@TODO\n",
    "    # save reactions, that could not be recontructed, for manual curation\n",
    "    manual_curation_reacs = missing_reac_table[missing_reac_table['add_to_GPR'].isnull()]\n",
    "    # return the updated table with successfully reconstructed reaction ids \n",
    "    # to enable adding the genes\n",
    "    missing_gprs = missing_reac_table[~missing_reac_table['add_to_GPR'].isnull()]\n",
    "    return missing_gprs\n",
    "\n",
    "\n",
    "\n",
    "# -------------------\n",
    "\n",
    "# since adding genes works better with libsbml, \n",
    "# return the tabke with the newly added reaction IDs?\n",
    "# or still add them here??? -> since this is specific \n",
    "# for gapfilling, it does not matter"
   ]
  },
  {
   "cell_type": "code",
   "execution_count": 148,
   "metadata": {},
   "outputs": [
    {
     "name": "stderr",
     "output_type": "stream",
     "text": [
      "Trying to add missing reacs: 100%|██████████| 5/5 [00:04<00:00,  1.09it/s]\n"
     ]
    },
    {
     "data": {
      "text/html": [
       "<div>\n",
       "<style scoped>\n",
       "    .dataframe tbody tr th:only-of-type {\n",
       "        vertical-align: middle;\n",
       "    }\n",
       "\n",
       "    .dataframe tbody tr th {\n",
       "        vertical-align: top;\n",
       "    }\n",
       "\n",
       "    .dataframe thead th {\n",
       "        text-align: right;\n",
       "    }\n",
       "</style>\n",
       "<table border=\"1\" class=\"dataframe\">\n",
       "  <thead>\n",
       "    <tr style=\"text-align: right;\">\n",
       "      <th></th>\n",
       "      <th>ec-code</th>\n",
       "      <th>ncbiprotein</th>\n",
       "      <th>id</th>\n",
       "      <th>equation</th>\n",
       "      <th>reference</th>\n",
       "      <th>is_transport</th>\n",
       "      <th>via</th>\n",
       "      <th>add_to_GPR</th>\n",
       "    </tr>\n",
       "  </thead>\n",
       "  <tbody>\n",
       "    <tr>\n",
       "      <th>486</th>\n",
       "      <td>2.4.1.-</td>\n",
       "      <td>[WP_011274814.1]</td>\n",
       "      <td>MNXR117306</td>\n",
       "      <td>1 MNXM1033@MNXD1 + 1 MNXM1103285@MNXD1 + 1 MNX...</td>\n",
       "      <td>rheaR:31315</td>\n",
       "      <td>None</td>\n",
       "      <td>MetaNetX</td>\n",
       "      <td>refineGEMsreacJ7KDH4</td>\n",
       "    </tr>\n",
       "    <tr>\n",
       "      <th>169</th>\n",
       "      <td>2.3.1.-</td>\n",
       "      <td>[WP_011274812.1, WP_011274824.1]</td>\n",
       "      <td>MNXR112303</td>\n",
       "      <td>1 MNXM1102789@MNXD1 + 1 MNXM735433@MNXD1 + 1 W...</td>\n",
       "      <td>keggR:R08809</td>\n",
       "      <td>None</td>\n",
       "      <td>MetaNetX</td>\n",
       "      <td>refineGEMsreac55L771</td>\n",
       "    </tr>\n",
       "    <tr>\n",
       "      <th>455</th>\n",
       "      <td>2.4.1.-</td>\n",
       "      <td>[WP_011274814.1]</td>\n",
       "      <td>MNXR112311</td>\n",
       "      <td>1 MNXM1102128@MNXD1 + 1 MNXM6228@MNXD1 = 1 MNX...</td>\n",
       "      <td>keggR:R08817</td>\n",
       "      <td>None</td>\n",
       "      <td>MetaNetX</td>\n",
       "      <td>refineGEMsreac5RBIFT</td>\n",
       "    </tr>\n",
       "    <tr>\n",
       "      <th>110</th>\n",
       "      <td>1.14.99.-</td>\n",
       "      <td>[WP_011274813.1]</td>\n",
       "      <td>MNXR180140</td>\n",
       "      <td>1 MNXM62080@MNXD1 + 1 WATER@MNXD1 = 1 MNXM9572...</td>\n",
       "      <td>seedR:rxn32331</td>\n",
       "      <td>None</td>\n",
       "      <td>MetaNetX</td>\n",
       "      <td>refineGEMsreacY72BV4</td>\n",
       "    </tr>\n",
       "  </tbody>\n",
       "</table>\n",
       "</div>"
      ],
      "text/plain": [
       "       ec-code                       ncbiprotein          id  \\\n",
       "486    2.4.1.-                  [WP_011274814.1]  MNXR117306   \n",
       "169    2.3.1.-  [WP_011274812.1, WP_011274824.1]  MNXR112303   \n",
       "455    2.4.1.-                  [WP_011274814.1]  MNXR112311   \n",
       "110  1.14.99.-                  [WP_011274813.1]  MNXR180140   \n",
       "\n",
       "                                              equation       reference  \\\n",
       "486  1 MNXM1033@MNXD1 + 1 MNXM1103285@MNXD1 + 1 MNX...     rheaR:31315   \n",
       "169  1 MNXM1102789@MNXD1 + 1 MNXM735433@MNXD1 + 1 W...    keggR:R08809   \n",
       "455  1 MNXM1102128@MNXD1 + 1 MNXM6228@MNXD1 = 1 MNX...    keggR:R08817   \n",
       "110  1 MNXM62080@MNXD1 + 1 WATER@MNXD1 = 1 MNXM9572...  seedR:rxn32331   \n",
       "\n",
       "    is_transport       via            add_to_GPR  \n",
       "486         None  MetaNetX  refineGEMsreacJ7KDH4  \n",
       "169         None  MetaNetX  refineGEMsreac55L771  \n",
       "455         None  MetaNetX  refineGEMsreac5RBIFT  \n",
       "110         None  MetaNetX  refineGEMsreacY72BV4  "
      ]
     },
     "execution_count": 148,
     "metadata": {},
     "output_type": "execute_result"
    }
   ],
   "source": [
    "testcmod = cobramodel.copy()\n",
    "addtestcase = testcase.sample(5)\n",
    "add_reactions_from_table(testcmod,addtestcase)"
   ]
  },
  {
   "cell_type": "code",
   "execution_count": null,
   "metadata": {},
   "outputs": [],
   "source": []
  }
 ],
 "metadata": {
  "kernelspec": {
   "display_name": "sprg",
   "language": "python",
   "name": "python3"
  },
  "language_info": {
   "codemirror_mode": {
    "name": "ipython",
    "version": 3
   },
   "file_extension": ".py",
   "mimetype": "text/x-python",
   "name": "python",
   "nbconvert_exporter": "python",
   "pygments_lexer": "ipython3",
   "version": "3.10.14"
  }
 },
 "nbformat": 4,
 "nbformat_minor": 2
}
