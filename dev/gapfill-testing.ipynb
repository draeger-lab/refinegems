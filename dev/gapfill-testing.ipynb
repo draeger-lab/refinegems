{
 "cells": [
  {
   "cell_type": "code",
   "execution_count": 1,
   "metadata": {},
   "outputs": [],
   "source": [
    "%load_ext autoreload\n",
    "%autoreload 2"
   ]
  },
  {
   "cell_type": "code",
   "execution_count": 2,
   "metadata": {},
   "outputs": [
    {
     "name": "stderr",
     "output_type": "stream",
     "text": [
      "/Users/brune/miniconda3/envs/sprg/lib/python3.10/site-packages/pydantic/_internal/_config.py:322: UserWarning: Valid config keys have changed in V2:\n",
      "* 'underscore_attrs_are_private' has been removed\n",
      "  warnings.warn(message, UserWarning)\n"
     ]
    }
   ],
   "source": [
    "from refinegems.classes.gapfill import KEGGapFiller\n",
    "from refinegems.utility.io import load_model"
   ]
  },
  {
   "cell_type": "code",
   "execution_count": 3,
   "metadata": {},
   "outputs": [],
   "source": [
    "mpath = '/Users/brune/Documents/11_Test_Data/test_refinegems/test_gapfill/JCSC1435.xml'\n",
    "\n",
    "model = load_model(mpath,'libsbml')"
   ]
  },
  {
   "cell_type": "code",
   "execution_count": 4,
   "metadata": {},
   "outputs": [
    {
     "ename": "NameError",
     "evalue": "name 'get_missing_genes' is not defined",
     "output_type": "error",
     "traceback": [
      "\u001b[0;31m---------------------------------------------------------------------------\u001b[0m",
      "\u001b[0;31mNameError\u001b[0m                                 Traceback (most recent call last)",
      "Cell \u001b[0;32mIn[4], line 2\u001b[0m\n\u001b[1;32m      1\u001b[0m gff2 \u001b[38;5;241m=\u001b[39m \u001b[38;5;124m'\u001b[39m\u001b[38;5;124m/Users/brune/Documents/11_Test_Data/test_refinegems/test_gapfill/JCSC1435_RefSeq.gff\u001b[39m\u001b[38;5;124m'\u001b[39m\n\u001b[0;32m----> 2\u001b[0m missing_genes \u001b[38;5;241m=\u001b[39m \u001b[43mget_missing_genes\u001b[49m(gff2,load_model(\u001b[38;5;124m'\u001b[39m\u001b[38;5;124m/Users/brune/Documents/11_Test_Data/test_refinegems/test_gapfill/JCSC1435.xml\u001b[39m\u001b[38;5;124m'\u001b[39m,\u001b[38;5;124m'\u001b[39m\u001b[38;5;124mlibsbml\u001b[39m\u001b[38;5;124m'\u001b[39m))\n\u001b[1;32m      3\u001b[0m missing_genes\n\u001b[1;32m      5\u001b[0m \u001b[38;5;66;03m# @TODO : some od the genes do not have an old locus tag -> what to do?\u001b[39;00m\n",
      "\u001b[0;31mNameError\u001b[0m: name 'get_missing_genes' is not defined"
     ]
    }
   ],
   "source": [
    "gff2 = '/Users/brune/Documents/11_Test_Data/test_refinegems/test_gapfill/JCSC1435_RefSeq.gff'\n",
    "missing_genes = get_missing_genes(gff2,load_model('/Users/brune/Documents/11_Test_Data/test_refinegems/test_gapfill/JCSC1435.xml','libsbml'))\n",
    "missing_genes\n",
    "\n",
    "# @TODO : some od the genes do not have an old locus tag -> what to do?"
   ]
  },
  {
   "cell_type": "code",
   "execution_count": 3,
   "metadata": {},
   "outputs": [
    {
     "name": "stderr",
     "output_type": "stream",
     "text": [
      "/Users/brune/miniconda3/envs/sprg/lib/python3.10/site-packages/pydantic/_internal/_config.py:322: UserWarning: Valid config keys have changed in V2:\n",
      "* 'underscore_attrs_are_private' has been removed\n",
      "  warnings.warn(message, UserWarning)\n"
     ]
    },
    {
     "name": "stdout",
     "output_type": "stream",
     "text": [
      "Running in debugging mode.\n"
     ]
    }
   ],
   "source": [
    "from refinegems.classes.gapfill import GeneGapFiller\n",
    "from refinegems.utility.io import load_model\n",
    "\n",
    "modelpath = '/Users/brune/Documents/11_Test_Data/test_refinegems/test_gapfill/JSC1435/JCSC1435.xml'\n",
    "model = load_model(modelpath,'libsbml')\n",
    "cmodel = load_model(modelpath,'cobra')\n",
    "\n",
    "gffpath = '/Users/brune/Documents/11_Test_Data/test_refinegems/test_gapfill/JSC1435/JCSC1435_RefSeq.gff'\n",
    "\n",
    "gf2 = GeneGapFiller()\n",
    "gf2_missing_genes = gf2.get_missing_genes(gffpath,model)\n",
    "# ncbiprotein | locus_tag | ec-code\n",
    "\n",
    "tfasta = '/Users/brune/Documents/11_Test_Data/test_refinegems/test_gapfill/JSC1435/JCSC1435_proteins_genome.fasta'\n",
    "spdb = '/Users/brune/Documents/11_Test_Data/test_refinegems/test_gapfill/swissprot.dmnd'\n",
    "# gf2_missing_genes\n",
    "spmap = '/Users/brune/Documents/11_Test_Data/test_refinegems/test_gapfill/uniprot_table.tsv'\n",
    "kwargs = {'outdir':'/Users/brune/Documents/11_Test_Data/test_refinegems/test_gapfill/JSC1435',\n",
    "          'sens':'more-sensitive',\n",
    "          'cov':90.0,\n",
    "          't':4,\n",
    "          'pid':90.0}\n",
    "\n",
    "mapped_res = gf2.get_missing_reacs(model=cmodel,\n",
    "                                   missing_genes=gf2_missing_genes,\n",
    "                                   fasta=tfasta, \n",
    "                                   dmnd_db=spdb,\n",
    "                                   swissprot_map=spmap,\n",
    "                                   **kwargs)"
   ]
  },
  {
   "cell_type": "code",
   "execution_count": 7,
   "metadata": {},
   "outputs": [
    {
     "data": {
      "text/html": [
       "<div>\n",
       "<style scoped>\n",
       "    .dataframe tbody tr th:only-of-type {\n",
       "        vertical-align: middle;\n",
       "    }\n",
       "\n",
       "    .dataframe tbody tr th {\n",
       "        vertical-align: top;\n",
       "    }\n",
       "\n",
       "    .dataframe thead th {\n",
       "        text-align: right;\n",
       "    }\n",
       "</style>\n",
       "<table border=\"1\" class=\"dataframe\">\n",
       "  <thead>\n",
       "    <tr style=\"text-align: right;\">\n",
       "      <th></th>\n",
       "      <th>ec-code</th>\n",
       "      <th>ncbiprotein</th>\n",
       "      <th>id</th>\n",
       "      <th>equation</th>\n",
       "      <th>reference</th>\n",
       "      <th>is_transport</th>\n",
       "      <th>via</th>\n",
       "      <th>add_to_GPR</th>\n",
       "    </tr>\n",
       "  </thead>\n",
       "  <tbody>\n",
       "    <tr>\n",
       "      <th>0</th>\n",
       "      <td>5.6.2.2</td>\n",
       "      <td>[WP_011274363.1]</td>\n",
       "      <td>MNXR115632</td>\n",
       "      <td>1 MNXM12437@MNXD1 + 1 MNXM40333@MNXD1 + 1 MNXM...</td>\n",
       "      <td>metacycR:5.99.1.3-RXN</td>\n",
       "      <td>None</td>\n",
       "      <td>MetaNetX</td>\n",
       "      <td>None</td>\n",
       "    </tr>\n",
       "    <tr>\n",
       "      <th>1</th>\n",
       "      <td>5.6.2.2</td>\n",
       "      <td>[WP_011274363.1]</td>\n",
       "      <td>MNXR172894</td>\n",
       "      <td>1 MNXM1100221@MNXD1 + 1 MNXM40333@MNXD1 + 1 MN...</td>\n",
       "      <td>sabiorkR:15120</td>\n",
       "      <td>None</td>\n",
       "      <td>MetaNetX</td>\n",
       "      <td>None</td>\n",
       "    </tr>\n",
       "    <tr>\n",
       "      <th>2</th>\n",
       "      <td>5.6.2.2</td>\n",
       "      <td>[WP_011274363.1]</td>\n",
       "      <td>MNXR172895</td>\n",
       "      <td>1 MNXM1100221@MNXD1 + 1 MNXM735047@MNXD1 + 1 M...</td>\n",
       "      <td>sabiorkR:15121</td>\n",
       "      <td>None</td>\n",
       "      <td>MetaNetX</td>\n",
       "      <td>None</td>\n",
       "    </tr>\n",
       "    <tr>\n",
       "      <th>3</th>\n",
       "      <td>5.6.2.2</td>\n",
       "      <td>[WP_011274363.1]</td>\n",
       "      <td>MNXR172896</td>\n",
       "      <td>1 MNXM1100223@MNXD1 + 1 MNXM40333@MNXD1 + 1 MN...</td>\n",
       "      <td>sabiorkR:15122</td>\n",
       "      <td>None</td>\n",
       "      <td>MetaNetX</td>\n",
       "      <td>None</td>\n",
       "    </tr>\n",
       "  </tbody>\n",
       "</table>\n",
       "</div>"
      ],
      "text/plain": [
       "   ec-code       ncbiprotein          id  \\\n",
       "0  5.6.2.2  [WP_011274363.1]  MNXR115632   \n",
       "1  5.6.2.2  [WP_011274363.1]  MNXR172894   \n",
       "2  5.6.2.2  [WP_011274363.1]  MNXR172895   \n",
       "3  5.6.2.2  [WP_011274363.1]  MNXR172896   \n",
       "\n",
       "                                            equation              reference  \\\n",
       "0  1 MNXM12437@MNXD1 + 1 MNXM40333@MNXD1 + 1 MNXM...  metacycR:5.99.1.3-RXN   \n",
       "1  1 MNXM1100221@MNXD1 + 1 MNXM40333@MNXD1 + 1 MN...         sabiorkR:15120   \n",
       "2  1 MNXM1100221@MNXD1 + 1 MNXM735047@MNXD1 + 1 M...         sabiorkR:15121   \n",
       "3  1 MNXM1100223@MNXD1 + 1 MNXM40333@MNXD1 + 1 MN...         sabiorkR:15122   \n",
       "\n",
       "  is_transport       via add_to_GPR  \n",
       "0         None  MetaNetX       None  \n",
       "1         None  MetaNetX       None  \n",
       "2         None  MetaNetX       None  \n",
       "3         None  MetaNetX       None  "
      ]
     },
     "execution_count": 7,
     "metadata": {},
     "output_type": "execute_result"
    }
   ],
   "source": [
    "mapped_res[1]"
   ]
  },
  {
   "cell_type": "markdown",
   "metadata": {},
   "source": [
    "### SwissProt Setup"
   ]
  },
  {
   "cell_type": "code",
   "execution_count": 6,
   "metadata": {},
   "outputs": [],
   "source": [
    "# @TODO\n",
    "# SwissProt Download\n",
    "# (mappings + sequences can be downloaded from DB)\n",
    "# two tables: \n",
    "#   1.: TSV with UniprotID, BRENDA and EC -7.7MB (26.07.2024)\n",
    "#   2.: FASTA with sequences ~280MB (26.07.2024)\n",
    "# more infos:\n",
    "#   - API generation possible for automatic download\n",
    "#   - maybe write a small script to download stuff and shorten to actual EC/BRENDA mappings\n",
    "\n",
    "# current_release or complete? differences?\n",
    "swissprot_api = 'https://ftp.uniprot.org/pub/databases/uniprot/current_release/knowledgebase/complete/uniprot_sprot.fasta.gz'\n",
    "swissprot_mapping_api = 'https://rest.uniprot.org/uniprotkb/stream?compressed=true&fields=accession%2Cxref_brenda%2Cec%2Csequence&format=tsv&query=%28*%29+AND+%28reviewed%3Atrue%29'\n",
    "\n",
    "# use Python code e.g. requests or\n",
    "# use a bash script for this? (OS-independancy might become a problem...)\n",
    "\n",
    "def download_swissprot_for_gapfill():\n",
    "    pass\n",
    "    # download FASTA\n",
    "    # download mapping\n",
    "    # (optionally) contruct DIAMOND DB"
   ]
  }
 ],
 "metadata": {
  "kernelspec": {
   "display_name": "sprg",
   "language": "python",
   "name": "python3"
  },
  "language_info": {
   "codemirror_mode": {
    "name": "ipython",
    "version": 3
   },
   "file_extension": ".py",
   "mimetype": "text/x-python",
   "name": "python",
   "nbconvert_exporter": "python",
   "pygments_lexer": "ipython3",
   "version": "3.10.14"
  }
 },
 "nbformat": 4,
 "nbformat_minor": 2
}
