{
 "cells": [
  {
   "cell_type": "markdown",
   "metadata": {},
   "source": [
    "#### Check, if a metabolite is in a libsbml model\n",
    "\n",
    "Note: takes way to much time -> maybe still include it in the toolbox, it is already programmed ...."
   ]
  },
  {
   "cell_type": "code",
   "execution_count": null,
   "metadata": {},
   "outputs": [],
   "source": [
    "from refinegems.curation.polish import get_set_of_curies\n",
    "\n",
    "# @TODO make it a bit more suffisticated\n",
    "def getAnnotationDict_libsbml(entity):\n",
    "    try: \n",
    "        for cvterm in entity.getCVTerms():\n",
    "            current_uris = [cvterm.getResourceURI(i) for i in range(cvterm.getNumResources())]\n",
    "            return get_set_of_curies(current_uris)[0]\n",
    "    except Exception as e:\n",
    "        return None\n",
    "    \n",
    "def hasAnnotation_libmodel(id, idtype, entitytype, libmodel):\n",
    "    match entitytype:\n",
    "        case 'reaction':\n",
    "            entitylist = libmodel.getListOfReactions()\n",
    "        case 'species':\n",
    "            entitylist = libmodel.getListOfSpecies()\n",
    "        case _:\n",
    "            mes = f'Unknown entity type: {entitytype}'\n",
    "            raise ValueError(mes)\n",
    "        \n",
    "    found = []\n",
    "    for r in entitylist:\n",
    "        annots = getAnnotationDict_libsbml(r)\n",
    "        if annots and idtype in annots.keys() and id in annots[idtype]:\n",
    "            found.append(r.getId())\n",
    "    return found \n"
   ]
  }
 ],
 "metadata": {
  "language_info": {
   "name": "python"
  }
 },
 "nbformat": 4,
 "nbformat_minor": 2
}
