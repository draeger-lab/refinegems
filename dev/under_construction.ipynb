{
 "cells": [
  {
   "cell_type": "code",
   "execution_count": 132,
   "metadata": {},
   "outputs": [],
   "source": [
    "import cobra\n",
    "import pandas as pd\n",
    "import numpy as np\n",
    "\n",
    "from scipy.optimize import curve_fit\n",
    "\n",
    "import refinegems"
   ]
  },
  {
   "cell_type": "markdown",
   "metadata": {},
   "source": [
    "## Fix problem with Infeasible Error in get_secretion"
   ]
  },
  {
   "cell_type": "code",
   "execution_count": 66,
   "metadata": {},
   "outputs": [],
   "source": [
    "#model = cobra.io.load_model('iJO1366')\n",
    "\n",
    "testpath = \"/Users/brune/Downloads/iAF692.xml\"\n",
    "model = refinegems.utility.io.load_model(testpath,'cobra')"
   ]
  },
  {
   "cell_type": "code",
   "execution_count": 67,
   "metadata": {},
   "outputs": [
    {
     "name": "stdout",
     "output_type": "stream",
     "text": [
      "['EX_ch4_e', 'EX_ch4s_e', 'EX_co2_e', 'EX_gcald_e', 'EX_gly_e', 'EX_h2o_e', 'EX_h_e', 'EX_unknown_rbfdeg_e']\n"
     ]
    }
   ],
   "source": [
    "with model:\n",
    "\n",
    "    sf = model.summary().secretion_flux\n",
    "    s = sf[sf['flux'] < 0.0].index.tolist()\n",
    "\n",
    "    print(s)"
   ]
  },
  {
   "cell_type": "code",
   "execution_count": 68,
   "metadata": {},
   "outputs": [
    {
     "data": {
      "text/html": [
       "<strong><em>Optimal</em> solution with objective value 0.027</strong><br><div>\n",
       "<style scoped>\n",
       "    .dataframe tbody tr th:only-of-type {\n",
       "        vertical-align: middle;\n",
       "    }\n",
       "\n",
       "    .dataframe tbody tr th {\n",
       "        vertical-align: top;\n",
       "    }\n",
       "\n",
       "    .dataframe thead th {\n",
       "        text-align: right;\n",
       "    }\n",
       "</style>\n",
       "<table border=\"1\" class=\"dataframe\">\n",
       "  <thead>\n",
       "    <tr style=\"text-align: right;\">\n",
       "      <th></th>\n",
       "      <th>fluxes</th>\n",
       "      <th>reduced_costs</th>\n",
       "    </tr>\n",
       "  </thead>\n",
       "  <tbody>\n",
       "    <tr>\n",
       "      <th>ASPCT</th>\n",
       "      <td>0.009144</td>\n",
       "      <td>1.387779e-17</td>\n",
       "    </tr>\n",
       "    <tr>\n",
       "      <th>ASPK</th>\n",
       "      <td>0.034231</td>\n",
       "      <td>-1.387779e-17</td>\n",
       "    </tr>\n",
       "    <tr>\n",
       "      <th>ASPTA</th>\n",
       "      <td>-0.079818</td>\n",
       "      <td>4.751337e-18</td>\n",
       "    </tr>\n",
       "    <tr>\n",
       "      <th>ASPTRS</th>\n",
       "      <td>0.000000</td>\n",
       "      <td>4.163336e-17</td>\n",
       "    </tr>\n",
       "    <tr>\n",
       "      <th>ATGH</th>\n",
       "      <td>0.000018</td>\n",
       "      <td>-1.942890e-16</td>\n",
       "    </tr>\n",
       "    <tr>\n",
       "      <th>...</th>\n",
       "      <td>...</td>\n",
       "      <td>...</td>\n",
       "    </tr>\n",
       "    <tr>\n",
       "      <th>VALt2r</th>\n",
       "      <td>0.000000</td>\n",
       "      <td>-1.252600e-18</td>\n",
       "    </tr>\n",
       "    <tr>\n",
       "      <th>VOR</th>\n",
       "      <td>0.000000</td>\n",
       "      <td>3.320615e-18</td>\n",
       "    </tr>\n",
       "    <tr>\n",
       "      <th>XPPT</th>\n",
       "      <td>0.000000</td>\n",
       "      <td>-3.874205e-02</td>\n",
       "    </tr>\n",
       "    <tr>\n",
       "      <th>YUMPS</th>\n",
       "      <td>0.000000</td>\n",
       "      <td>-0.000000e+00</td>\n",
       "    </tr>\n",
       "    <tr>\n",
       "      <th>ZNabc</th>\n",
       "      <td>0.000000</td>\n",
       "      <td>-3.122502e-17</td>\n",
       "    </tr>\n",
       "  </tbody>\n",
       "</table>\n",
       "<p>690 rows × 2 columns</p>\n",
       "</div>"
      ],
      "text/plain": [
       "<Solution 0.027 at 0x315273f70>"
      ]
     },
     "execution_count": 68,
     "metadata": {},
     "output_type": "execute_result"
    }
   ],
   "source": [
    "model.optimize()"
   ]
  },
  {
   "cell_type": "markdown",
   "metadata": {},
   "source": [
    "## Deal with external media"
   ]
  },
  {
   "cell_type": "code",
   "execution_count": 2,
   "metadata": {},
   "outputs": [
    {
     "name": "stderr",
     "output_type": "stream",
     "text": [
      "/Users/brune/miniconda3/envs/sprg/lib/python3.10/site-packages/pydantic/_internal/_config.py:322: UserWarning: Valid config keys have changed in V2:\n",
      "* 'underscore_attrs_are_private' has been removed\n",
      "  warnings.warn(message, UserWarning)\n"
     ]
    }
   ],
   "source": [
    "from refinegems.classes.medium import read_substances_from_file, read_external_medium"
   ]
  },
  {
   "cell_type": "code",
   "execution_count": 3,
   "metadata": {},
   "outputs": [
    {
     "data": {
      "text/html": [
       "<div>\n",
       "<style scoped>\n",
       "    .dataframe tbody tr th:only-of-type {\n",
       "        vertical-align: middle;\n",
       "    }\n",
       "\n",
       "    .dataframe tbody tr th {\n",
       "        vertical-align: top;\n",
       "    }\n",
       "\n",
       "    .dataframe thead th {\n",
       "        text-align: right;\n",
       "    }\n",
       "</style>\n",
       "<table border=\"1\" class=\"dataframe\">\n",
       "  <thead>\n",
       "    <tr style=\"text-align: right;\">\n",
       "      <th></th>\n",
       "      <th>name</th>\n",
       "      <th>formula</th>\n",
       "      <th>flux</th>\n",
       "      <th>source</th>\n",
       "      <th>BiGG</th>\n",
       "      <th>VMH</th>\n",
       "    </tr>\n",
       "  </thead>\n",
       "  <tbody>\n",
       "    <tr>\n",
       "      <th>0</th>\n",
       "      <td>Water</td>\n",
       "      <td>H2O</td>\n",
       "      <td>10.0</td>\n",
       "      <td>water</td>\n",
       "      <td>h20</td>\n",
       "      <td>h20</td>\n",
       "    </tr>\n",
       "  </tbody>\n",
       "</table>\n",
       "</div>"
      ],
      "text/plain": [
       "    name formula  flux source BiGG  VMH\n",
       "0  Water     H2O  10.0  water  h20  h20"
      ]
     },
     "execution_count": 3,
     "metadata": {},
     "output_type": "execute_result"
    }
   ],
   "source": [
    "filepath = '/Users/brune/Documents/20_Projects/01_sprg/media-test/test.tsv'\n",
    "subs = read_substances_from_file(filepath)\n",
    "subs"
   ]
  },
  {
   "cell_type": "code",
   "execution_count": 5,
   "metadata": {},
   "outputs": [
    {
     "data": {
      "text/plain": [
       "<refinegems.classes.medium.Medium at 0x10d8289a0>"
      ]
     },
     "execution_count": 5,
     "metadata": {},
     "output_type": "execute_result"
    }
   ],
   "source": [
    "filepath = '/Users/brune/Documents/20_Projects/01_sprg/media-test/test.tsv'\n",
    "medium = read_external_medium('file', path=filepath)\n",
    "medium"
   ]
  },
  {
   "cell_type": "code",
   "execution_count": 10,
   "metadata": {},
   "outputs": [
    {
     "data": {
      "text/html": [
       "<div>\n",
       "<style scoped>\n",
       "    .dataframe tbody tr th:only-of-type {\n",
       "        vertical-align: middle;\n",
       "    }\n",
       "\n",
       "    .dataframe tbody tr th {\n",
       "        vertical-align: top;\n",
       "    }\n",
       "\n",
       "    .dataframe thead th {\n",
       "        text-align: right;\n",
       "    }\n",
       "</style>\n",
       "<table border=\"1\" class=\"dataframe\">\n",
       "  <thead>\n",
       "    <tr style=\"text-align: right;\">\n",
       "      <th></th>\n",
       "      <th>name</th>\n",
       "      <th>formula</th>\n",
       "      <th>flux</th>\n",
       "      <th>source</th>\n",
       "      <th>BiGG</th>\n",
       "      <th>VMH</th>\n",
       "    </tr>\n",
       "  </thead>\n",
       "  <tbody>\n",
       "    <tr>\n",
       "      <th>0</th>\n",
       "      <td>Water</td>\n",
       "      <td>H2O</td>\n",
       "      <td>10.0</td>\n",
       "      <td>water</td>\n",
       "      <td>h20</td>\n",
       "      <td>h20</td>\n",
       "    </tr>\n",
       "  </tbody>\n",
       "</table>\n",
       "</div>"
      ],
      "text/plain": [
       "    name formula  flux source BiGG  VMH\n",
       "0  Water     H2O  10.0  water  h20  h20"
      ]
     },
     "execution_count": 10,
     "metadata": {},
     "output_type": "execute_result"
    }
   ],
   "source": [
    "medium.substance_table"
   ]
  },
  {
   "cell_type": "code",
   "execution_count": null,
   "metadata": {},
   "outputs": [],
   "source": []
  },
  {
   "cell_type": "markdown",
   "metadata": {},
   "source": [
    "### Add MNX to database"
   ]
  },
  {
   "cell_type": "code",
   "execution_count": 1,
   "metadata": {},
   "outputs": [
    {
     "name": "stderr",
     "output_type": "stream",
     "text": [
      "/Users/brune/miniconda3/envs/sprg/lib/python3.10/site-packages/pydantic/_internal/_config.py:322: UserWarning: Valid config keys have changed in V2:\n",
      "* 'underscore_attrs_are_private' has been removed\n",
      "  warnings.warn(message, UserWarning)\n"
     ]
    }
   ],
   "source": [
    "import sqlite3\n",
    "from refinegems.utility.databases import PATH_TO_DB\n",
    "import pandas as pd\n",
    "from tqdm import tqdm\n",
    "from pathlib import Path\n",
    "\n",
    "# DISCLAIMER:\n",
    "# Database information from MetaNetX\n",
    "# distributed under https://creativecommons.org/licenses/by/4.0/\n",
    "# Citation: MetaNetX/MNXref: unified namespace for metabolites and biochemical reactions in the context of metabolic models\n",
    "#           Sébastien Moretti, Van Du T Tran, Florence Mehl, Mark Ibberson, Marco Pagni\n",
    "#           Nucleic Acids Research (2021), 49(D1):D570-D574\n",
    "\n",
    "mnx_db_namespace = {'reac_prop': ('https://www.metanetx.org/cgi-bin/mnxget/mnxref/reac_prop.tsv', \n",
    "                                  ['id','mnx_equation','reference','ec-code','is_balanced','is_transport']),\n",
    "                    'reac_xref': ('https://www.metanetx.org/cgi-bin/mnxget/mnxref/reac_xref.tsv',\n",
    "                                  ['source','id','description']),\n",
    "                    'chem_prop': ('https://www.metanetx.org/cgi-bin/mnxget/mnxref/chem_prop.tsv',\n",
    "                                  ['id','name','reference','formula','charge','mass','InChI','InChIKey','SMILES']),\n",
    "                    'chem_xref': ('https://www.metanetx.org/cgi-bin/mnxget/mnxref/chem_xref.tsv',\n",
    "                                  ['source','id','description'])\n",
    "                    }\n",
    "\n",
    "# @TODO time warning + progress bar (waiting w/o info is tedious)\n",
    "def update_mnx_namespaces(db:Path|str=PATH_TO_DB, chunksize=1):\n",
    "    con = sqlite3.connect(db)\n",
    "    for name,values in mnx_db_namespace.items():\n",
    "        link,colnames = values\n",
    "        mnx_table = []\n",
    "        for chunk in tqdm(pd.read_csv(link, sep='\\t', comment='#', \n",
    "                                      names=colnames, \n",
    "                                      chunksize=chunksize*1024), \n",
    "                                      desc=f'Downloading {name}',\n",
    "                                      unit='B'):# progress bar will not work -> no totel length info\n",
    "            mnx_table.append(chunk) \n",
    "\n",
    "        match name:\n",
    "            # Reaction property table\n",
    "            case 'reac_prop':\n",
    "                total_len = sum([len(_) for _ in mnx_table])\n",
    "                with tqdm(total=total_len, unit='entries', \n",
    "                          desc='Add to DB') as pbar:\n",
    "                    for i,chunk in enumerate(mnx_table):\n",
    "                        if i == 0:\n",
    "                            exists = 'replace'\n",
    "                        else:\n",
    "                            exists = 'append'\n",
    "                        chunk.to_sql(\n",
    "                            'mnx_'+name, db_connection, \n",
    "                            if_exists=exists, index=False, \n",
    "                            dtype={'id':'TEXT PRIMARY KEY'}\n",
    "                            )\n",
    "                        pbar.update(len(chunk)) \n",
    "        \n",
    "            # Reaction cross-reference table\n",
    "            case 'reac_xref':\n",
    "                cursor = db_connection.cursor()\n",
    "                cursor.execute('DROP TABLE IF EXISTS mnx_reac_xref')\n",
    "                empty_table = \"\"\" CREATE TABLE mnx_reac_xref (\n",
    "                                  source TEXT,\n",
    "                                  id TEXT,\n",
    "                                  description TEXT,\n",
    "                                  CONSTRAINT PK_mnx_reac_xref PRIMARY KEY (source,id)\n",
    "                                  FOREIGN KEY(id) REFERENCES mnx_reac_prop(id)\n",
    "                              );\n",
    "                              \"\"\"\n",
    "                cursor.execute(empty_table)\n",
    "                total_len = sum([len(_) for _ in mnx_table])\n",
    "                with tqdm(total=total_len, unit='entries',\n",
    "                          desc='Add to DB') as pbar:\n",
    "                    for i,chunk in enumerate(mnx_table):\n",
    "                        chunk.to_sql(\n",
    "                            'mnx_'+name, db_connection, \n",
    "                            if_exists='append', index=False\n",
    "                            )\n",
    "                        pbar.update(len(chunk))\n",
    "                \n",
    "            # Metabolite properties table\n",
    "            case 'chem_prop':\n",
    "                total_len = sum([len(_) for _ in mnx_table])\n",
    "                with tqdm(total=total_len, unit='entries',\n",
    "                          desc='Add to DB') as pbar:\n",
    "                    for i,chunk in enumerate(mnx_table):\n",
    "                        if i == 0:\n",
    "                            exists = 'replace'\n",
    "                        else:\n",
    "                            exists = 'append'\n",
    "                        chunk.to_sql(\n",
    "                            'mnx_'+name, db_connection, \n",
    "                            if_exists=exists, index=False, \n",
    "                            dtype={'id':'TEXT PRIMARY KEY'}\n",
    "                            )\n",
    "                        pbar.update(len(chunk))\n",
    "            # @TODO : there seems to be a problem with the unique constraint and case-sensitivity\n",
    "            case 'chem_xref':\n",
    "                total_len = sum([len(_) for _ in mnx_table])\n",
    "                cursor = db_connection.cursor()\n",
    "                cursor.execute('DROP TABLE IF EXISTS mnx_chem_xref')\n",
    "                empty_table = \"\"\" CREATE TABLE mnx_chem_xref (\n",
    "                                  source TEXT,\n",
    "                                  id TEXT,\n",
    "                                  description TEXT,\n",
    "                                  CONSTRAINT PK_mnx_chem_xref PRIMARY KEY (source,id)\n",
    "                                  FOREIGN KEY(id) REFERENCES mnx_chem_prop(id)\n",
    "                              );\n",
    "                              \"\"\"\n",
    "                cursor.execute(empty_table)\n",
    "                with tqdm(total=total_len, unit='entries',\n",
    "                          desc='Add to DB') as pbar:\n",
    "                    for i,chunk in enumerate(mnx_table):\n",
    "                        chunk.to_sql(\n",
    "                            'mnx_'+name, db_connection, \n",
    "                            if_exists='append', index=False\n",
    "                            )\n",
    "                        pbar.update(len(chunk))\n",
    "    con.close()\n",
    "    \n",
    "\n",
    "# @TEST\n",
    "def reset_database(database:Path|str=PATH_TO_DB):\n",
    "    \"\"\"Remove tables for certain databases to allow pushing of the database\n",
    "    to GitHub (reduce size).\n",
    "\n",
    "    Args:\n",
    "        - database (Path | str, optional): \n",
    "            Path to the database. Defaults to PATH_TO_DB, the in-build database.\n",
    "    \"\"\"\n",
    "    # establish connection\n",
    "    con = sqlite3.connect(database)\n",
    "    cursor = con.cursor()\n",
    "    # remove MetaNetX tables\n",
    "    cursor.execute('DROP TABLE IF EXISTS mnx_chem_xref')\n",
    "    cursor.execute('DROP TABLE IF EXISTS mnx_reac_xref')\n",
    "    cursor.execute('DROP TABLE IF EXISTS mnx_chem_prop')\n",
    "    cursor.execute('DROP TABLE IF EXISTS mnx_reac_prop')\n",
    "    # close connection\n",
    "    con.close()\n"
   ]
  },
  {
   "cell_type": "code",
   "execution_count": 2,
   "metadata": {},
   "outputs": [
    {
     "name": "stderr",
     "output_type": "stream",
     "text": [
      "Downloading reac_prop: 73it [00:00, 349.12it/s]\n",
      "Add to DB: 100%|██████████| 74613/74613 [00:00<00:00, 297720.88entries/s]\n",
      "Downloading reac_xref: 376it [00:00, 513.48it/s]\n",
      "Add to DB: 100%|██████████| 384802/384802 [00:03<00:00, 122374.97entries/s]\n",
      "Downloading chem_prop: 1262it [00:05, 228.97it/s]\n",
      "Add to DB: 100%|██████████| 1292154/1292154 [00:05<00:00, 242204.86entries/s]\n",
      "Downloading chem_xref: 2927it [00:05, 512.50it/s]\n",
      "Add to DB: 100%|██████████| 2996510/2996510 [00:28<00:00, 105285.64entries/s]\n"
     ]
    }
   ],
   "source": [
    "update_mnx_namespaces()\n",
    "\n",
    "# for pushing: maybe add functions to only allow download from MNX locally as a setup"
   ]
  },
  {
   "cell_type": "code",
   "execution_count": null,
   "metadata": {},
   "outputs": [],
   "source": []
  }
 ],
 "metadata": {
  "kernelspec": {
   "display_name": "sprg",
   "language": "python",
   "name": "python3"
  },
  "language_info": {
   "codemirror_mode": {
    "name": "ipython",
    "version": 3
   },
   "file_extension": ".py",
   "mimetype": "text/x-python",
   "name": "python",
   "nbconvert_exporter": "python",
   "pygments_lexer": "ipython3",
   "version": "3.10.14"
  }
 },
 "nbformat": 4,
 "nbformat_minor": 2
}
