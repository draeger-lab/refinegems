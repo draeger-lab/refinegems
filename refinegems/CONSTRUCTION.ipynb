{
 "cells": [
  {
   "cell_type": "code",
   "execution_count": 4,
   "metadata": {},
   "outputs": [],
   "source": [
    "from refinegems.database import medium\n",
    "import pandas as pd\n",
    "import cobra\n",
    "from cobra import Reaction\n",
    "from cobra import Model as cobraModel\n",
    "import re\n",
    "import logging\n",
    "import numpy as np\n",
    "# import specimen"
   ]
  },
  {
   "cell_type": "code",
   "execution_count": 5,
   "metadata": {},
   "outputs": [],
   "source": [
    "model_path = '/Users/carolinb/Documents/104 Masterthesis/klebsiella-pipeline/example/thesis/Kp_std/03_refinement/step4-smoothing/Kp_std_smooth.xml'\n",
    "model = cobra.io.read_sbml_model(model_path)"
   ]
  },
  {
   "cell_type": "code",
   "execution_count": 24,
   "metadata": {},
   "outputs": [],
   "source": []
  },
  {
   "cell_type": "code",
   "execution_count": null,
   "metadata": {},
   "outputs": [],
   "source": [
    "\n",
    "\n"
   ]
  },
  {
   "cell_type": "code",
   "execution_count": 18,
   "metadata": {},
   "outputs": [],
   "source": [
    "from refinegems.growth import *\n",
    "from refinegems.io import load_model_cobra, load_multiple_models\n",
    "from refinegems.database import medium\n",
    "import cobra \n",
    "import yaml\n"
   ]
  },
  {
   "cell_type": "code",
   "execution_count": 3,
   "metadata": {},
   "outputs": [
    {
     "data": {
      "text/html": [
       "<div>\n",
       "<style scoped>\n",
       "    .dataframe tbody tr th:only-of-type {\n",
       "        vertical-align: middle;\n",
       "    }\n",
       "\n",
       "    .dataframe tbody tr th {\n",
       "        vertical-align: top;\n",
       "    }\n",
       "\n",
       "    .dataframe thead th {\n",
       "        text-align: right;\n",
       "    }\n",
       "</style>\n",
       "<table border=\"1\" class=\"dataframe\">\n",
       "  <thead>\n",
       "    <tr style=\"text-align: right;\">\n",
       "      <th></th>\n",
       "      <th>model_name</th>\n",
       "      <th>medium_name</th>\n",
       "      <th>growth_value</th>\n",
       "      <th>doubling_time</th>\n",
       "      <th>additives</th>\n",
       "      <th>no_exchange</th>\n",
       "    </tr>\n",
       "  </thead>\n",
       "  <tbody>\n",
       "    <tr>\n",
       "      <th>0</th>\n",
       "      <td>Kp_std</td>\n",
       "      <td>M9</td>\n",
       "      <td>0.000000</td>\n",
       "      <td>0.000000</td>\n",
       "      <td>None</td>\n",
       "      <td>[EX_nh3_e, EX_glc__bD_e]</td>\n",
       "    </tr>\n",
       "    <tr>\n",
       "      <th>1</th>\n",
       "      <td>Kp_std</td>\n",
       "      <td>LB</td>\n",
       "      <td>5.666693</td>\n",
       "      <td>7.339171</td>\n",
       "      <td>None</td>\n",
       "      <td>[EX_pydxn_e, EX_pydx_e, EX_lipt_e, EX_nh3_e, E...</td>\n",
       "    </tr>\n",
       "  </tbody>\n",
       "</table>\n",
       "</div>"
      ],
      "text/plain": [
       "  model_name medium_name  growth_value  doubling_time additives  \\\n",
       "0     Kp_std          M9      0.000000       0.000000      None   \n",
       "1     Kp_std          LB      5.666693       7.339171      None   \n",
       "\n",
       "                                         no_exchange  \n",
       "0                           [EX_nh3_e, EX_glc__bD_e]  \n",
       "1  [EX_pydxn_e, EX_pydx_e, EX_lipt_e, EX_nh3_e, E...  "
      ]
     },
     "execution_count": 3,
     "metadata": {},
     "output_type": "execute_result"
    }
   ],
   "source": [
    "model_path = '/Users/carolinb/Documents/104 Masterthesis/klebsiella-pipeline/example/thesis/Kp_std/03_refinement/step4-smoothing/Kp_std_smooth.xml'\n",
    "model = cobra.io.read_sbml_model(model_path)\n",
    "m9 = medium.load_medium_from_db('M9')\n",
    "lb = medium.load_medium_from_db('LB')\n"
   ]
  },
  {
   "cell_type": "code",
   "execution_count": 19,
   "metadata": {},
   "outputs": [],
   "source": [
    "# @TODO\n",
    "def read_media_config(yaml_path:str):\n",
    "\n",
    "    media_list = []\n",
    "\n",
    "    with open(yaml_path, 'r') as stream:\n",
    "        loaded = yaml.safe_load(stream)\n",
    "        params = \n",
    "        database =  \n",
    "        extern =\n",
    "\n",
    "    return media_list\n",
    "\n",
    "# @TODO\n",
    "# main objective: read in models and media from input (command line, YAML etc.) dict?\n",
    "# -> compile a complete list media (load, add information about anaerobic, additives, fluxes and the like)\n",
    "# -> run simulation \n",
    "# -> visulise also here?\n",
    "def growth_analysis(models:cobra.Model|str|list[str]|list[cobra.Model],\n",
    "                    media:medium.Medium|list[medium.Medium]|str):\n",
    "\n",
    "    # read-in all models into list\n",
    "    # ----------------------------\n",
    "    mod_list = []\n",
    "    match models:\n",
    "        case list():\n",
    "            # list as input\n",
    "            if len(models) > 0:\n",
    "                # if list entries are paths\n",
    "                if all(isinstance(_, str) for _ in models):\n",
    "                    mod_list = load_multiple_models(models, package='COBRApy')\n",
    "                # if list entries are already cobra.Models\n",
    "                elif all(isinstance(_, cobra.Model) for _ in models):\n",
    "                    mod_list = models\n",
    "                # @TODO\n",
    "                # option for mixed list?\n",
    "                else:\n",
    "                    raise TypeError('Unknown or mixed types in model list.')\n",
    "            else:\n",
    "                raise KeyError('Empty list for models detected.')\n",
    "        # single model as input\n",
    "        case cobra.Model():\n",
    "            mod_list = [cobra.Model]\n",
    "        # single string as input\n",
    "        case str():\n",
    "            mod_list = [load_model_cobra(models)]\n",
    "        # unknown input\n",
    "        case _:\n",
    "            raise ValueError(F'Unknown input type for models: {type(models)}')\n",
    "        \n",
    "    # collect all media into list\n",
    "    # ---------------------------\n",
    "    media_list = []\n",
    "    match media:\n",
    "        # single medium\n",
    "        case medium.Medium():\n",
    "            media_list = [media]\n",
    "        # list of media\n",
    "        case list():\n",
    "            if all(isinstance(_,medium.Medium) for _ in media):\n",
    "                media_list = media\n",
    "            else:\n",
    "                raise TypeError('Unknown type found in media, should be list fo medium.Medium.')\n",
    "        # string - connection to YAML config file\n",
    "        case str():\n",
    "            # @TODO\n",
    "            pass\n",
    "        # unknown input\n",
    "        case _:\n",
    "            pass\n",
    "\n",
    "    return\n",
    "\n",
    "    # where to get options like anaerobic, supplements, fluxes etc.????\n",
    "\n",
    "    # run simulation\n",
    "    report = growth_sim_multi(models, media)\n",
    "    # save / visualise report \n",
    "    pass"
   ]
  },
  {
   "cell_type": "code",
   "execution_count": 22,
   "metadata": {},
   "outputs": [
    {
     "data": {
      "text/plain": [
       "{'params': ['anaerobic'],\n",
       " 'database': [{'LB': ['anaerobic']}, {'LB': ['aerobic']}, 'SNM3'],\n",
       " 'extern': None}"
      ]
     },
     "execution_count": 22,
     "metadata": {},
     "output_type": "execute_result"
    }
   ],
   "source": [
    "models = model\n",
    "media = \"/Users/carolinb/Documents/110 WiHi Tübingen/refinegems/refinegems/media_config.yml\"\n",
    "growth_analysis(models,media)"
   ]
  },
  {
   "cell_type": "code",
   "execution_count": 35,
   "metadata": {},
   "outputs": [
    {
     "name": "stdout",
     "output_type": "stream",
     "text": [
      "[{'LB': ['anaerobic']}, {'LB': ['aerobic']}, {'SNM3': None}]\n",
      "{'LB': ['anaerobic']}\n"
     ]
    },
    {
     "ename": "InterfaceError",
     "evalue": "Error binding parameter 0 - probably unsupported type.",
     "output_type": "error",
     "traceback": [
      "\u001b[0;31m---------------------------------------------------------------------------\u001b[0m",
      "\u001b[0;31mInterfaceError\u001b[0m                            Traceback (most recent call last)",
      "\u001b[1;32mUntitled-1.ipynb Cell 9\u001b[0m line \u001b[0;36m2\n\u001b[1;32m     <a href='vscode-notebook-cell:Untitled-1.ipynb?jupyter-notebook#X55sdW50aXRsZWQ%3D?line=18'>19</a>\u001b[0m \u001b[39mfor\u001b[39;00m m \u001b[39min\u001b[39;00m database:\n\u001b[1;32m     <a href='vscode-notebook-cell:Untitled-1.ipynb?jupyter-notebook#X55sdW50aXRsZWQ%3D?line=19'>20</a>\u001b[0m     \u001b[39mprint\u001b[39m(m)\n\u001b[0;32m---> <a href='vscode-notebook-cell:Untitled-1.ipynb?jupyter-notebook#X55sdW50aXRsZWQ%3D?line=20'>21</a>\u001b[0m     new_medium \u001b[39m=\u001b[39m medium\u001b[39m.\u001b[39;49mload_medium_from_db(m)\n",
      "File \u001b[0;32m~/Documents/110 WiHi Tübingen/refinegems/refinegems/database/medium.py:479\u001b[0m, in \u001b[0;36mload_medium_from_db\u001b[0;34m(name, database, type)\u001b[0m\n\u001b[1;32m    476\u001b[0m cursor \u001b[39m=\u001b[39m connection\u001b[39m.\u001b[39mcursor()\n\u001b[1;32m    478\u001b[0m \u001b[39m# get description\u001b[39;00m\n\u001b[0;32m--> 479\u001b[0m result \u001b[39m=\u001b[39m cursor\u001b[39m.\u001b[39;49mexecute(\u001b[39m\"\u001b[39;49m\u001b[39mSELECT medium.description FROM medium WHERE medium.name = ?\u001b[39;49m\u001b[39m\"\u001b[39;49m,(name,))\n\u001b[1;32m    480\u001b[0m \u001b[39mif\u001b[39;00m result:\n\u001b[1;32m    481\u001b[0m     description \u001b[39m=\u001b[39m result\u001b[39m.\u001b[39mfetchone()[\u001b[39m0\u001b[39m] \u001b[39m# each name should be unique\u001b[39;00m\n",
      "\u001b[0;31mInterfaceError\u001b[0m: Error binding parameter 0 - probably unsupported type."
     ]
    }
   ],
   "source": [
    "yaml_path = media\n",
    "\n",
    "# ------------\n",
    "# for function\n",
    "# ------------\n",
    "\n",
    "media_list = []\n",
    "\n",
    "with open(yaml_path, 'r') as stream:\n",
    "\n",
    "    loaded = yaml.safe_load(stream)\n",
    "\n",
    "    params = loaded['params'] if 'params' in loaded.keys() else None\n",
    "    database = loaded['database'] if 'database' in loaded.keys() else None\n",
    "    extern = loaded['extern'] if 'extern' in loaded.keys() else None\n",
    "\n",
    "    if database:\n",
    "        print(database)\n",
    "        for m in database:\n",
    "            print(m)\n",
    "            new_medium = medium.load_medium_from_db(m)\n",
    "            \n",
    "\n"
   ]
  },
  {
   "cell_type": "code",
   "execution_count": 32,
   "metadata": {},
   "outputs": [],
   "source": []
  },
  {
   "cell_type": "code",
   "execution_count": null,
   "metadata": {},
   "outputs": [],
   "source": []
  }
 ],
 "metadata": {
  "kernelspec": {
   "display_name": "mbi",
   "language": "python",
   "name": "python3"
  },
  "language_info": {
   "codemirror_mode": {
    "name": "ipython",
    "version": 3
   },
   "file_extension": ".py",
   "mimetype": "text/x-python",
   "name": "python",
   "nbconvert_exporter": "python",
   "pygments_lexer": "ipython3",
   "version": "3.10.11"
  }
 },
 "nbformat": 4,
 "nbformat_minor": 2
}
