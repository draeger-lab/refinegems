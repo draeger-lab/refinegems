{
 "cells": [
  {
   "cell_type": "code",
   "execution_count": 1,
   "metadata": {},
   "outputs": [
    {
     "name": "stderr",
     "output_type": "stream",
     "text": [
      "/Users/brune/miniconda3/envs/sprg/lib/python3.10/site-packages/pydantic/_internal/_config.py:322: UserWarning: Valid config keys have changed in V2:\n",
      "* 'underscore_attrs_are_private' has been removed\n",
      "  warnings.warn(message, UserWarning)\n"
     ]
    }
   ],
   "source": [
    "# ideas for a source test\n",
    "import cobra\n",
    "import pandas as pd\n",
    "from typing import Literal\n",
    "import warnings\n",
    "\n",
    "import refinegems as rg\n",
    "\n",
    "\n",
    "# @TODO : set a default for substances - ideally a subset or so\n",
    "# @TODO : more namespace options, currently only BiGG available\n",
    "# @TEST\n",
    "def test_growth_with_source(model:cobra.Model, element:str, substances:None|str|list[str], medium:None|str|rg.medium.Medium=None, namespace:Literal['BiGG']='BiGG') -> rg.reports.SourceTestReport:\n",
    "    \n",
    "    # validate input\n",
    "    # model is required to have a growth function\n",
    "    growth_funcs = rg.biomass.test_biomass_presence(model)\n",
    "    if growth_funcs:\n",
    "        if model.objective in growth_funcs:\n",
    "            pass\n",
    "        else:\n",
    "            warnings.warn(f'No growth functions set as objective, but growth function detected. Setting objective to {growth_funcs[0]}')\n",
    "            model.objective = growth_funcs[0]\n",
    "    else:\n",
    "        raise KeyError('No growth function in model. Please add one beforehand.')\n",
    "    \n",
    "    # get the starting medium\n",
    "    match medium:\n",
    "        case str():\n",
    "            current_medium = rg.medium.load_medium_from_db(medium)\n",
    "        case rg.medium.Medium():\n",
    "            current_medium = medium\n",
    "        case _:\n",
    "            current_medium = rg.medium.read_from_cobra_model(model)\n",
    "\n",
    "    # save old medium settings\n",
    "    origin_medium = model.medium\n",
    "\n",
    "    # get the sources\n",
    "    match substances:\n",
    "\n",
    "        # case 1: \n",
    "        # take a given subset from the database\n",
    "        case str():\n",
    "            temp_medium = rg.medium.Medium('temp', pd.DataFrame(columns=['name','formula','flux','source','db_id','db_type']))\n",
    "            temp_medium.add_subset(substances)\n",
    "            source_list = temp_medium.substance_table['name'].to_list()\n",
    "\n",
    "        # case 2: \n",
    "        # use the user given list - account for errors\n",
    "        case list():\n",
    "            # @TODO validate, if all are part of the database or is this over the top?\n",
    "            source_list = substances\n",
    "\n",
    "        # case 3:\n",
    "        # download all possible options - may take some time\n",
    "        case _:\n",
    "            # get complete table\n",
    "            substances = rg.io.load_a_table_from_database('substance', query=False)\n",
    "            # regex to find substances with element - element letter code NOT followed by ANY small letter\n",
    "            element_regex = element + r'(?![a-z])' \n",
    "            substances_mask = substances['formula'].str.contains(element_regex)\n",
    "            substances_mask.fillna(value=False, inplace=True)\n",
    "            substances = substances[substances_mask]\n",
    "            source_list = substances.name.to_list()\n",
    "\n",
    "    # perform the test\n",
    "    results = []  \n",
    "    for s in source_list:\n",
    "        # set new source\n",
    "        current_medium.set_source(element,s)\n",
    "        # add medium to model\n",
    "        rg.medium.medium_to_model(model, current_medium, namespace=namespace, add=True)\n",
    "        # simulate growth\n",
    "        growth_value = model.optimize().objective_value\n",
    "        results.append({'substance':s, 'growth value':growth_value})\n",
    "\n",
    "    results = rg.reports.SourceTestReport(pd.DataFrame(results), element, model.id)\n",
    "\n",
    "    # set original medium for model\n",
    "    model.medium = origin_medium\n",
    "\n",
    "    return results\n",
    "        \n"
   ]
  },
  {
   "cell_type": "code",
   "execution_count": 32,
   "metadata": {},
   "outputs": [
    {
     "name": "stderr",
     "output_type": "stream",
     "text": [
      "/var/folders/xd/zl0vk7sj60xcc0zmc4k4mxxc0000gr/T/ipykernel_10284/2186973756.py:22: UserWarning: No growth functions set as objective, but growth function detected. Setting objective to BIOMASS_Ec_iML1515_WT_75p37M\n",
      "  warnings.warn(f'No growth functions set as objective, but growth function detected. Setting objective to {growth_funcs[0]}')\n"
     ]
    }
   ],
   "source": [
    "test_model_path = '/Users/brune/Downloads/iML1515.xml'\n",
    "test_model = rg.io.load_model_cobra(test_model_path)\n",
    "e = 'N'\n",
    "substances = None\n",
    "medium = None\n",
    "\n",
    "source_res = test_growth_with_source(test_model, e, substances, medium)\n"
   ]
  },
  {
   "cell_type": "code",
   "execution_count": 33,
   "metadata": {},
   "outputs": [
    {
     "data": {
      "text/html": [
       "<div>\n",
       "<style scoped>\n",
       "    .dataframe tbody tr th:only-of-type {\n",
       "        vertical-align: middle;\n",
       "    }\n",
       "\n",
       "    .dataframe tbody tr th {\n",
       "        vertical-align: top;\n",
       "    }\n",
       "\n",
       "    .dataframe thead th {\n",
       "        text-align: right;\n",
       "    }\n",
       "</style>\n",
       "<table border=\"1\" class=\"dataframe\">\n",
       "  <thead>\n",
       "    <tr style=\"text-align: right;\">\n",
       "      <th></th>\n",
       "      <th>substance</th>\n",
       "      <th>growth value</th>\n",
       "    </tr>\n",
       "  </thead>\n",
       "  <tbody>\n",
       "    <tr>\n",
       "      <th>0</th>\n",
       "      <td>1-Methylnicotinamide</td>\n",
       "      <td>-9.631440e-16</td>\n",
       "    </tr>\n",
       "    <tr>\n",
       "      <th>1</th>\n",
       "      <td>1-Methyl-4-imidazoleacetic acid</td>\n",
       "      <td>1.750406e-16</td>\n",
       "    </tr>\n",
       "    <tr>\n",
       "      <th>2</th>\n",
       "      <td>2,2-Bipyridine</td>\n",
       "      <td>1.750406e-16</td>\n",
       "    </tr>\n",
       "    <tr>\n",
       "      <th>3</th>\n",
       "      <td>2,3-Cyclic GMP [Cyclic GMP]</td>\n",
       "      <td>0.000000e+00</td>\n",
       "    </tr>\n",
       "    <tr>\n",
       "      <th>4</th>\n",
       "      <td>3,5-Cyclic GMP [Cyclic GMP]</td>\n",
       "      <td>0.000000e+00</td>\n",
       "    </tr>\n",
       "    <tr>\n",
       "      <th>...</th>\n",
       "      <td>...</td>\n",
       "      <td>...</td>\n",
       "    </tr>\n",
       "    <tr>\n",
       "      <th>140</th>\n",
       "      <td>Uridine</td>\n",
       "      <td>0.000000e+00</td>\n",
       "    </tr>\n",
       "    <tr>\n",
       "      <th>141</th>\n",
       "      <td>Xanthurenic acid</td>\n",
       "      <td>0.000000e+00</td>\n",
       "    </tr>\n",
       "    <tr>\n",
       "      <th>142</th>\n",
       "      <td>beta-Alanine</td>\n",
       "      <td>0.000000e+00</td>\n",
       "    </tr>\n",
       "    <tr>\n",
       "      <th>143</th>\n",
       "      <td>trans-4-Hydroxy-L-proline</td>\n",
       "      <td>0.000000e+00</td>\n",
       "    </tr>\n",
       "    <tr>\n",
       "      <th>144</th>\n",
       "      <td>L-Cysteate</td>\n",
       "      <td>0.000000e+00</td>\n",
       "    </tr>\n",
       "  </tbody>\n",
       "</table>\n",
       "<p>145 rows × 2 columns</p>\n",
       "</div>"
      ],
      "text/plain": [
       "                           substance  growth value\n",
       "0               1-Methylnicotinamide -9.631440e-16\n",
       "1    1-Methyl-4-imidazoleacetic acid  1.750406e-16\n",
       "2                     2,2-Bipyridine  1.750406e-16\n",
       "3        2,3-Cyclic GMP [Cyclic GMP]  0.000000e+00\n",
       "4        3,5-Cyclic GMP [Cyclic GMP]  0.000000e+00\n",
       "..                               ...           ...\n",
       "140                          Uridine  0.000000e+00\n",
       "141                 Xanthurenic acid  0.000000e+00\n",
       "142                     beta-Alanine  0.000000e+00\n",
       "143        trans-4-Hydroxy-L-proline  0.000000e+00\n",
       "144                       L-Cysteate  0.000000e+00\n",
       "\n",
       "[145 rows x 2 columns]"
      ]
     },
     "execution_count": 33,
     "metadata": {},
     "output_type": "execute_result"
    }
   ],
   "source": [
    "source_res.results"
   ]
  },
  {
   "cell_type": "code",
   "execution_count": 55,
   "metadata": {},
   "outputs": [
    {
     "data": {
      "image/png": "[encoded data removed]",
      "text/plain": [
       "<Figure size 640x480 with 2 Axes>"
      ]
     },
     "metadata": {},
     "output_type": "display_data"
    }
   ],
   "source": [
    "import math\n",
    "import copy\n",
    "import seaborn as sn\n",
    "import matplotlib.pyplot as plt\n",
    "import matplotlib\n",
    "import numpy as np\n",
    "from itertools import chain\n",
    "\n",
    "# params\n",
    "width = 12\n",
    "color_palette = 'YlGn'\n",
    "\n",
    "# function\n",
    "\n",
    "# create colour gradient\n",
    "try:\n",
    "    cmap = matplotlib.colormaps[color_palette]\n",
    "except ValueError:\n",
    "    warnings.warn('Unknown color palette, setting it to \"YlGn\"')\n",
    "    cmap = matplotlib.colormaps['YlGn']\n",
    "\n",
    "cmap.set_under('black') # too low / no growth\n",
    "cmap.set_over('white') # no data\n",
    "\n",
    "# get size of heatmap\n",
    "height = math.ceil(len(source_res.results)/width)\n",
    "total_cells = width * height\n",
    "# create table for plotting\n",
    "data_to_plot = copy.deepcopy(source_res.results)\n",
    "if len(source_res.results) < total_cells:\n",
    "    temp = pd.DataFrame.from_records([['empty',None]]*(total_cells-len(source_res.results)),columns=['substance','growth value'])\n",
    "    data_to_plot = pd.concat([data_to_plot, temp], ignore_index=True)\n",
    "data_to_plot['height'] = list(range(1,height+1))*width\n",
    "data_to_plot['width'] = list(chain.from_iterable([[x]*height for x in range(1,width+1)]))\n",
    "# remove unplottable entries \n",
    "data_to_plot['growth value'].replace([np.inf, -np.inf], 0, inplace=True)\n",
    "over_growth = data_to_plot['growth value'].max() + 2\n",
    "data_to_plot['growth value'].replace(np.nan, over_growth, inplace=True)\n",
    "vmin= 1e-5 #Use same threshhold as in find_missing_essential in growth\n",
    "vmax=over_growth - 1\n",
    "# set annotations\n",
    "annot = data_to_plot.copy().pivot(index='height',columns='width', values='growth value')\n",
    "annot = annot.round(2)\n",
    "annot[annot < 1e-5] = ''\n",
    "annot.replace(over_growth.round().astype(int), 'X', inplace=True)\n",
    "\n",
    "# plot\n",
    "hm = sn.heatmap(data_to_plot.pivot(index='height',columns='width', values='growth value'),\n",
    "                linewidth=.5, cmap=cmap,\n",
    "                vmin=vmin, vmax=vmax,\n",
    "                annot=annot, fmt=''\n",
    "                )\n",
    "plt.show()\n",
    "\n"
   ]
  },
  {
   "cell_type": "code",
   "execution_count": 22,
   "metadata": {},
   "outputs": [
    {
     "data": {
      "text/plain": [
       "[1, 2, 3, 4, 5, 6, 7, 8, 9, 10, 11, 12]"
      ]
     },
     "execution_count": 22,
     "metadata": {},
     "output_type": "execute_result"
    }
   ],
   "source": [
    "list(range(1,13))"
   ]
  },
  {
   "cell_type": "code",
   "execution_count": null,
   "metadata": {},
   "outputs": [],
   "source": []
  }
 ],
 "metadata": {
  "kernelspec": {
   "display_name": "sprg",
   "language": "python",
   "name": "python3"
  },
  "language_info": {
   "codemirror_mode": {
    "name": "ipython",
    "version": 3
   },
   "file_extension": ".py",
   "mimetype": "text/x-python",
   "name": "python",
   "nbconvert_exporter": "python",
   "pygments_lexer": "ipython3",
   "version": "3.10.13"
  }
 },
 "nbformat": 4,
 "nbformat_minor": 2
}
