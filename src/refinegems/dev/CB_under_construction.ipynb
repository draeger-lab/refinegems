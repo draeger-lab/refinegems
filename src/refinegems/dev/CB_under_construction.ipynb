{
 "cells": [
  {
   "cell_type": "code",
   "execution_count": null,
   "metadata": {},
   "outputs": [],
   "source": [
    "# ideas for a source test\n",
    "import cobra\n",
    "import pandas as pd\n",
    "\n",
    "import refinegems as rg"
   ]
  },
  {
   "cell_type": "code",
   "execution_count": null,
   "metadata": {},
   "outputs": [],
   "source": [
    "test_model_path = '/Users/brune/Documents/11_Test_Data/test_SPECIMEN/thesis/Kp_std/03_refinement/step4-smoothing/Kp_std_smooth.xml'\n",
    "test_model = rg.io.read_cobra_model(test_model_path)\n"
   ]
  },
  {
   "cell_type": "markdown",
   "metadata": {},
   "source": [
    "-----\n",
    "### Plot the basic analysis\n",
    "\n",
    "- one model\n",
    "- collection of models"
   ]
  },
  {
   "cell_type": "code",
   "execution_count": null,
   "metadata": {},
   "outputs": [],
   "source": [
    "# old version of how to plot basic analysis\n",
    "# will absolutely no longer work since it uses a model and the report is no longer based on it.\n",
    "def plot_initial_analysis(models: list[libModel]):\n",
    "    \"\"\"Creates bar plot of number of entities per Model\n",
    "\n",
    "    Args:\n",
    "        - models (list[libModel]): Models loaded with libSBML\n",
    "\n",
    "    Returns:\n",
    "        plot: Pandas Barchart\n",
    "    \"\"\"\n",
    "    numbers = pd.DataFrame([initial_analysis(model) for model in models], columns=['model', 'metabolites', 'reactions', 'genes'])\n",
    "    ax = numbers.set_index('model').plot.bar(y=['metabolites', 'reactions', 'genes'], figsize=(8, 5), cmap='Paired', rot=0)\n",
    "    # commented is possibility to integrate memote scores\n",
    "    #numbers.set_index('model').plot(y='Memote score', ax=ax, use_index=False, linestyle=':', secondary_y='Memote score', color='k', marker='D', legend=True)\n",
    "    #ax.right_ax.set_ylabel('Memote score [%]')\n",
    "    #ax.right_ax.legend(loc='upper right', bbox_to_anchor=[0.98, 0.9])\n",
    "    #ax.right_ax.set_ylim([75, 95])\n",
    "    ax.legend(title=False, loc='upper left', ncol=3, frameon=False)\n",
    "    ylim = numbers.drop('model', axis=1).max().max() + 200\n",
    "    ax.set_ylim([0,ylim])\n",
    "    ax.set_xlabel('')\n",
    "    ax.tick_params(axis='x',which='both', bottom=False,top=False)\n",
    "    return ax"
   ]
  },
  {
   "cell_type": "code",
   "execution_count": null,
   "metadata": {},
   "outputs": [],
   "source": []
  }
 ],
 "metadata": {
  "kernelspec": {
   "display_name": "sprg",
   "language": "python",
   "name": "python3"
  },
  "language_info": {
   "codemirror_mode": {
    "name": "ipython",
    "version": 3
   },
   "file_extension": ".py",
   "mimetype": "text/x-python",
   "name": "python",
   "nbconvert_exporter": "python",
   "pygments_lexer": "ipython3",
   "version": "3.10.13"
  }
 },
 "nbformat": 4,
 "nbformat_minor": 2
}
